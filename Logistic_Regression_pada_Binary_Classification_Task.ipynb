{
  "nbformat": 4,
  "nbformat_minor": 0,
  "metadata": {
    "colab": {
      "provenance": [],
      "authorship_tag": "ABX9TyMdRTIEHkrRBq+r1iU44jrc",
      "include_colab_link": true
    },
    "kernelspec": {
      "name": "python3",
      "display_name": "Python 3"
    },
    "language_info": {
      "name": "python"
    }
  },
  "cells": [
    {
      "cell_type": "markdown",
      "metadata": {
        "id": "view-in-github",
        "colab_type": "text"
      },
      "source": [
        "<a href=\"https://colab.research.google.com/github/ihyaulumuddin044/machineLearning/blob/main/Logistic_Regression_pada_Binary_Classification_Task.ipynb\" target=\"_parent\"><img src=\"https://colab.research.google.com/assets/colab-badge.svg\" alt=\"Open In Colab\"/></a>"
      ]
    },
    {
      "cell_type": "markdown",
      "source": [
        "# Logistic Regression pada Binary Classification Task"
      ],
      "metadata": {
        "id": "XEBvWus1j2Qn"
      }
    },
    {
      "cell_type": "markdown",
      "source": [
        "\n",
        "Logistic Regression adalah algoritma yang sering digunakan untuk tugas klasifikasi biner, di mana tujuannya adalah untuk memprediksi salah satu dari dua kelas yang mungkin. Algoritma ini menghasilkan model yang menghubungkan input fitur dengan kemungkinan dari dua kelas output menggunakan fungsi logistik (sigmoid). Logistic Regression sangat sederhana namun efektif dalam banyak kasus, terutama untuk masalah klasifikasi biner."
      ],
      "metadata": {
        "id": "5MZ9SGdMj4XU"
      }
    },
    {
      "cell_type": "code",
      "execution_count": 2,
      "metadata": {
        "id": "mv9i4N1Vjnx9"
      },
      "outputs": [],
      "source": [
        "import numpy as np\n",
        "import pandas as pd\n",
        "from sklearn.model_selection import train_test_split\n",
        "from sklearn.linear_model import LogisticRegression\n",
        "from sklearn.metrics import accuracy_score, confusion_matrix, classification_report\n",
        "\n"
      ]
    },
    {
      "cell_type": "code",
      "source": [
        "from google.colab import drive\n",
        "drive.mount('/content/drive')\n"
      ],
      "metadata": {
        "colab": {
          "base_uri": "https://localhost:8080/"
        },
        "id": "Rv882aCPx8J-",
        "outputId": "b2ae8bc7-88e7-45e4-e2d9-49a1592b94a5"
      },
      "execution_count": 3,
      "outputs": [
        {
          "output_type": "stream",
          "name": "stdout",
          "text": [
            "Mounted at /content/drive\n"
          ]
        }
      ]
    },
    {
      "cell_type": "code",
      "source": [
        "import pandas as pd\n",
        "dataset_path = '/content/drive/My Drive/Dataset_Latihan/sms_spam/SMSSpamCollection'\n",
        "df = pd.read_csv(dataset_path, sep='\\t', header=None, names=['label', 'message'])\n",
        "print(df.head())\n"
      ],
      "metadata": {
        "colab": {
          "base_uri": "https://localhost:8080/"
        },
        "id": "mACYIGpGyoFT",
        "outputId": "d2b79c52-df00-4ea8-e521-74d41e5be3ad"
      },
      "execution_count": 4,
      "outputs": [
        {
          "output_type": "stream",
          "name": "stdout",
          "text": [
            "  label                                            message\n",
            "0   ham  Go until jurong point, crazy.. Available only ...\n",
            "1   ham                      Ok lar... Joking wif u oni...\n",
            "2  spam  Free entry in 2 a wkly comp to win FA Cup fina...\n",
            "3   ham  U dun say so early hor... U c already then say...\n",
            "4   ham  Nah I don't think he goes to usf, he lives aro...\n"
          ]
        }
      ]
    },
    {
      "cell_type": "code",
      "source": [
        "df['label'].value_counts()"
      ],
      "metadata": {
        "colab": {
          "base_uri": "https://localhost:8080/",
          "height": 178
        },
        "id": "ermKsxTS0YUc",
        "outputId": "638dcecd-f31d-43a7-812f-4e40c315d7a6"
      },
      "execution_count": 5,
      "outputs": [
        {
          "output_type": "execute_result",
          "data": {
            "text/plain": [
              "label\n",
              "ham     4825\n",
              "spam     747\n",
              "Name: count, dtype: int64"
            ],
            "text/html": [
              "<div>\n",
              "<style scoped>\n",
              "    .dataframe tbody tr th:only-of-type {\n",
              "        vertical-align: middle;\n",
              "    }\n",
              "\n",
              "    .dataframe tbody tr th {\n",
              "        vertical-align: top;\n",
              "    }\n",
              "\n",
              "    .dataframe thead th {\n",
              "        text-align: right;\n",
              "    }\n",
              "</style>\n",
              "<table border=\"1\" class=\"dataframe\">\n",
              "  <thead>\n",
              "    <tr style=\"text-align: right;\">\n",
              "      <th></th>\n",
              "      <th>count</th>\n",
              "    </tr>\n",
              "    <tr>\n",
              "      <th>label</th>\n",
              "      <th></th>\n",
              "    </tr>\n",
              "  </thead>\n",
              "  <tbody>\n",
              "    <tr>\n",
              "      <th>ham</th>\n",
              "      <td>4825</td>\n",
              "    </tr>\n",
              "    <tr>\n",
              "      <th>spam</th>\n",
              "      <td>747</td>\n",
              "    </tr>\n",
              "  </tbody>\n",
              "</table>\n",
              "</div><br><label><b>dtype:</b> int64</label>"
            ]
          },
          "metadata": {},
          "execution_count": 5
        }
      ]
    },
    {
      "cell_type": "markdown",
      "source": [
        "# preposesing data menggunkan Binarizer"
      ],
      "metadata": {
        "id": "wY1QN3732NIE"
      }
    },
    {
      "cell_type": "code",
      "source": [
        "from sklearn.preprocessing import LabelBinarizer\n",
        "\n",
        "x=df['message'].values\n",
        "y=df['label'].values\n",
        "\n",
        "lb = LabelBinarizer()\n",
        "y = lb.fit_transform(y).ravel()\n",
        "\n",
        "lb.classes_\n"
      ],
      "metadata": {
        "colab": {
          "base_uri": "https://localhost:8080/"
        },
        "id": "DanIoGwl2abz",
        "outputId": "86201b0b-da8f-41d5-bf3f-64cfaa2cdf27"
      },
      "execution_count": 6,
      "outputs": [
        {
          "output_type": "execute_result",
          "data": {
            "text/plain": [
              "array(['ham', 'spam'], dtype='<U4')"
            ]
          },
          "metadata": {},
          "execution_count": 6
        }
      ]
    },
    {
      "cell_type": "markdown",
      "source": [
        "#split data"
      ],
      "metadata": {
        "id": "O2UojjHw2_1V"
      }
    },
    {
      "cell_type": "code",
      "source": [
        "from sklearn.model_selection import train_test_split\n",
        "\n",
        "\n",
        "x_train, x_test, y_train, y_test = train_test_split(x, y, test_size=0.25, random_state=0)\n",
        "\n",
        "print(x_train, '\\n')\n",
        "print(y_train)"
      ],
      "metadata": {
        "colab": {
          "base_uri": "https://localhost:8080/"
        },
        "id": "Sut81BJ63C0O",
        "outputId": "3cadb4d7-f28b-4dcf-f280-872905c7a6ee"
      },
      "execution_count": 13,
      "outputs": [
        {
          "output_type": "stream",
          "name": "stdout",
          "text": [
            "['Its going good...no problem..but still need little experience to understand american customer voice...'\n",
            " 'U have a secret admirer. REVEAL who thinks U R So special. Call 09065174042. To opt out Reply REVEAL STOP. 1.50 per msg recd. Cust care 07821230901'\n",
            " 'Ok...' ...\n",
            " \"For ur chance to win a £250 cash every wk TXT: ACTION to 80608. T's&C's www.movietrivia.tv custcare 08712405022, 1x150p/wk\"\n",
            " 'R U &SAM P IN EACHOTHER. IF WE MEET WE CAN GO 2 MY HOUSE'\n",
            " 'Mm feeling sleepy. today itself i shall get that dear'] \n",
            "\n",
            "[0 1 0 ... 1 0 0]\n"
          ]
        }
      ]
    },
    {
      "cell_type": "markdown",
      "source": [
        "# ektraksi fitur dengan TF-IDF"
      ],
      "metadata": {
        "id": "11FXqT7q4SO3"
      }
    },
    {
      "cell_type": "code",
      "source": [
        "from sklearn.feature_extraction.text import TfidfVectorizer\n",
        "\n",
        "vectorizer = TfidfVectorizer(stop_words='english')\n",
        "x_train_tfidf = vectorizer.fit_transform(x_train)\n",
        "x_test_tfidf = vectorizer.transform(x_test)\n",
        "\n",
        "print(x_train_tfidf)"
      ],
      "metadata": {
        "colab": {
          "base_uri": "https://localhost:8080/"
        },
        "id": "tN-Ox-Bx4ZLi",
        "outputId": "29b57efa-0a61-442d-bf81-9be2a03c6926"
      },
      "execution_count": 15,
      "outputs": [
        {
          "output_type": "stream",
          "name": "stdout",
          "text": [
            "  (0, 2997)\t0.23173982975834367\n",
            "  (0, 3007)\t0.21421364306658514\n",
            "  (0, 5123)\t0.308974289326673\n",
            "  (0, 4453)\t0.2297719954323795\n",
            "  (0, 3926)\t0.3126721340000456\n",
            "  (0, 2554)\t0.3825278811525034\n",
            "  (0, 6739)\t0.3546359942830148\n",
            "  (0, 900)\t0.4114867709157148\n",
            "  (0, 2006)\t0.2898082580285881\n",
            "  (0, 6903)\t0.3591386422223876\n",
            "  (1, 5642)\t0.24344998442301355\n",
            "  (1, 799)\t0.25048918791028574\n",
            "  (1, 5441)\t0.5009783758205715\n",
            "  (1, 6472)\t0.24039776602646504\n",
            "  (1, 6013)\t0.20089911182610476\n",
            "  (1, 216)\t0.28902673040368515\n",
            "  (1, 4677)\t0.24039776602646504\n",
            "  (1, 5394)\t0.16464655071448758\n",
            "  (1, 6131)\t0.16142609035094446\n",
            "  (1, 532)\t0.20186022353306565\n",
            "  (1, 4358)\t0.17341410292348694\n",
            "  (1, 5301)\t0.2711077935907125\n",
            "  (1, 2003)\t0.2711077935907125\n",
            "  (1, 1548)\t0.18167737976542422\n",
            "  (1, 36)\t0.28902673040368515\n",
            "  :\t:\n",
            "  (4176, 6792)\t0.1407604617250961\n",
            "  (4176, 6693)\t0.16491299289150899\n",
            "  (4176, 6684)\t0.22114159453800114\n",
            "  (4176, 7083)\t0.19523751585154273\n",
            "  (4176, 1569)\t0.18895085073406012\n",
            "  (4176, 7195)\t0.17892283441772988\n",
            "  (4176, 779)\t0.2811068572055718\n",
            "  (4176, 1612)\t0.21138425595332702\n",
            "  (4176, 365)\t0.2388005587702937\n",
            "  (4176, 7114)\t0.4512018097459442\n",
            "  (4176, 637)\t0.29968668460649284\n",
            "  (4176, 4350)\t0.29968668460649284\n",
            "  (4176, 2004)\t0.25589560236817055\n",
            "  (4176, 107)\t0.29968668460649284\n",
            "  (4176, 343)\t0.2811068572055718\n",
            "  (4177, 3319)\t0.43046342221720785\n",
            "  (4177, 4177)\t0.3636187667918345\n",
            "  (4177, 5565)\t0.5506066649743346\n",
            "  (4177, 2362)\t0.6158854885899457\n",
            "  (4178, 2068)\t0.3055766821331892\n",
            "  (4178, 2641)\t0.3993042639531407\n",
            "  (4178, 6555)\t0.2897850627168302\n",
            "  (4178, 5720)\t0.3963527249882828\n",
            "  (4178, 4279)\t0.4530624713751054\n",
            "  (4178, 5883)\t0.548491137555895\n"
          ]
        }
      ]
    },
    {
      "cell_type": "markdown",
      "source": [
        "#Binary classification dengan logistic regression"
      ],
      "metadata": {
        "id": "d0k9Tw_m6QNf"
      }
    },
    {
      "cell_type": "code",
      "source": [
        "from sklearn.linear_model import LogisticRegression\n",
        "\n",
        "model = LogisticRegression()\n",
        "model.fit(x_train_tfidf, y_train)\n",
        "y_pred = model.predict(x_test_tfidf)\n",
        "\n",
        "for pred, sms in zip(y_pred[:5], x_test[:5]):\n",
        "  print(f'Prediksi: {pred}, SMS: {sms}\\n')"
      ],
      "metadata": {
        "colab": {
          "base_uri": "https://localhost:8080/"
        },
        "id": "biUDZMEh6YaY",
        "outputId": "fd35f2f8-76c7-4ef3-d762-62cde50561df"
      },
      "execution_count": 17,
      "outputs": [
        {
          "output_type": "stream",
          "name": "stdout",
          "text": [
            "Prediksi: 0, SMS: Storming msg: Wen u lift d phne, u say \"HELLO\" Do u knw wt is d real meaning of HELLO?? . . . It's d name of a girl..! . . . Yes.. And u knw who is dat girl?? \"Margaret Hello\" She is d girlfrnd f Grahmbell who invnted telphone... . . . . Moral:One can 4get d name of a person, bt not his girlfrnd... G o o d n i g h t . . .@\n",
            "\n",
            "Prediksi: 0, SMS: <Forwarded from 448712404000>Please CALL 08712404000 immediately as there is an urgent message waiting for you.\n",
            "\n",
            "Prediksi: 0, SMS: And also I've sorta blown him off a couple times recently so id rather not text him out of the blue looking for weed\n",
            "\n",
            "Prediksi: 0, SMS: Sir Goodmorning, Once free call me.\n",
            "\n",
            "Prediksi: 0, SMS: All will come alive.better correct any good looking figure there itself..\n",
            "\n"
          ]
        }
      ]
    },
    {
      "cell_type": "markdown",
      "source": [
        "# evaluasi matrik pada binary classification"
      ],
      "metadata": {
        "id": "ck2SfLe67XLI"
      }
    },
    {
      "cell_type": "code",
      "source": [],
      "metadata": {
        "id": "PDU0bXS37jfy"
      },
      "execution_count": null,
      "outputs": []
    }
  ]
}