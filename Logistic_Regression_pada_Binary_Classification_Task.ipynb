{
  "nbformat": 4,
  "nbformat_minor": 0,
  "metadata": {
    "colab": {
      "provenance": [],
      "authorship_tag": "ABX9TyNyZKZgXMjrSD7FFMw64i50",
      "include_colab_link": true
    },
    "kernelspec": {
      "name": "python3",
      "display_name": "Python 3"
    },
    "language_info": {
      "name": "python"
    }
  },
  "cells": [
    {
      "cell_type": "markdown",
      "metadata": {
        "id": "view-in-github",
        "colab_type": "text"
      },
      "source": [
        "<a href=\"https://colab.research.google.com/github/ihyaulumuddin044/machineLearning/blob/main/Logistic_Regression_pada_Binary_Classification_Task.ipynb\" target=\"_parent\"><img src=\"https://colab.research.google.com/assets/colab-badge.svg\" alt=\"Open In Colab\"/></a>"
      ]
    },
    {
      "cell_type": "markdown",
      "source": [
        "# Logistic Regression pada Binary Classification Task"
      ],
      "metadata": {
        "id": "XEBvWus1j2Qn"
      }
    },
    {
      "cell_type": "markdown",
      "source": [
        "\n",
        "Logistic Regression adalah algoritma yang sering digunakan untuk tugas klasifikasi biner, di mana tujuannya adalah untuk memprediksi salah satu dari dua kelas yang mungkin. Algoritma ini menghasilkan model yang menghubungkan input fitur dengan kemungkinan dari dua kelas output menggunakan fungsi logistik (sigmoid). Logistic Regression sangat sederhana namun efektif dalam banyak kasus, terutama untuk masalah klasifikasi biner."
      ],
      "metadata": {
        "id": "5MZ9SGdMj4XU"
      }
    },
    {
      "cell_type": "code",
      "execution_count": 2,
      "metadata": {
        "colab": {
          "base_uri": "https://localhost:8080/"
        },
        "id": "mv9i4N1Vjnx9",
        "outputId": "bc9b7770-519a-44b5-869f-0f4ab8348cc4"
      },
      "outputs": [
        {
          "output_type": "stream",
          "name": "stdout",
          "text": [
            "Akurasi Model: 0.6666666666666666\n",
            "Matriks Kebingungan:\n",
            " [[1 1]\n",
            " [0 1]]\n",
            "Laporan Klasifikasi:\n",
            "               precision    recall  f1-score   support\n",
            "\n",
            "           0       1.00      0.50      0.67         2\n",
            "           1       0.50      1.00      0.67         1\n",
            "\n",
            "    accuracy                           0.67         3\n",
            "   macro avg       0.75      0.75      0.67         3\n",
            "weighted avg       0.83      0.67      0.67         3\n",
            "\n"
          ]
        }
      ],
      "source": [
        "import numpy as np\n",
        "import pandas as pd\n",
        "from sklearn.model_selection import train_test_split\n",
        "from sklearn.linear_model import LogisticRegression\n",
        "from sklearn.metrics import accuracy_score, confusion_matrix, classification_report\n",
        "\n",
        "# Data contoh: usia dan pendapatan\n",
        "data = {\n",
        "    'Age': [22, 25, 47, 52, 46, 56, 55, 23, 35, 42],\n",
        "    'Income': [20000, 25000, 50000, 60000, 45000, 70000, 65000, 24000, 39000, 55000],\n",
        "    'Purchased': [0, 0, 1, 1, 1, 1, 1, 0, 0, 1]  # 0: Tidak beli, 1: Beli\n",
        "}\n",
        "\n",
        "df = pd.DataFrame(data)\n",
        "\n",
        "# Pisahkan fitur dan target\n",
        "X = df[['Age', 'Income']]  # Fitur\n",
        "y = df['Purchased']        # Target\n",
        "\n",
        "# Pisahkan data menjadi training set dan test set\n",
        "X_train, X_test, y_train, y_test = train_test_split(X, y, test_size=0.3, random_state=42)\n",
        "\n",
        "# Inisialisasi dan latih model Logistic Regression\n",
        "model = LogisticRegression()\n",
        "model.fit(X_train, y_train)\n",
        "\n",
        "# Prediksi pada data uji\n",
        "y_pred = model.predict(X_test)\n",
        "\n",
        "# Evaluasi model\n",
        "print(\"Akurasi Model:\", accuracy_score(y_test, y_pred))\n",
        "print(\"Matriks Kebingungan:\\n\", confusion_matrix(y_test, y_pred))\n",
        "print(\"Laporan Klasifikasi:\\n\", classification_report(y_test, y_pred))\n"
      ]
    }
  ]
}