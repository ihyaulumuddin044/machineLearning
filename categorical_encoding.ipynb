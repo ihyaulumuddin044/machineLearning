{
  "nbformat": 4,
  "nbformat_minor": 0,
  "metadata": {
    "colab": {
      "provenance": [],
      "authorship_tag": "ABX9TyNGGqrmEXJ+4tfevFKGIrWC",
      "include_colab_link": true
    },
    "kernelspec": {
      "name": "python3",
      "display_name": "Python 3"
    },
    "language_info": {
      "name": "python"
    }
  },
  "cells": [
    {
      "cell_type": "markdown",
      "metadata": {
        "id": "view-in-github",
        "colab_type": "text"
      },
      "source": [
        "<a href=\"https://colab.research.google.com/github/ihyaulumuddin044/machineLearning/blob/main/categorical_encoding.ipynb\" target=\"_parent\"><img src=\"https://colab.research.google.com/assets/colab-badge.svg\" alt=\"Open In Colab\"/></a>"
      ]
    },
    {
      "cell_type": "markdown",
      "source": [
        "#mengenal lable Encoding & one hot Enciding"
      ],
      "metadata": {
        "id": "AicmF36J8fwN"
      }
    },
    {
      "cell_type": "markdown",
      "source": [
        "pada lable Encoding, setiap kategori pada setiap kategori feature akan di urutkan secara alfabet dan di presentasikan dengan sebuah nilai integer"
      ],
      "metadata": {
        "id": "62hHnzZE91Nt"
      }
    },
    {
      "cell_type": "code",
      "execution_count": 6,
      "metadata": {
        "id": "RL3dFtuT-C8y",
        "colab": {
          "base_uri": "https://localhost:8080/"
        },
        "outputId": "79995ad4-8af9-472d-d881-cd58856c0ee3"
      },
      "outputs": [
        {
          "output_type": "execute_result",
          "data": {
            "text/plain": [
              "{'country': ['India', 'US', 'Japan', 'US', 'Japan'],\n",
              " 'age': [44, 34, 46, 35, 23],\n",
              " 'salary': [72000, 65000, 98000, 45000, 34000]}"
            ]
          },
          "metadata": {},
          "execution_count": 6
        }
      ],
      "source": [
        "import pandas as pd\n",
        "\n",
        "df = ({\n",
        "    'country':['India','US','Japan','US','Japan'],\n",
        "    'age': [44, 34, 46, 35,23],\n",
        "    'salary': [72000, 65000, 98000, 45000, 34000]\n",
        "})\n",
        "\n",
        "df\n",
        "# print(f'data:{df}')"
      ]
    }
  ]
}