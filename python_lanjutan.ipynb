{
  "nbformat": 4,
  "nbformat_minor": 0,
  "metadata": {
    "colab": {
      "provenance": [],
      "toc_visible": true,
      "authorship_tag": "ABX9TyOkTIcK4oMeOZ4R89wiaDjU",
      "include_colab_link": true
    },
    "kernelspec": {
      "name": "python3",
      "display_name": "Python 3"
    },
    "language_info": {
      "name": "python"
    }
  },
  "cells": [
    {
      "cell_type": "markdown",
      "metadata": {
        "id": "view-in-github",
        "colab_type": "text"
      },
      "source": [
        "<a href=\"https://colab.research.google.com/github/ihyaulumuddin044/machineLearning/blob/main/python_lanjutan.ipynb\" target=\"_parent\"><img src=\"https://colab.research.google.com/assets/colab-badge.svg\" alt=\"Open In Colab\"/></a>"
      ]
    },
    {
      "cell_type": "code",
      "execution_count": null,
      "metadata": {
        "id": "pPi0nL88veWn"
      },
      "outputs": [],
      "source": [
        "# tujuan untuk dapat memahami sepenuhnya bukan hanya bisa!\n",
        "\n",
        "\n"
      ]
    },
    {
      "cell_type": "markdown",
      "source": [
        "# variable dalam python\n"
      ],
      "metadata": {
        "id": "g1x4HXlQD39b"
      }
    },
    {
      "cell_type": "code",
      "source": [
        "nama = \"Budi\"  # String\n",
        "umur = 25      # Integer\n",
        "tinggi = 170.5 # Float\n",
        "is_student = True  # Boolean"
      ],
      "metadata": {
        "id": "JfJSw8tTFfP0"
      },
      "execution_count": 1,
      "outputs": []
    },
    {
      "cell_type": "code",
      "source": [
        "print(nama)\n",
        "print(umur)\n",
        "print(tinggi)\n",
        "print(is_student)"
      ],
      "metadata": {
        "colab": {
          "base_uri": "https://localhost:8080/"
        },
        "id": "AtK30-qiGPwL",
        "outputId": "c0112e6d-b31e-4bcd-e63b-9381abcbb37c"
      },
      "execution_count": 4,
      "outputs": [
        {
          "output_type": "stream",
          "name": "stdout",
          "text": [
            "Budi\n",
            "25\n",
            "170.5\n",
            "True\n"
          ]
        }
      ]
    },
    {
      "cell_type": "code",
      "source": [
        "x = 10\n",
        "print(x)\n",
        "\n",
        "\n"
      ],
      "metadata": {
        "colab": {
          "base_uri": "https://localhost:8080/"
        },
        "id": "FSdQj4AyGuxN",
        "outputId": "d5afc6d1-105e-4b57-8679-96d91a97eb62"
      },
      "execution_count": 5,
      "outputs": [
        {
          "output_type": "stream",
          "name": "stdout",
          "text": [
            "10\n"
          ]
        }
      ]
    },
    {
      "cell_type": "code",
      "source": [
        "int(2)"
      ],
      "metadata": {
        "colab": {
          "base_uri": "https://localhost:8080/"
        },
        "id": "ScAgwM-fJJZe",
        "outputId": "acb72b43-38fb-45b5-f0c7-2482cbbc2505"
      },
      "execution_count": 9,
      "outputs": [
        {
          "output_type": "execute_result",
          "data": {
            "text/plain": [
              "2"
            ]
          },
          "metadata": {},
          "execution_count": 9
        }
      ]
    }
  ]
}