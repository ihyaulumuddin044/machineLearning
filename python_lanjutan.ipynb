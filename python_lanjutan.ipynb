{
  "nbformat": 4,
  "nbformat_minor": 0,
  "metadata": {
    "colab": {
      "provenance": [],
      "toc_visible": true,
      "authorship_tag": "ABX9TyOUwQzBcAhz1CH7+ynao3oW",
      "include_colab_link": true
    },
    "kernelspec": {
      "name": "python3",
      "display_name": "Python 3"
    },
    "language_info": {
      "name": "python"
    }
  },
  "cells": [
    {
      "cell_type": "markdown",
      "metadata": {
        "id": "view-in-github",
        "colab_type": "text"
      },
      "source": [
        "<a href=\"https://colab.research.google.com/github/ihyaulumuddin044/machineLearning/blob/main/python_lanjutan.ipynb\" target=\"_parent\"><img src=\"https://colab.research.google.com/assets/colab-badge.svg\" alt=\"Open In Colab\"/></a>"
      ]
    },
    {
      "cell_type": "code",
      "execution_count": 1,
      "metadata": {
        "id": "pPi0nL88veWn"
      },
      "outputs": [],
      "source": [
        "# tujuan untuk dapat memahami sepenuhnya bukan hanya bisa!\n",
        "\n",
        "\n"
      ]
    },
    {
      "cell_type": "markdown",
      "source": [
        "# variable dalam python\n"
      ],
      "metadata": {
        "id": "g1x4HXlQD39b"
      }
    },
    {
      "cell_type": "code",
      "source": [
        "nama = \"Budi\"  # String\n",
        "umur = 25      # Integer\n",
        "tinggi = 170.5 # Float\n",
        "is_student = True  # Boolean"
      ],
      "metadata": {
        "id": "JfJSw8tTFfP0"
      },
      "execution_count": 2,
      "outputs": []
    },
    {
      "cell_type": "code",
      "source": [
        "print(nama)\n",
        "print(umur)\n",
        "print(tinggi)\n",
        "print(is_student)"
      ],
      "metadata": {
        "colab": {
          "base_uri": "https://localhost:8080/"
        },
        "id": "AtK30-qiGPwL",
        "outputId": "f3a72640-1e94-4433-f80d-f5f33749d425"
      },
      "execution_count": 3,
      "outputs": [
        {
          "output_type": "stream",
          "name": "stdout",
          "text": [
            "Budi\n",
            "25\n",
            "170.5\n",
            "True\n"
          ]
        }
      ]
    },
    {
      "cell_type": "code",
      "source": [
        "x = 10\n",
        "print(x)\n",
        "\n",
        "\n"
      ],
      "metadata": {
        "colab": {
          "base_uri": "https://localhost:8080/"
        },
        "id": "FSdQj4AyGuxN",
        "outputId": "5d10f3ab-6c8c-4bbb-e520-7b830d6ce631"
      },
      "execution_count": 4,
      "outputs": [
        {
          "output_type": "stream",
          "name": "stdout",
          "text": [
            "10\n"
          ]
        }
      ]
    },
    {
      "cell_type": "code",
      "source": [
        "int(2)"
      ],
      "metadata": {
        "colab": {
          "base_uri": "https://localhost:8080/"
        },
        "id": "ScAgwM-fJJZe",
        "outputId": "23308fd0-7a65-4c66-8fd7-3bb6e1ab4097"
      },
      "execution_count": 5,
      "outputs": [
        {
          "output_type": "execute_result",
          "data": {
            "text/plain": [
              "2"
            ]
          },
          "metadata": {},
          "execution_count": 5
        }
      ]
    },
    {
      "cell_type": "code",
      "source": [
        "# operator matematika\n",
        "a = 10\n",
        "b = 3\n",
        "\n",
        "hasil_penjumlahan = a + b\n",
        "hasil_pengurangan = a - b\n",
        "hasil_perkalian = a * b\n",
        "hasil_pembagian = a / b\n",
        "hasil_modulus = a % b\n",
        "hasil_pangkat = a ** b\n"
      ],
      "metadata": {
        "id": "qhow7kPT8xLE"
      },
      "execution_count": 9,
      "outputs": []
    },
    {
      "cell_type": "code",
      "source": [
        "x = 10\n",
        "y = 25\n",
        "\n",
        "if x > 3 and y > 13:\n",
        "     print(\"Both conditions are correct\")\n",
        "\n",
        "if x <= 3 or y <= 13:\n",
        "    print(\"At least one of the conditions is false\")\n",
        "\n"
      ],
      "metadata": {
        "id": "_g-9g_BMBfyP",
        "outputId": "746ddc9e-2817-40b8-a0aa-47f0e609aa1b",
        "colab": {
          "base_uri": "https://localhost:8080/"
        }
      },
      "execution_count": 18,
      "outputs": [
        {
          "output_type": "stream",
          "name": "stdout",
          "text": [
            "Both conditions are correct\n"
          ]
        }
      ]
    }
  ]
}