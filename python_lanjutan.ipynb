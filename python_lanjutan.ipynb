{
  "nbformat": 4,
  "nbformat_minor": 0,
  "metadata": {
    "colab": {
      "provenance": [],
      "toc_visible": true,
      "authorship_tag": "ABX9TyPwitbCERCcTtkLSDrzcrXf",
      "include_colab_link": true
    },
    "kernelspec": {
      "name": "python3",
      "display_name": "Python 3"
    },
    "language_info": {
      "name": "python"
    }
  },
  "cells": [
    {
      "cell_type": "markdown",
      "metadata": {
        "id": "view-in-github",
        "colab_type": "text"
      },
      "source": [
        "<a href=\"https://colab.research.google.com/github/ihyaulumuddin044/machineLearning/blob/main/python_lanjutan.ipynb\" target=\"_parent\"><img src=\"https://colab.research.google.com/assets/colab-badge.svg\" alt=\"Open In Colab\"/></a>"
      ]
    },
    {
      "cell_type": "code",
      "execution_count": null,
      "metadata": {
        "id": "pPi0nL88veWn"
      },
      "outputs": [],
      "source": [
        "# tujuan untuk dapat memahami sepenuhnya bukan hanya bisa!\n",
        "\n",
        "\n"
      ]
    },
    {
      "cell_type": "markdown",
      "source": [
        "# variable dalam python\n"
      ],
      "metadata": {
        "id": "g1x4HXlQD39b"
      }
    },
    {
      "cell_type": "code",
      "source": [
        "nama = \"Budi\"  # String\n",
        "umur = 25      # Integer\n",
        "tinggi = 170.5 # Float\n",
        "is_student = True  # Boolean"
      ],
      "metadata": {
        "id": "JfJSw8tTFfP0"
      },
      "execution_count": null,
      "outputs": []
    },
    {
      "cell_type": "code",
      "source": [
        "print(nama)\n",
        "print(umur)\n",
        "print(tinggi)\n",
        "print(is_student)"
      ],
      "metadata": {
        "colab": {
          "base_uri": "https://localhost:8080/"
        },
        "id": "AtK30-qiGPwL",
        "outputId": "f3a72640-1e94-4433-f80d-f5f33749d425"
      },
      "execution_count": null,
      "outputs": [
        {
          "output_type": "stream",
          "name": "stdout",
          "text": [
            "Budi\n",
            "25\n",
            "170.5\n",
            "True\n"
          ]
        }
      ]
    },
    {
      "cell_type": "code",
      "source": [
        "x = 10\n",
        "print(x)\n",
        "\n",
        "\n"
      ],
      "metadata": {
        "colab": {
          "base_uri": "https://localhost:8080/"
        },
        "id": "FSdQj4AyGuxN",
        "outputId": "5d10f3ab-6c8c-4bbb-e520-7b830d6ce631"
      },
      "execution_count": null,
      "outputs": [
        {
          "output_type": "stream",
          "name": "stdout",
          "text": [
            "10\n"
          ]
        }
      ]
    },
    {
      "cell_type": "code",
      "source": [
        "int(2)"
      ],
      "metadata": {
        "colab": {
          "base_uri": "https://localhost:8080/"
        },
        "id": "ScAgwM-fJJZe",
        "outputId": "23308fd0-7a65-4c66-8fd7-3bb6e1ab4097"
      },
      "execution_count": null,
      "outputs": [
        {
          "output_type": "execute_result",
          "data": {
            "text/plain": [
              "2"
            ]
          },
          "metadata": {},
          "execution_count": 5
        }
      ]
    },
    {
      "cell_type": "code",
      "source": [
        "# operator matematika\n",
        "a = 10\n",
        "b = 3\n",
        "\n",
        "hasil_penjumlahan = a + b\n",
        "hasil_pengurangan = a - b\n",
        "hasil_perkalian = a * b\n",
        "hasil_pembagian = a / b\n",
        "hasil_modulus = a % b\n",
        "hasil_pangkat = a ** b\n"
      ],
      "metadata": {
        "id": "qhow7kPT8xLE"
      },
      "execution_count": null,
      "outputs": []
    },
    {
      "cell_type": "code",
      "source": [
        "x = 10\n",
        "y = 25\n",
        "\n",
        "if x > 3 and y > 13:\n",
        "     print(\"Both conditions are correct\")\n",
        "\n",
        "if x <= 3 or y <= 13:\n",
        "    print(\"At least one of the conditions is false\")\n",
        "\n"
      ],
      "metadata": {
        "colab": {
          "base_uri": "https://localhost:8080/"
        },
        "id": "_g-9g_BMBfyP",
        "outputId": "746ddc9e-2817-40b8-a0aa-47f0e609aa1b"
      },
      "execution_count": null,
      "outputs": [
        {
          "output_type": "stream",
          "name": "stdout",
          "text": [
            "Both conditions are correct\n"
          ]
        }
      ]
    },
    {
      "cell_type": "markdown",
      "source": [
        "# Perulangan denga for loop dan while loop"
      ],
      "metadata": {
        "id": "Zlwcnwhgwxla"
      }
    },
    {
      "cell_type": "code",
      "source": [
        "nama = list(\"kacang\")\n",
        "for i in  nama:\n",
        "    print(i)\n",
        "\n",
        "print(f' \\njumlah huruf: {len(nama)}')\n"
      ],
      "metadata": {
        "colab": {
          "base_uri": "https://localhost:8080/"
        },
        "id": "eS37aIJ5u5FY",
        "outputId": "fa9af418-5d72-422b-ccce-0bc4ecd52360"
      },
      "execution_count": null,
      "outputs": [
        {
          "output_type": "stream",
          "name": "stdout",
          "text": [
            "k\n",
            "a\n",
            "c\n",
            "a\n",
            "n\n",
            "g\n",
            " \n",
            "jumlah huruf: 6\n"
          ]
        }
      ]
    },
    {
      "cell_type": "code",
      "source": [
        "numbers = [1, 2, 3, 4, 5,6,7]\n",
        "\n",
        "for num in numbers:\n",
        "    if num == 6:\n",
        "        print(\"Angka ditemukan! Program berhenti!\")\n",
        "        break\n",
        "else:\n",
        "    print(\"Angka tidak ditemukan.\")\n",
        "\n"
      ],
      "metadata": {
        "colab": {
          "base_uri": "https://localhost:8080/"
        },
        "id": "jtRRi72eww-L",
        "outputId": "a8fae626-4349-4180-9a5a-099701642ffa"
      },
      "execution_count": null,
      "outputs": [
        {
          "output_type": "stream",
          "name": "stdout",
          "text": [
            "Angka ditemukan! Program berhenti!\n"
          ]
        }
      ]
    },
    {
      "cell_type": "code",
      "source": [
        "n = 0\n",
        "for n in range(10):\n",
        "  print(n)"
      ],
      "metadata": {
        "colab": {
          "base_uri": "https://localhost:8080/"
        },
        "id": "jhS4j_Rmy_Zz",
        "outputId": "adc53b05-1cbd-437c-ea0e-991d25c8d351"
      },
      "execution_count": null,
      "outputs": [
        {
          "output_type": "stream",
          "name": "stdout",
          "text": [
            "0\n",
            "1\n",
            "2\n",
            "3\n",
            "4\n",
            "5\n",
            "6\n",
            "7\n",
            "8\n",
            "9\n"
          ]
        }
      ]
    },
    {
      "cell_type": "code",
      "source": [
        "nilai = 68\n",
        "if nilai>=80:\n",
        "    print(\"Selamat! Anda mendapat nilai A\")\n",
        "elif nilai>=60:\n",
        "    print(\"Hmm.. Anda mendapat nilai B\")\n",
        "else:\n",
        "    print(\"Waduh, Anda mendapat nilai C\")"
      ],
      "metadata": {
        "colab": {
          "base_uri": "https://localhost:8080/"
        },
        "id": "X3mxMyaA3JCE",
        "outputId": "6a96c5ff-4abb-4186-974b-295f099e237a"
      },
      "execution_count": null,
      "outputs": [
        {
          "output_type": "stream",
          "name": "stdout",
          "text": [
            "Hmm.. Anda mendapat nilai B\n"
          ]
        }
      ]
    },
    {
      "cell_type": "code",
      "source": [
        "var_gw = [\"@\" for i in range(10)]\n",
        "print(var_gw)"
      ],
      "metadata": {
        "colab": {
          "base_uri": "https://localhost:8080/"
        },
        "id": "Y6i6bCMw681Z",
        "outputId": "b6b6ffb5-5892-467e-95d1-2e1104f09e51"
      },
      "execution_count": null,
      "outputs": [
        {
          "output_type": "stream",
          "name": "stdout",
          "text": [
            "['@', '@', '@', '@', '@', '@', '@', '@', '@', '@']\n"
          ]
        }
      ]
    },
    {
      "cell_type": "code",
      "source": [
        "#  Bubble sort\n",
        "numbers = [3, 2, 5, 6, 7, 1]\n",
        "\n",
        "# Bubble Sort dari besar ke kecil\n",
        "n = len(numbers)\n",
        "for i in range(n - 1):\n",
        "    for j in range(n - 1 - i):\n",
        "        if numbers[j] < numbers[j + 1]:  # Tukar jika angka lebih kecil\n",
        "            numbers[j], numbers[j + 1] = numbers[j + 1], numbers[j]\n",
        "\n",
        "print(numbers)  # Output: [7, 6, 5, 3, 2, 1]\n",
        "\n",
        "\n",
        "numbers = [3, 2, 5, 6, 7, 1]\n",
        "\n",
        "# Bubble Sort dari kecil ke besar\n",
        "n = len(numbers)\n",
        "for i in range(n - 1):\n",
        "    for j in range(n - 1 - i):\n",
        "        if numbers[j] > numbers[j + 1]:  # Tukar jika angka lebih besar\n",
        "            numbers[j], numbers[j + 1] = numbers[j + 1], numbers[j]\n",
        "\n",
        "print(numbers)  # Output: [1, 2, 3, 5, 6, 7]\n"
      ],
      "metadata": {
        "colab": {
          "base_uri": "https://localhost:8080/"
        },
        "id": "yiUOBn-N8t2v",
        "outputId": "3367af7a-1144-42c1-c053-f294355ecfef"
      },
      "execution_count": null,
      "outputs": [
        {
          "output_type": "stream",
          "name": "stdout",
          "text": [
            "[7, 6, 5, 3, 2, 1]\n",
            "[1, 2, 3, 5, 6, 7]\n"
          ]
        }
      ]
    },
    {
      "cell_type": "code",
      "source": [
        "def rectangle_info(length, widht):\n",
        "    mult = length * widht\n",
        "    print(\"result: \")\n",
        "    return mult\n",
        "\n",
        "rectangle_info(2,10)"
      ],
      "metadata": {
        "id": "cbHAGN3e88g2",
        "colab": {
          "base_uri": "https://localhost:8080/"
        },
        "outputId": "f749b519-59ea-48b6-e66b-27b94a16782a"
      },
      "execution_count": null,
      "outputs": [
        {
          "output_type": "stream",
          "name": "stdout",
          "text": [
            "result: \n"
          ]
        },
        {
          "output_type": "execute_result",
          "data": {
            "text/plain": [
              "20"
            ]
          },
          "metadata": {},
          "execution_count": 1
        }
      ]
    },
    {
      "cell_type": "code",
      "source": [
        "def rectangle_info(length, width):\n",
        "    area = length * width\n",
        "    perimeter = 2 * (length + width)\n",
        "    return area, perimeter\n",
        "\n",
        "result = rectangle_info(2,10)\n",
        "print(f'area: {result[0]}')\n",
        "print(f'perimeter: {result[1]}')"
      ],
      "metadata": {
        "colab": {
          "base_uri": "https://localhost:8080/"
        },
        "id": "Y_i-RBP6W4v5",
        "outputId": "ae7fffcd-5d20-46b0-9e79-bdbc47929a61"
      },
      "execution_count": null,
      "outputs": [
        {
          "output_type": "stream",
          "name": "stdout",
          "text": [
            "area: 20\n",
            "perimeter: 24\n"
          ]
        }
      ]
    },
    {
      "cell_type": "markdown",
      "source": [
        "# Dicnionary"
      ],
      "metadata": {
        "id": "9PW-R3axX3sR"
      }
    },
    {
      "cell_type": "code",
      "source": [
        "# prompt: buakan aku dictionary dan cara mengaksesnya\n",
        "\n",
        "# Dictionary dalam Python\n",
        "\n",
        "# Membuat dictionary\n",
        "my_dict = {\n",
        "    \"nama\": \"Budi\",\n",
        "    \"umur\": 25,\n",
        "    \"kota\": \"Jakarta\"\n",
        "}\n",
        "\n",
        "# Mengakses nilai dalam dictionary\n",
        "print(my_dict[\"nama\"])  # Output: Budi\n",
        "print(my_dict[\"umur\"])  # Output: 25\n",
        "print(my_dict.get(\"kota\")) # Output: Jakarta\n",
        "\n",
        "# Menambahkan entri baru\n",
        "my_dict[\"pekerjaan\"] = \"Programmer\"\n",
        "print(my_dict) # Output: {'nama': 'Budi', 'umur': 25, 'kota': 'Jakarta', 'pekerjaan': 'Programmer'}\n",
        "\n",
        "# Mengubah nilai yang sudah ada\n",
        "my_dict[\"umur\"] = 26\n",
        "print(my_dict) # Output: {'nama': 'Budi', 'umur': 26, 'kota': 'Jakarta', 'pekerjaan': 'Programmer'}\n",
        "\n",
        "\n",
        "# Menghapus entri\n",
        "del my_dict[\"kota\"]\n",
        "print(my_dict) # Output: {'nama': 'Budi', 'umur': 26, 'pekerjaan': 'Programmer'}\n",
        "\n",
        "# Mengecek keberadaan key\n",
        "if \"nama\" in my_dict:\n",
        "    print(\"Kunci 'nama' ada di dalam dictionary\")\n",
        "\n",
        "# Mengakses semua key\n",
        "keys = my_dict.keys()\n",
        "print(keys)  # Output: dict_keys(['nama', 'umur', 'pekerjaan'])\n",
        "\n",
        "# Mengakses semua values\n",
        "values = my_dict.values()\n",
        "print(values) # Output: dict_values(['Budi', 26, 'Programmer'])\n",
        "\n",
        "# Mengakses semua item (key-value pairs)\n",
        "items = my_dict.items()\n",
        "print(items) # Output: dict_items([('nama', 'Budi'), ('umur', 26), ('pekerjaan', 'Programmer')])\n",
        "\n",
        "\n",
        "# Iterasi melalui dictionary\n",
        "for key, value in my_dict.items():\n",
        "    print(f\"Key: {key}, Value: {value}\")\n",
        "\n",
        "# Contoh lain\n",
        "person = {\n",
        "    \"name\": \"Alice\",\n",
        "    \"age\": 30,\n",
        "    \"city\": \"New York\",\n",
        "    \"address\": {\n",
        "        \"street\": \"123 Main St\",\n",
        "        \"zip\": \"10001\"\n",
        "    }\n",
        "}\n",
        "\n",
        "print(person[\"address\"][\"street\"]) # Output: 123 Main St\n",
        "\n",
        "\n",
        "#Cara lain mengakses elemen dictionary\n",
        "#Menggunakan metode get()\n",
        "print(my_dict.get(\"nama\")) #Output: Budi\n",
        "\n",
        "#Jika key tidak ditemukan maka akan mengembalikan nilai default yang diset\n",
        "print(my_dict.get(\"alamat\",\"Tidak Ditemukan\")) #Output: Tidak ditemukan\n"
      ],
      "metadata": {
        "colab": {
          "base_uri": "https://localhost:8080/"
        },
        "id": "4skIZrN4X7qQ",
        "outputId": "c907fb48-949f-4be4-bbe6-99b531a00617"
      },
      "execution_count": null,
      "outputs": [
        {
          "output_type": "stream",
          "name": "stdout",
          "text": [
            "Budi\n",
            "25\n",
            "Jakarta\n",
            "{'nama': 'Budi', 'umur': 25, 'kota': 'Jakarta', 'pekerjaan': 'Programmer'}\n",
            "{'nama': 'Budi', 'umur': 26, 'kota': 'Jakarta', 'pekerjaan': 'Programmer'}\n",
            "{'nama': 'Budi', 'umur': 26, 'pekerjaan': 'Programmer'}\n",
            "Kunci 'nama' ada di dalam dictionary\n",
            "dict_keys(['nama', 'umur', 'pekerjaan'])\n",
            "dict_values(['Budi', 26, 'Programmer'])\n",
            "dict_items([('nama', 'Budi'), ('umur', 26), ('pekerjaan', 'Programmer')])\n",
            "Key: nama, Value: Budi\n",
            "Key: umur, Value: 26\n",
            "Key: pekerjaan, Value: Programmer\n",
            "123 Main St\n",
            "Budi\n",
            "Tidak Ditemukan\n"
          ]
        }
      ]
    },
    {
      "cell_type": "code",
      "source": [
        "Menu = {'meal_1':'Spaghetti', 'meal_2':'Fries', 'meal_3':'Hamburger', 'meal_4':'Lasagna'}\n",
        "Menu[\"meal_5\"] = \"Soup\"\n",
        "Menu"
      ],
      "metadata": {
        "colab": {
          "base_uri": "https://localhost:8080/"
        },
        "id": "SmOKs-AiZmgj",
        "outputId": "b0d09a59-5fce-45ec-9d84-b6fd70b6befb"
      },
      "execution_count": null,
      "outputs": [
        {
          "output_type": "execute_result",
          "data": {
            "text/plain": [
              "{'meal_1': 'Spaghetti',\n",
              " 'meal_2': 'Fries',\n",
              " 'meal_3': 'Hamburger',\n",
              " 'meal_4': 'Lasagna',\n",
              " 'meal_5': 'Soup'}"
            ]
          },
          "metadata": {},
          "execution_count": 11
        }
      ]
    },
    {
      "cell_type": "code",
      "source": [
        "Menu = {'meal_1':'Spaghetti', 'meal_2':'Fries', 'meal_3':'Hamburger', 'meal_4':'Lasagna'}\n",
        "Menu[\"meal_3\"] = \"Cheeseburger\"\n",
        "Menu"
      ],
      "metadata": {
        "colab": {
          "base_uri": "https://localhost:8080/"
        },
        "id": "ilr0YT6AbgeR",
        "outputId": "7415441a-d84d-4a95-90cb-936d538b7b87"
      },
      "execution_count": null,
      "outputs": [
        {
          "output_type": "execute_result",
          "data": {
            "text/plain": [
              "{'meal_1': 'Spaghetti',\n",
              " 'meal_2': 'Fries',\n",
              " 'meal_3': 'Cheeseburger',\n",
              " 'meal_4': 'Lasagna'}"
            ]
          },
          "metadata": {},
          "execution_count": 13
        }
      ]
    },
    {
      "cell_type": "markdown",
      "source": [
        "# Iterasi"
      ],
      "metadata": {
        "id": "OoN_LR7tiK5K"
      }
    },
    {
      "cell_type": "code",
      "source": [
        "digits = [0,1,2,3,4,5,6,7,8,9]\n",
        "\n",
        "for i  in digits:\n",
        "    print(i)"
      ],
      "metadata": {
        "colab": {
          "base_uri": "https://localhost:8080/"
        },
        "id": "-XytJY2hiM7G",
        "outputId": "6490ed1b-2af6-4668-c0cf-b0f67e14448d"
      },
      "execution_count": null,
      "outputs": [
        {
          "output_type": "stream",
          "name": "stdout",
          "text": [
            "0\n",
            "1\n",
            "2\n",
            "3\n",
            "4\n",
            "5\n",
            "6\n",
            "7\n",
            "8\n",
            "9\n"
          ]
        }
      ]
    },
    {
      "cell_type": "code",
      "source": [
        "x = 0\n",
        "while x <= 30:\n",
        "    print(x, end = \" \")\n",
        "    x += 1"
      ],
      "metadata": {
        "colab": {
          "base_uri": "https://localhost:8080/"
        },
        "id": "xVzPc5-qkLje",
        "outputId": "cffc99f8-1a86-4da4-e87c-3304bc55d0c2"
      },
      "execution_count": null,
      "outputs": [
        {
          "output_type": "stream",
          "name": "stdout",
          "text": [
            "0 1 2 3 4 5 6 7 8 9 10 11 12 13 14 15 16 17 18 19 20 21 22 23 24 25 26 27 28 29 30 "
          ]
        }
      ]
    },
    {
      "cell_type": "code",
      "source": [
        "n = [1,2,3,4,5,6]\n",
        "\n",
        "for num in n:\n",
        "    kali = num * 10\n",
        "    print(kali)"
      ],
      "metadata": {
        "colab": {
          "base_uri": "https://localhost:8080/"
        },
        "id": "NXj0X4aLn4Ko",
        "outputId": "a6683cad-15c5-497e-c26e-50c6c4b2f5db"
      },
      "execution_count": null,
      "outputs": [
        {
          "output_type": "stream",
          "name": "stdout",
          "text": [
            "10\n",
            "20\n",
            "30\n",
            "40\n",
            "50\n",
            "60\n"
          ]
        }
      ]
    },
    {
      "cell_type": "code",
      "source": [
        "nums = [1,35,12,24,31,51,70,100]\n",
        "\n",
        "def count(nums):\n",
        "    total = 0\n",
        "    for x in nums:\n",
        "        if x < 20:\n",
        "          total += 1\n",
        "    return total\n",
        "\n",
        "count(nums)"
      ],
      "metadata": {
        "colab": {
          "base_uri": "https://localhost:8080/"
        },
        "id": "QQrRYCSq3cbO",
        "outputId": "cb530f2e-26b7-4137-d171-12369b003ad1"
      },
      "execution_count": null,
      "outputs": [
        {
          "output_type": "execute_result",
          "data": {
            "text/plain": [
              "2"
            ]
          },
          "metadata": {},
          "execution_count": 35
        }
      ]
    },
    {
      "cell_type": "markdown",
      "source": [
        "# OOP dalam python"
      ],
      "metadata": {
        "id": "yyPYjGfXRgMi"
      }
    },
    {
      "cell_type": "code",
      "source": [
        "import numpy as np\n",
        "import plotly.graph_objects as go\n",
        "import scipy.spatial\n",
        "\n",
        "# Generate sphere data\n",
        "phi = np.linspace(0, np.pi, 20)\n",
        "theta = np.linspace(0, 2 * np.pi, 40)\n",
        "phi, theta = np.meshgrid(phi, theta)\n",
        "\n",
        "x = np.sin(phi) * np.cos(theta)\n",
        "y = np.sin(phi) * np.sin(theta)\n",
        "z = np.cos(phi)\n",
        "\n",
        "# Flatten arrays\n",
        "points2D = np.vstack([phi.flatten(), theta.flatten()]).T\n",
        "tri = scipy.spatial.Delaunay(points2D)\n",
        "\n",
        "# Create 3D Mesh with wireframe effect\n",
        "fig = go.Figure()\n",
        "\n",
        "# Wireframe (mesh) using scatter3d\n",
        "for simplex in tri.simplices:\n",
        "    fig.add_trace(go.Scatter3d(\n",
        "        x=x.flatten()[simplex],\n",
        "        y=y.flatten()[simplex],\n",
        "        z=z.flatten()[simplex],\n",
        "        mode='lines',\n",
        "        line=dict(color='black', width=2) # Black wireframe\n",
        "    ))\n",
        "\n",
        "# Set layout options\n",
        "fig.update_layout(\n",
        "    scene=dict(\n",
        "        xaxis=dict(visible=False),\n",
        "        yaxis=dict(visible=False),\n",
        "        zaxis=dict(visible=False),\n",
        "        bgcolor=\"white\"\n",
        "    )\n",
        ")\n",
        "\n",
        "fig.show()\n"
      ],
      "metadata": {
        "id": "y5YbR8gLRjj7"
      },
      "execution_count": null,
      "outputs": []
    },
    {
      "cell_type": "code",
      "source": [
        "prices = {\n",
        "    \"box_of_spaghetti\" : 4,\n",
        "    \"lasagna\"  : 5,\n",
        "    \"hamburger\" : 2\n",
        "   }\n",
        "quantity = {\n",
        "    \"box_of_spaghetti\" : 6,\n",
        "    \"lasagna\"  : 10,\n",
        "    \"hamburger\" : 0\n",
        "    }\n",
        "\n",
        "money_spent = 0\n",
        "\n",
        "for i in prices:\n",
        "    if prices[i] >= 5:\n",
        "        money_spent += prices[i] * quantity[i]\n",
        "\n",
        "print(money_spent)"
      ],
      "metadata": {
        "colab": {
          "base_uri": "https://localhost:8080/"
        },
        "id": "2B9-j8-ea2jr",
        "outputId": "43184704-69c8-4845-e7b9-ec4fcce5818c"
      },
      "execution_count": null,
      "outputs": [
        {
          "output_type": "stream",
          "name": "stdout",
          "text": [
            "50\n"
          ]
        }
      ]
    },
    {
      "cell_type": "code",
      "source": [
        "# pewarisan\n",
        "class Animal:\n",
        "    def __init__(self, name):\n",
        "        self.name = name\n",
        "\n",
        "    def make_sound(self):\n",
        "        print(\"Some generic sound\")\n",
        "\n",
        "# Kelas Dog mewarisi dari Animal\n",
        "class Dog(Animal):\n",
        "    def make_sound(self):  # Method override\n",
        "        print(\"Woof! Woof!\")\n",
        "\n",
        "dog = Dog(\"Buddy\")\n",
        "dog.make_sound()  # Output: Woof! Woof!\n"
      ],
      "metadata": {
        "colab": {
          "base_uri": "https://localhost:8080/"
        },
        "id": "N4sRHLMus-Bu",
        "outputId": "7e0b195e-a2bf-4474-f075-b782a6f299ec"
      },
      "execution_count": null,
      "outputs": [
        {
          "output_type": "stream",
          "name": "stdout",
          "text": [
            "Woof! Woof!\n"
          ]
        }
      ]
    },
    {
      "cell_type": "code",
      "source": [
        "import matplotlib.pyplot as plt\n",
        "import pandas as pd\n",
        "from sklearn.linear_model import LinearRegression\n",
        "\n",
        "\n",
        "data = {\n",
        "    \"Tinggi\": [150, 160, 165, 170, 175],\n",
        "    \"Berat\": [50, 60, 65, 70, 75]\n",
        "}\n",
        "\n",
        "df = pd.DataFrame(data)\n",
        "\n",
        "# Data contoh (Tinggi & Berat)\n",
        "X = df[[\"Tinggi\"]]  # Variabel independen\n",
        "y = df[\"Berat\"]  # Variabel dependen\n",
        "\n",
        "# Membuat model regresi\n",
        "model = LinearRegression()\n",
        "model.fit(X, y)\n",
        "\n",
        "# Prediksi berat berdasarkan tinggi\n",
        "y_pred = model.predict(X)\n",
        "\n",
        "# Plot hasil regresi\n",
        "plt.scatter(X, y, label=\"Data Asli\")\n",
        "plt.plot(X, y_pred, color='red', label=\"Regresi Linear\")\n",
        "plt.xlabel(\"Tinggi (cm)\")\n",
        "plt.ylabel(\"Berat (kg)\")\n",
        "plt.legend()\n",
        "plt.show()\n"
      ],
      "metadata": {
        "id": "mBiE74NmvuAO",
        "outputId": "25ca965b-0226-498a-f090-845379db0e74",
        "colab": {
          "base_uri": "https://localhost:8080/",
          "height": 449
        }
      },
      "execution_count": null,
      "outputs": [
        {
          "output_type": "display_data",
          "data": {
            "text/plain": [
              "<Figure size 640x480 with 1 Axes>"
            ],
            "image/png": "[encoded data removed]"
          },
          "metadata": {}
        }
      ]
    },
    {
      "cell_type": "code",
      "source": [
        "print(dict([['name','Dicoding'],['age',17]]))"
      ],
      "metadata": {
        "colab": {
          "base_uri": "https://localhost:8080/"
        },
        "id": "Pm3cbt3Ud0Gy",
        "outputId": "a1a9fa49-10c2-4ef0-8baa-6be7a587240c"
      },
      "execution_count": 2,
      "outputs": [
        {
          "output_type": "stream",
          "name": "stdout",
          "text": [
            "{'name': 'Dicoding', 'age': 17}\n"
          ]
        }
      ]
    },
    {
      "cell_type": "markdown",
      "source": [
        "# latihan"
      ],
      "metadata": {
        "id": "enZQL4JOwr1p"
      }
    },
    {
      "cell_type": "code",
      "source": [
        "# nomer 1\n",
        "nama = \"jane doe\"\n",
        "umur = 23\n",
        "\n",
        "print(f\"nama saya {nama} dan umur saya {umur} tahun\")"
      ],
      "metadata": {
        "colab": {
          "base_uri": "https://localhost:8080/"
        },
        "id": "CdG0u9thwumc",
        "outputId": "2908e41b-1ddb-49f9-8508-361f71d8d034"
      },
      "execution_count": 5,
      "outputs": [
        {
          "output_type": "stream",
          "name": "stdout",
          "text": [
            "nama saya jane doe dan umur saya 23 tahun\n"
          ]
        }
      ]
    },
    {
      "cell_type": "code",
      "source": [
        "#  nomer 2\n",
        "angka_1 = int(input(\"masukan angka pertama anda: \"))\n",
        "angka_2 = int(input(\"masukan angka kedua anda: \"))\n",
        "\n",
        "penjumlahan = angka_1 + angka_2\n",
        "pengurangan = angka_1 - angka_2\n",
        "perkalian = angka_1 * angka_2\n",
        "pembagian = angka_1 / angka_2\n",
        "\n",
        "print(f\"penjumlahan: {penjumlahan}, pengurangan: {pengurangan}, perkalian: {perkalian}, pembagian: {pembagian}\")\n",
        "\n"
      ],
      "metadata": {
        "colab": {
          "base_uri": "https://localhost:8080/"
        },
        "id": "JmoPyD8cw4Bk",
        "outputId": "48e76c10-d736-4eb6-98d4-f4b25df2478d"
      },
      "execution_count": 11,
      "outputs": [
        {
          "output_type": "stream",
          "name": "stdout",
          "text": [
            "masukan angka pertama anda: 2\n",
            "masukan angka kedua anda: 2\n",
            "penjumlahan: 4, pengurangan: 0, perkalian: 4, pembagian: 1.0\n"
          ]
        }
      ]
    },
    {
      "cell_type": "code",
      "source": [
        "# nomer 3\n",
        "angka = int(input(\"masukan angka pertama anda: \"))\n",
        "\n",
        "if angka % 2 == 0:\n",
        "    print(f\"{angka} adalah bilangan genap\")\n",
        "else:\n",
        "    print(f\"{angka} adalah bilangan ganjil\")"
      ],
      "metadata": {
        "colab": {
          "base_uri": "https://localhost:8080/"
        },
        "id": "Y9skMrC8yUVp",
        "outputId": "edae1b66-7730-4782-dc94-cb96dcf87f52"
      },
      "execution_count": 12,
      "outputs": [
        {
          "output_type": "stream",
          "name": "stdout",
          "text": [
            "masukan angka pertama anda: 2\n",
            "2 adalah bilangan genap\n"
          ]
        }
      ]
    },
    {
      "cell_type": "code",
      "source": [
        "# nomer 4\n",
        "for i in range(6):\n",
        "  for j in range(i):\n",
        "    j += 1\n",
        "    print(i, end=\"\")\n",
        "  print()"
      ],
      "metadata": {
        "colab": {
          "base_uri": "https://localhost:8080/"
        },
        "id": "cpVGcpU6yguK",
        "outputId": "fac8be65-1209-4f31-ba2c-02fa9c2dceb5"
      },
      "execution_count": 19,
      "outputs": [
        {
          "output_type": "stream",
          "name": "stdout",
          "text": [
            "\n",
            "1\n",
            "22\n",
            "333\n",
            "4444\n",
            "55555\n"
          ]
        }
      ]
    },
    {
      "cell_type": "code",
      "source": [
        "# nomer 5\n",
        "def faktorial(f):\n",
        "    if f == 0:\n",
        "        return 1\n",
        "    else:\n",
        "        return f * faktorial(f-1)\n",
        "\n",
        "faktorial(5)"
      ],
      "metadata": {
        "colab": {
          "base_uri": "https://localhost:8080/"
        },
        "id": "QxpZ-ArzzhAH",
        "outputId": "c28b7bb6-ceaa-4a55-c189-0eaf3ff38976"
      },
      "execution_count": 20,
      "outputs": [
        {
          "output_type": "execute_result",
          "data": {
            "text/plain": [
              "120"
            ]
          },
          "metadata": {},
          "execution_count": 20
        }
      ]
    },
    {
      "cell_type": "code",
      "source": [
        "# nomer 6\n",
        "angka1 = int(input(\"masukan angka pertama anda: \"))\n",
        "angka2 = int(input(\"masukan angka kedua anda: \"))\n",
        "operator = str(input(\"masukan operasi matematika anda: \"))\n",
        "\n",
        "def kalkulator(angka1, angka2, operator):\n",
        "  if operator == \"+\":\n",
        "    return angka1 + angka2\n",
        "  elif operator == \"-\":\n",
        "    return angka1 - angka2\n",
        "  elif operator == \"*\":\n",
        "    return angka1 * angka2\n",
        "  elif operator == \"/\":\n",
        "    return angka1 / angka2\n",
        "  else:\n",
        "    return \"operasi tidak ditemukan\"\n",
        "\n",
        "kalkulator(angka1, angka2, operator)"
      ],
      "metadata": {
        "colab": {
          "base_uri": "https://localhost:8080/"
        },
        "id": "2QutBKf8z7Z8",
        "outputId": "a77ec175-29ba-48cc-f0af-7ad7a2253657"
      },
      "execution_count": 22,
      "outputs": [
        {
          "name": "stdout",
          "output_type": "stream",
          "text": [
            "masukan angka pertama anda: 2\n",
            "masukan angka kedua anda: 2\n",
            "masukan operasi matematika anda: +\n"
          ]
        },
        {
          "output_type": "execute_result",
          "data": {
            "text/plain": [
              "4"
            ]
          },
          "metadata": {},
          "execution_count": 22
        }
      ]
    }
  ]
}