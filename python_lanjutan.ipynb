{
  "nbformat": 4,
  "nbformat_minor": 0,
  "metadata": {
    "colab": {
      "provenance": [],
      "toc_visible": true,
      "authorship_tag": "ABX9TyP7ngNekx/Dkd2VJhqOGuQv",
      "include_colab_link": true
    },
    "kernelspec": {
      "name": "python3",
      "display_name": "Python 3"
    },
    "language_info": {
      "name": "python"
    }
  },
  "cells": [
    {
      "cell_type": "markdown",
      "metadata": {
        "id": "view-in-github",
        "colab_type": "text"
      },
      "source": [
        "<a href=\"https://colab.research.google.com/github/ihyaulumuddin044/machineLearning/blob/main/python_lanjutan.ipynb\" target=\"_parent\"><img src=\"https://colab.research.google.com/assets/colab-badge.svg\" alt=\"Open In Colab\"/></a>"
      ]
    },
    {
      "cell_type": "code",
      "execution_count": null,
      "metadata": {
        "id": "pPi0nL88veWn"
      },
      "outputs": [],
      "source": [
        "# tujuan untuk dapat memahami sepenuhnya bukan hanya bisa!\n",
        "\n",
        "\n"
      ]
    },
    {
      "cell_type": "markdown",
      "source": [
        "# variable dalam python\n"
      ],
      "metadata": {
        "id": "g1x4HXlQD39b"
      }
    },
    {
      "cell_type": "code",
      "source": [
        "nama = \"Budi\"  # String\n",
        "umur = 25      # Integer\n",
        "tinggi = 170.5 # Float\n",
        "is_student = True  # Boolean"
      ],
      "metadata": {
        "id": "JfJSw8tTFfP0"
      },
      "execution_count": null,
      "outputs": []
    },
    {
      "cell_type": "code",
      "source": [
        "print(nama)\n",
        "print(umur)\n",
        "print(tinggi)\n",
        "print(is_student)"
      ],
      "metadata": {
        "colab": {
          "base_uri": "https://localhost:8080/"
        },
        "id": "AtK30-qiGPwL",
        "outputId": "f3a72640-1e94-4433-f80d-f5f33749d425"
      },
      "execution_count": null,
      "outputs": [
        {
          "output_type": "stream",
          "name": "stdout",
          "text": [
            "Budi\n",
            "25\n",
            "170.5\n",
            "True\n"
          ]
        }
      ]
    },
    {
      "cell_type": "code",
      "source": [
        "x = 10\n",
        "print(x)\n",
        "\n",
        "\n"
      ],
      "metadata": {
        "colab": {
          "base_uri": "https://localhost:8080/"
        },
        "id": "FSdQj4AyGuxN",
        "outputId": "5d10f3ab-6c8c-4bbb-e520-7b830d6ce631"
      },
      "execution_count": null,
      "outputs": [
        {
          "output_type": "stream",
          "name": "stdout",
          "text": [
            "10\n"
          ]
        }
      ]
    },
    {
      "cell_type": "code",
      "source": [
        "int(2)"
      ],
      "metadata": {
        "colab": {
          "base_uri": "https://localhost:8080/"
        },
        "id": "ScAgwM-fJJZe",
        "outputId": "23308fd0-7a65-4c66-8fd7-3bb6e1ab4097"
      },
      "execution_count": null,
      "outputs": [
        {
          "output_type": "execute_result",
          "data": {
            "text/plain": [
              "2"
            ]
          },
          "metadata": {},
          "execution_count": 5
        }
      ]
    },
    {
      "cell_type": "code",
      "source": [
        "# operator matematika\n",
        "a = 10\n",
        "b = 3\n",
        "\n",
        "hasil_penjumlahan = a + b\n",
        "hasil_pengurangan = a - b\n",
        "hasil_perkalian = a * b\n",
        "hasil_pembagian = a / b\n",
        "hasil_modulus = a % b\n",
        "hasil_pangkat = a ** b\n"
      ],
      "metadata": {
        "id": "qhow7kPT8xLE"
      },
      "execution_count": null,
      "outputs": []
    },
    {
      "cell_type": "code",
      "source": [
        "x = 10\n",
        "y = 25\n",
        "\n",
        "if x > 3 and y > 13:\n",
        "     print(\"Both conditions are correct\")\n",
        "\n",
        "if x <= 3 or y <= 13:\n",
        "    print(\"At least one of the conditions is false\")\n",
        "\n"
      ],
      "metadata": {
        "colab": {
          "base_uri": "https://localhost:8080/"
        },
        "id": "_g-9g_BMBfyP",
        "outputId": "746ddc9e-2817-40b8-a0aa-47f0e609aa1b"
      },
      "execution_count": null,
      "outputs": [
        {
          "output_type": "stream",
          "name": "stdout",
          "text": [
            "Both conditions are correct\n"
          ]
        }
      ]
    },
    {
      "cell_type": "markdown",
      "source": [
        "# Perulangan denga for loop dan while loop"
      ],
      "metadata": {
        "id": "Zlwcnwhgwxla"
      }
    },
    {
      "cell_type": "code",
      "source": [
        "nama = list(\"kacang\")\n",
        "for i in  nama:\n",
        "    print(i)\n",
        "\n",
        "print(f' \\njumlah huruf: {len(nama)}')\n"
      ],
      "metadata": {
        "colab": {
          "base_uri": "https://localhost:8080/"
        },
        "id": "eS37aIJ5u5FY",
        "outputId": "fa9af418-5d72-422b-ccce-0bc4ecd52360"
      },
      "execution_count": null,
      "outputs": [
        {
          "output_type": "stream",
          "name": "stdout",
          "text": [
            "k\n",
            "a\n",
            "c\n",
            "a\n",
            "n\n",
            "g\n",
            " \n",
            "jumlah huruf: 6\n"
          ]
        }
      ]
    },
    {
      "cell_type": "code",
      "source": [
        "numbers = [1, 2, 3, 4, 5,6,7]\n",
        "\n",
        "for num in numbers:\n",
        "    if num == 6:\n",
        "        print(\"Angka ditemukan! Program berhenti!\")\n",
        "        break\n",
        "else:\n",
        "    print(\"Angka tidak ditemukan.\")\n",
        "\n"
      ],
      "metadata": {
        "colab": {
          "base_uri": "https://localhost:8080/"
        },
        "id": "jtRRi72eww-L",
        "outputId": "a8fae626-4349-4180-9a5a-099701642ffa"
      },
      "execution_count": null,
      "outputs": [
        {
          "output_type": "stream",
          "name": "stdout",
          "text": [
            "Angka ditemukan! Program berhenti!\n"
          ]
        }
      ]
    },
    {
      "cell_type": "code",
      "source": [
        "n = 0\n",
        "for n in range(10):\n",
        "  print(n)"
      ],
      "metadata": {
        "colab": {
          "base_uri": "https://localhost:8080/"
        },
        "id": "jhS4j_Rmy_Zz",
        "outputId": "adc53b05-1cbd-437c-ea0e-991d25c8d351"
      },
      "execution_count": null,
      "outputs": [
        {
          "output_type": "stream",
          "name": "stdout",
          "text": [
            "0\n",
            "1\n",
            "2\n",
            "3\n",
            "4\n",
            "5\n",
            "6\n",
            "7\n",
            "8\n",
            "9\n"
          ]
        }
      ]
    },
    {
      "cell_type": "code",
      "source": [
        "nilai = 68\n",
        "if nilai>=80:\n",
        "    print(\"Selamat! Anda mendapat nilai A\")\n",
        "elif nilai>=60:\n",
        "    print(\"Hmm.. Anda mendapat nilai B\")\n",
        "else:\n",
        "    print(\"Waduh, Anda mendapat nilai C\")"
      ],
      "metadata": {
        "colab": {
          "base_uri": "https://localhost:8080/"
        },
        "id": "X3mxMyaA3JCE",
        "outputId": "6a96c5ff-4abb-4186-974b-295f099e237a"
      },
      "execution_count": null,
      "outputs": [
        {
          "output_type": "stream",
          "name": "stdout",
          "text": [
            "Hmm.. Anda mendapat nilai B\n"
          ]
        }
      ]
    },
    {
      "cell_type": "code",
      "source": [
        "var_gw = [\"@\" for i in range(10)]\n",
        "print(var_gw)"
      ],
      "metadata": {
        "colab": {
          "base_uri": "https://localhost:8080/"
        },
        "id": "Y6i6bCMw681Z",
        "outputId": "b6b6ffb5-5892-467e-95d1-2e1104f09e51"
      },
      "execution_count": null,
      "outputs": [
        {
          "output_type": "stream",
          "name": "stdout",
          "text": [
            "['@', '@', '@', '@', '@', '@', '@', '@', '@', '@']\n"
          ]
        }
      ]
    },
    {
      "cell_type": "code",
      "source": [
        "#  Bubble sort\n",
        "numbers = [3, 2, 5, 6, 7, 1]\n",
        "\n",
        "# Bubble Sort dari besar ke kecil\n",
        "n = len(numbers)\n",
        "for i in range(n - 1):\n",
        "    for j in range(n - 1 - i):\n",
        "        if numbers[j] < numbers[j + 1]:  # Tukar jika angka lebih kecil\n",
        "            numbers[j], numbers[j + 1] = numbers[j + 1], numbers[j]\n",
        "\n",
        "print(numbers)  # Output: [7, 6, 5, 3, 2, 1]\n",
        "\n",
        "\n",
        "numbers = [3, 2, 5, 6, 7, 1]\n",
        "\n",
        "# Bubble Sort dari kecil ke besar\n",
        "n = len(numbers)\n",
        "for i in range(n - 1):\n",
        "    for j in range(n - 1 - i):\n",
        "        if numbers[j] > numbers[j + 1]:  # Tukar jika angka lebih besar\n",
        "            numbers[j], numbers[j + 1] = numbers[j + 1], numbers[j]\n",
        "\n",
        "print(numbers)  # Output: [1, 2, 3, 5, 6, 7]\n"
      ],
      "metadata": {
        "colab": {
          "base_uri": "https://localhost:8080/"
        },
        "id": "yiUOBn-N8t2v",
        "outputId": "3367af7a-1144-42c1-c053-f294355ecfef"
      },
      "execution_count": null,
      "outputs": [
        {
          "output_type": "stream",
          "name": "stdout",
          "text": [
            "[7, 6, 5, 3, 2, 1]\n",
            "[1, 2, 3, 5, 6, 7]\n"
          ]
        }
      ]
    },
    {
      "cell_type": "code",
      "source": [
        "def rectangle_info(length, widht):\n",
        "    mult = length * widht\n",
        "    print(\"result: \")\n",
        "    return mult\n",
        "\n",
        "rectangle_info(2,10)"
      ],
      "metadata": {
        "id": "cbHAGN3e88g2",
        "outputId": "f749b519-59ea-48b6-e66b-27b94a16782a",
        "colab": {
          "base_uri": "https://localhost:8080/"
        }
      },
      "execution_count": 1,
      "outputs": [
        {
          "output_type": "stream",
          "name": "stdout",
          "text": [
            "result: \n"
          ]
        },
        {
          "output_type": "execute_result",
          "data": {
            "text/plain": [
              "20"
            ]
          },
          "metadata": {},
          "execution_count": 1
        }
      ]
    },
    {
      "cell_type": "code",
      "source": [
        "def rectangle_info(length, width):\n",
        "    area = length * width\n",
        "    perimeter = 2 * (length + width)\n",
        "    return area, perimeter\n",
        "\n",
        "result = rectangle_info(2,10)\n",
        "print(f'area: {result[0]}')\n",
        "print(f'perimeter: {result[1]}')"
      ],
      "metadata": {
        "id": "Y_i-RBP6W4v5",
        "outputId": "ae7fffcd-5d20-46b0-9e79-bdbc47929a61",
        "colab": {
          "base_uri": "https://localhost:8080/"
        }
      },
      "execution_count": 2,
      "outputs": [
        {
          "output_type": "stream",
          "name": "stdout",
          "text": [
            "area: 20\n",
            "perimeter: 24\n"
          ]
        }
      ]
    },
    {
      "cell_type": "markdown",
      "source": [
        "# Dicnionary"
      ],
      "metadata": {
        "id": "9PW-R3axX3sR"
      }
    },
    {
      "cell_type": "code",
      "source": [
        "# prompt: buakan aku dictionary dan cara mengaksesnya\n",
        "\n",
        "# Dictionary dalam Python\n",
        "\n",
        "# Membuat dictionary\n",
        "my_dict = {\n",
        "    \"nama\": \"Budi\",\n",
        "    \"umur\": 25,\n",
        "    \"kota\": \"Jakarta\"\n",
        "}\n",
        "\n",
        "# Mengakses nilai dalam dictionary\n",
        "print(my_dict[\"nama\"])  # Output: Budi\n",
        "print(my_dict[\"umur\"])  # Output: 25\n",
        "print(my_dict.get(\"kota\")) # Output: Jakarta\n",
        "\n",
        "# Menambahkan entri baru\n",
        "my_dict[\"pekerjaan\"] = \"Programmer\"\n",
        "print(my_dict) # Output: {'nama': 'Budi', 'umur': 25, 'kota': 'Jakarta', 'pekerjaan': 'Programmer'}\n",
        "\n",
        "# Mengubah nilai yang sudah ada\n",
        "my_dict[\"umur\"] = 26\n",
        "print(my_dict) # Output: {'nama': 'Budi', 'umur': 26, 'kota': 'Jakarta', 'pekerjaan': 'Programmer'}\n",
        "\n",
        "\n",
        "# Menghapus entri\n",
        "del my_dict[\"kota\"]\n",
        "print(my_dict) # Output: {'nama': 'Budi', 'umur': 26, 'pekerjaan': 'Programmer'}\n",
        "\n",
        "# Mengecek keberadaan key\n",
        "if \"nama\" in my_dict:\n",
        "    print(\"Kunci 'nama' ada di dalam dictionary\")\n",
        "\n",
        "# Mengakses semua key\n",
        "keys = my_dict.keys()\n",
        "print(keys)  # Output: dict_keys(['nama', 'umur', 'pekerjaan'])\n",
        "\n",
        "# Mengakses semua values\n",
        "values = my_dict.values()\n",
        "print(values) # Output: dict_values(['Budi', 26, 'Programmer'])\n",
        "\n",
        "# Mengakses semua item (key-value pairs)\n",
        "items = my_dict.items()\n",
        "print(items) # Output: dict_items([('nama', 'Budi'), ('umur', 26), ('pekerjaan', 'Programmer')])\n",
        "\n",
        "\n",
        "# Iterasi melalui dictionary\n",
        "for key, value in my_dict.items():\n",
        "    print(f\"Key: {key}, Value: {value}\")\n",
        "\n",
        "# Contoh lain\n",
        "person = {\n",
        "    \"name\": \"Alice\",\n",
        "    \"age\": 30,\n",
        "    \"city\": \"New York\",\n",
        "    \"address\": {\n",
        "        \"street\": \"123 Main St\",\n",
        "        \"zip\": \"10001\"\n",
        "    }\n",
        "}\n",
        "\n",
        "print(person[\"address\"][\"street\"]) # Output: 123 Main St\n",
        "\n",
        "\n",
        "#Cara lain mengakses elemen dictionary\n",
        "#Menggunakan metode get()\n",
        "print(my_dict.get(\"nama\")) #Output: Budi\n",
        "\n",
        "#Jika key tidak ditemukan maka akan mengembalikan nilai default yang diset\n",
        "print(my_dict.get(\"alamat\",\"Tidak Ditemukan\")) #Output: Tidak ditemukan\n"
      ],
      "metadata": {
        "id": "4skIZrN4X7qQ",
        "outputId": "c907fb48-949f-4be4-bbe6-99b531a00617",
        "colab": {
          "base_uri": "https://localhost:8080/"
        }
      },
      "execution_count": 3,
      "outputs": [
        {
          "output_type": "stream",
          "name": "stdout",
          "text": [
            "Budi\n",
            "25\n",
            "Jakarta\n",
            "{'nama': 'Budi', 'umur': 25, 'kota': 'Jakarta', 'pekerjaan': 'Programmer'}\n",
            "{'nama': 'Budi', 'umur': 26, 'kota': 'Jakarta', 'pekerjaan': 'Programmer'}\n",
            "{'nama': 'Budi', 'umur': 26, 'pekerjaan': 'Programmer'}\n",
            "Kunci 'nama' ada di dalam dictionary\n",
            "dict_keys(['nama', 'umur', 'pekerjaan'])\n",
            "dict_values(['Budi', 26, 'Programmer'])\n",
            "dict_items([('nama', 'Budi'), ('umur', 26), ('pekerjaan', 'Programmer')])\n",
            "Key: nama, Value: Budi\n",
            "Key: umur, Value: 26\n",
            "Key: pekerjaan, Value: Programmer\n",
            "123 Main St\n",
            "Budi\n",
            "Tidak Ditemukan\n"
          ]
        }
      ]
    },
    {
      "cell_type": "code",
      "source": [
        "Menu = {'meal_1':'Spaghetti', 'meal_2':'Fries', 'meal_3':'Hamburger', 'meal_4':'Lasagna'}\n",
        "Menu[\"meal_5\"] = \"Soup\"\n",
        "Menu"
      ],
      "metadata": {
        "id": "SmOKs-AiZmgj",
        "outputId": "b0d09a59-5fce-45ec-9d84-b6fd70b6befb",
        "colab": {
          "base_uri": "https://localhost:8080/"
        }
      },
      "execution_count": 11,
      "outputs": [
        {
          "output_type": "execute_result",
          "data": {
            "text/plain": [
              "{'meal_1': 'Spaghetti',\n",
              " 'meal_2': 'Fries',\n",
              " 'meal_3': 'Hamburger',\n",
              " 'meal_4': 'Lasagna',\n",
              " 'meal_5': 'Soup'}"
            ]
          },
          "metadata": {},
          "execution_count": 11
        }
      ]
    },
    {
      "cell_type": "code",
      "source": [
        "Menu = {'meal_1':'Spaghetti', 'meal_2':'Fries', 'meal_3':'Hamburger', 'meal_4':'Lasagna'}\n",
        "Menu[\"meal_3\"] = \"Cheeseburger\"\n",
        "Menu"
      ],
      "metadata": {
        "id": "ilr0YT6AbgeR",
        "outputId": "7415441a-d84d-4a95-90cb-936d538b7b87",
        "colab": {
          "base_uri": "https://localhost:8080/"
        }
      },
      "execution_count": 13,
      "outputs": [
        {
          "output_type": "execute_result",
          "data": {
            "text/plain": [
              "{'meal_1': 'Spaghetti',\n",
              " 'meal_2': 'Fries',\n",
              " 'meal_3': 'Cheeseburger',\n",
              " 'meal_4': 'Lasagna'}"
            ]
          },
          "metadata": {},
          "execution_count": 13
        }
      ]
    },
    {
      "cell_type": "markdown",
      "source": [
        "# Iterasi"
      ],
      "metadata": {
        "id": "OoN_LR7tiK5K"
      }
    },
    {
      "cell_type": "code",
      "source": [
        "digits = [0,1,2,3,4,5,6,7,8,9]\n",
        "\n",
        "for i  in digits:\n",
        "    print(i)"
      ],
      "metadata": {
        "id": "-XytJY2hiM7G",
        "outputId": "6490ed1b-2af6-4668-c0cf-b0f67e14448d",
        "colab": {
          "base_uri": "https://localhost:8080/"
        }
      },
      "execution_count": 15,
      "outputs": [
        {
          "output_type": "stream",
          "name": "stdout",
          "text": [
            "0\n",
            "1\n",
            "2\n",
            "3\n",
            "4\n",
            "5\n",
            "6\n",
            "7\n",
            "8\n",
            "9\n"
          ]
        }
      ]
    },
    {
      "cell_type": "code",
      "source": [
        "x = 0\n",
        "while x <= 30:\n",
        "    print(x, end = \" \")\n",
        "    x += 1"
      ],
      "metadata": {
        "id": "xVzPc5-qkLje",
        "outputId": "cffc99f8-1a86-4da4-e87c-3304bc55d0c2",
        "colab": {
          "base_uri": "https://localhost:8080/"
        }
      },
      "execution_count": 21,
      "outputs": [
        {
          "output_type": "stream",
          "name": "stdout",
          "text": [
            "0 1 2 3 4 5 6 7 8 9 10 11 12 13 14 15 16 17 18 19 20 21 22 23 24 25 26 27 28 29 30 "
          ]
        }
      ]
    },
    {
      "cell_type": "code",
      "source": [
        "n = [1,2,3,4,5,6]\n",
        "\n",
        "for num in n:\n",
        "    kali = num * 10\n",
        "    print(kali)"
      ],
      "metadata": {
        "id": "NXj0X4aLn4Ko",
        "outputId": "a6683cad-15c5-497e-c26e-50c6c4b2f5db",
        "colab": {
          "base_uri": "https://localhost:8080/"
        }
      },
      "execution_count": 26,
      "outputs": [
        {
          "output_type": "stream",
          "name": "stdout",
          "text": [
            "10\n",
            "20\n",
            "30\n",
            "40\n",
            "50\n",
            "60\n"
          ]
        }
      ]
    },
    {
      "cell_type": "code",
      "source": [
        "nums = [1,35,12,24,31,51,70,100]\n",
        "\n",
        "def count(nums):\n",
        "    total = 0\n",
        "    for x in nums:\n",
        "        if x < 20:\n",
        "          total += 1\n",
        "    return total\n",
        "\n",
        "count(nums)"
      ],
      "metadata": {
        "id": "QQrRYCSq3cbO",
        "outputId": "cb530f2e-26b7-4137-d171-12369b003ad1",
        "colab": {
          "base_uri": "https://localhost:8080/"
        }
      },
      "execution_count": 35,
      "outputs": [
        {
          "output_type": "execute_result",
          "data": {
            "text/plain": [
              "2"
            ]
          },
          "metadata": {},
          "execution_count": 35
        }
      ]
    }
  ]
}