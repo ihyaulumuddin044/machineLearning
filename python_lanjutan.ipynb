{
  "nbformat": 4,
  "nbformat_minor": 0,
  "metadata": {
    "colab": {
      "provenance": [],
      "toc_visible": true,
      "authorship_tag": "ABX9TyPqVLOd32ldLmZWX9fgHWvR",
      "include_colab_link": true
    },
    "kernelspec": {
      "name": "python3",
      "display_name": "Python 3"
    },
    "language_info": {
      "name": "python"
    }
  },
  "cells": [
    {
      "cell_type": "markdown",
      "metadata": {
        "id": "view-in-github",
        "colab_type": "text"
      },
      "source": [
        "<a href=\"https://colab.research.google.com/github/ihyaulumuddin044/machineLearning/blob/main/python_lanjutan.ipynb\" target=\"_parent\"><img src=\"https://colab.research.google.com/assets/colab-badge.svg\" alt=\"Open In Colab\"/></a>"
      ]
    },
    {
      "cell_type": "code",
      "execution_count": null,
      "metadata": {
        "id": "pPi0nL88veWn"
      },
      "outputs": [],
      "source": [
        "# tujuan untuk dapat memahami sepenuhnya bukan hanya bisa!\n",
        "\n",
        "\n"
      ]
    },
    {
      "cell_type": "markdown",
      "source": [
        "# variable dalam python\n"
      ],
      "metadata": {
        "id": "g1x4HXlQD39b"
      }
    },
    {
      "cell_type": "code",
      "source": [
        "nama = \"Budi\"  # String\n",
        "umur = 25      # Integer\n",
        "tinggi = 170.5 # Float\n",
        "is_student = True  # Boolean"
      ],
      "metadata": {
        "id": "JfJSw8tTFfP0"
      },
      "execution_count": null,
      "outputs": []
    },
    {
      "cell_type": "code",
      "source": [
        "print(nama)\n",
        "print(umur)\n",
        "print(tinggi)\n",
        "print(is_student)"
      ],
      "metadata": {
        "colab": {
          "base_uri": "https://localhost:8080/"
        },
        "id": "AtK30-qiGPwL",
        "outputId": "f3a72640-1e94-4433-f80d-f5f33749d425"
      },
      "execution_count": null,
      "outputs": [
        {
          "output_type": "stream",
          "name": "stdout",
          "text": [
            "Budi\n",
            "25\n",
            "170.5\n",
            "True\n"
          ]
        }
      ]
    },
    {
      "cell_type": "code",
      "source": [
        "x = 10\n",
        "print(x)\n",
        "\n",
        "\n"
      ],
      "metadata": {
        "colab": {
          "base_uri": "https://localhost:8080/"
        },
        "id": "FSdQj4AyGuxN",
        "outputId": "5d10f3ab-6c8c-4bbb-e520-7b830d6ce631"
      },
      "execution_count": null,
      "outputs": [
        {
          "output_type": "stream",
          "name": "stdout",
          "text": [
            "10\n"
          ]
        }
      ]
    },
    {
      "cell_type": "code",
      "source": [
        "int(2)"
      ],
      "metadata": {
        "colab": {
          "base_uri": "https://localhost:8080/"
        },
        "id": "ScAgwM-fJJZe",
        "outputId": "23308fd0-7a65-4c66-8fd7-3bb6e1ab4097"
      },
      "execution_count": null,
      "outputs": [
        {
          "output_type": "execute_result",
          "data": {
            "text/plain": [
              "2"
            ]
          },
          "metadata": {},
          "execution_count": 5
        }
      ]
    },
    {
      "cell_type": "code",
      "source": [
        "# operator matematika\n",
        "a = 10\n",
        "b = 3\n",
        "\n",
        "hasil_penjumlahan = a + b\n",
        "hasil_pengurangan = a - b\n",
        "hasil_perkalian = a * b\n",
        "hasil_pembagian = a / b\n",
        "hasil_modulus = a % b\n",
        "hasil_pangkat = a ** b\n"
      ],
      "metadata": {
        "id": "qhow7kPT8xLE"
      },
      "execution_count": null,
      "outputs": []
    },
    {
      "cell_type": "code",
      "source": [
        "x = 10\n",
        "y = 25\n",
        "\n",
        "if x > 3 and y > 13:\n",
        "     print(\"Both conditions are correct\")\n",
        "\n",
        "if x <= 3 or y <= 13:\n",
        "    print(\"At least one of the conditions is false\")\n",
        "\n"
      ],
      "metadata": {
        "colab": {
          "base_uri": "https://localhost:8080/"
        },
        "id": "_g-9g_BMBfyP",
        "outputId": "746ddc9e-2817-40b8-a0aa-47f0e609aa1b"
      },
      "execution_count": null,
      "outputs": [
        {
          "output_type": "stream",
          "name": "stdout",
          "text": [
            "Both conditions are correct\n"
          ]
        }
      ]
    },
    {
      "cell_type": "markdown",
      "source": [
        "# Perulangan denga for loop dan while loop"
      ],
      "metadata": {
        "id": "Zlwcnwhgwxla"
      }
    },
    {
      "cell_type": "code",
      "source": [
        "nama = list(\"kacang\")\n",
        "for i in  nama:\n",
        "    print(i)\n",
        "\n",
        "print(f' \\njumlah huruf: {len(nama)}')\n"
      ],
      "metadata": {
        "id": "eS37aIJ5u5FY",
        "outputId": "fa9af418-5d72-422b-ccce-0bc4ecd52360",
        "colab": {
          "base_uri": "https://localhost:8080/"
        }
      },
      "execution_count": 8,
      "outputs": [
        {
          "output_type": "stream",
          "name": "stdout",
          "text": [
            "k\n",
            "a\n",
            "c\n",
            "a\n",
            "n\n",
            "g\n",
            " \n",
            "jumlah huruf: 6\n"
          ]
        }
      ]
    },
    {
      "cell_type": "code",
      "source": [
        "numbers = [1, 2, 3, 4, 5,6,7]\n",
        "\n",
        "for num in numbers:\n",
        "    if num == 6:\n",
        "        print(\"Angka ditemukan! Program berhenti!\")\n",
        "        break\n",
        "else:\n",
        "    print(\"Angka tidak ditemukan.\")\n",
        "\n"
      ],
      "metadata": {
        "id": "jtRRi72eww-L",
        "outputId": "a8fae626-4349-4180-9a5a-099701642ffa",
        "colab": {
          "base_uri": "https://localhost:8080/"
        }
      },
      "execution_count": 12,
      "outputs": [
        {
          "output_type": "stream",
          "name": "stdout",
          "text": [
            "Angka ditemukan! Program berhenti!\n"
          ]
        }
      ]
    },
    {
      "cell_type": "code",
      "source": [
        "n = 0\n",
        "for n in range(10):\n",
        "  print(n)"
      ],
      "metadata": {
        "id": "jhS4j_Rmy_Zz",
        "outputId": "adc53b05-1cbd-437c-ea0e-991d25c8d351",
        "colab": {
          "base_uri": "https://localhost:8080/"
        }
      },
      "execution_count": 18,
      "outputs": [
        {
          "output_type": "stream",
          "name": "stdout",
          "text": [
            "0\n",
            "1\n",
            "2\n",
            "3\n",
            "4\n",
            "5\n",
            "6\n",
            "7\n",
            "8\n",
            "9\n"
          ]
        }
      ]
    },
    {
      "cell_type": "code",
      "source": [
        "nilai = 68\n",
        "if nilai>=80:\n",
        "    print(\"Selamat! Anda mendapat nilai A\")\n",
        "elif nilai>=60:\n",
        "    print(\"Hmm.. Anda mendapat nilai B\")\n",
        "else:\n",
        "    print(\"Waduh, Anda mendapat nilai C\")"
      ],
      "metadata": {
        "id": "X3mxMyaA3JCE",
        "outputId": "6a96c5ff-4abb-4186-974b-295f099e237a",
        "colab": {
          "base_uri": "https://localhost:8080/"
        }
      },
      "execution_count": 21,
      "outputs": [
        {
          "output_type": "stream",
          "name": "stdout",
          "text": [
            "Hmm.. Anda mendapat nilai B\n"
          ]
        }
      ]
    },
    {
      "cell_type": "code",
      "source": [
        "var_gw = [\"@\" for i in range(10)]\n",
        "print(var_gw)"
      ],
      "metadata": {
        "id": "Y6i6bCMw681Z",
        "outputId": "b6b6ffb5-5892-467e-95d1-2e1104f09e51",
        "colab": {
          "base_uri": "https://localhost:8080/"
        }
      },
      "execution_count": 24,
      "outputs": [
        {
          "output_type": "stream",
          "name": "stdout",
          "text": [
            "['@', '@', '@', '@', '@', '@', '@', '@', '@', '@']\n"
          ]
        }
      ]
    },
    {
      "cell_type": "code",
      "source": [
        "#  Bubble sort\n",
        "numbers = [3, 2, 5, 6, 7, 1]\n",
        "\n",
        "# Bubble Sort dari besar ke kecil\n",
        "n = len(numbers)\n",
        "for i in range(n - 1):\n",
        "    for j in range(n - 1 - i):\n",
        "        if numbers[j] < numbers[j + 1]:  # Tukar jika angka lebih kecil\n",
        "            numbers[j], numbers[j + 1] = numbers[j + 1], numbers[j]\n",
        "\n",
        "print(numbers)  # Output: [7, 6, 5, 3, 2, 1]\n",
        "\n",
        "\n",
        "numbers = [3, 2, 5, 6, 7, 1]\n",
        "\n",
        "# Bubble Sort dari kecil ke besar\n",
        "n = len(numbers)\n",
        "for i in range(n - 1):\n",
        "    for j in range(n - 1 - i):\n",
        "        if numbers[j] > numbers[j + 1]:  # Tukar jika angka lebih besar\n",
        "            numbers[j], numbers[j + 1] = numbers[j + 1], numbers[j]\n",
        "\n",
        "print(numbers)  # Output: [1, 2, 3, 5, 6, 7]\n"
      ],
      "metadata": {
        "id": "yiUOBn-N8t2v",
        "outputId": "3367af7a-1144-42c1-c053-f294355ecfef",
        "colab": {
          "base_uri": "https://localhost:8080/"
        }
      },
      "execution_count": 27,
      "outputs": [
        {
          "output_type": "stream",
          "name": "stdout",
          "text": [
            "[7, 6, 5, 3, 2, 1]\n",
            "[1, 2, 3, 5, 6, 7]\n"
          ]
        }
      ]
    },
    {
      "cell_type": "code",
      "source": [],
      "metadata": {
        "id": "cbHAGN3e88g2"
      },
      "execution_count": null,
      "outputs": []
    }
  ]
}