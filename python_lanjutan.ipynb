{
  "nbformat": 4,
  "nbformat_minor": 0,
  "metadata": {
    "colab": {
      "provenance": [],
      "toc_visible": true,
      "authorship_tag": "ABX9TyMXIfMTNnm4BJPzsuOn9zJY",
      "include_colab_link": true
    },
    "kernelspec": {
      "name": "python3",
      "display_name": "Python 3"
    },
    "language_info": {
      "name": "python"
    }
  },
  "cells": [
    {
      "cell_type": "markdown",
      "metadata": {
        "id": "view-in-github",
        "colab_type": "text"
      },
      "source": [
        "<a href=\"https://colab.research.google.com/github/ihyaulumuddin044/machineLearning/blob/main/python_lanjutan.ipynb\" target=\"_parent\"><img src=\"https://colab.research.google.com/assets/colab-badge.svg\" alt=\"Open In Colab\"/></a>"
      ]
    },
    {
      "cell_type": "code",
      "execution_count": null,
      "metadata": {
        "id": "pPi0nL88veWn"
      },
      "outputs": [],
      "source": [
        "# tujuan untuk dapat memahami sepenuhnya bukan hanya bisa!\n",
        "\n",
        "\n"
      ]
    },
    {
      "cell_type": "markdown",
      "source": [
        "# variable dalam python\n"
      ],
      "metadata": {
        "id": "g1x4HXlQD39b"
      }
    },
    {
      "cell_type": "code",
      "source": [
        "nama = \"Budi\"  # String\n",
        "umur = 25      # Integer\n",
        "tinggi = 170.5 # Float\n",
        "is_student = True  # Boolean"
      ],
      "metadata": {
        "id": "JfJSw8tTFfP0"
      },
      "execution_count": null,
      "outputs": []
    },
    {
      "cell_type": "code",
      "source": [
        "print(nama)\n",
        "print(umur)\n",
        "print(tinggi)\n",
        "print(is_student)"
      ],
      "metadata": {
        "colab": {
          "base_uri": "https://localhost:8080/"
        },
        "id": "AtK30-qiGPwL",
        "outputId": "f3a72640-1e94-4433-f80d-f5f33749d425"
      },
      "execution_count": null,
      "outputs": [
        {
          "output_type": "stream",
          "name": "stdout",
          "text": [
            "Budi\n",
            "25\n",
            "170.5\n",
            "True\n"
          ]
        }
      ]
    },
    {
      "cell_type": "code",
      "source": [
        "x = 10\n",
        "print(x)\n",
        "\n",
        "\n"
      ],
      "metadata": {
        "colab": {
          "base_uri": "https://localhost:8080/"
        },
        "id": "FSdQj4AyGuxN",
        "outputId": "5d10f3ab-6c8c-4bbb-e520-7b830d6ce631"
      },
      "execution_count": null,
      "outputs": [
        {
          "output_type": "stream",
          "name": "stdout",
          "text": [
            "10\n"
          ]
        }
      ]
    },
    {
      "cell_type": "code",
      "source": [
        "int(2)"
      ],
      "metadata": {
        "colab": {
          "base_uri": "https://localhost:8080/"
        },
        "id": "ScAgwM-fJJZe",
        "outputId": "23308fd0-7a65-4c66-8fd7-3bb6e1ab4097"
      },
      "execution_count": null,
      "outputs": [
        {
          "output_type": "execute_result",
          "data": {
            "text/plain": [
              "2"
            ]
          },
          "metadata": {},
          "execution_count": 5
        }
      ]
    },
    {
      "cell_type": "code",
      "source": [
        "# operator matematika\n",
        "a = 10\n",
        "b = 3\n",
        "\n",
        "hasil_penjumlahan = a + b\n",
        "hasil_pengurangan = a - b\n",
        "hasil_perkalian = a * b\n",
        "hasil_pembagian = a / b\n",
        "hasil_modulus = a % b\n",
        "hasil_pangkat = a ** b\n"
      ],
      "metadata": {
        "id": "qhow7kPT8xLE"
      },
      "execution_count": null,
      "outputs": []
    },
    {
      "cell_type": "code",
      "source": [
        "x = 10\n",
        "y = 25\n",
        "\n",
        "if x > 3 and y > 13:\n",
        "     print(\"Both conditions are correct\")\n",
        "\n",
        "if x <= 3 or y <= 13:\n",
        "    print(\"At least one of the conditions is false\")\n",
        "\n"
      ],
      "metadata": {
        "colab": {
          "base_uri": "https://localhost:8080/"
        },
        "id": "_g-9g_BMBfyP",
        "outputId": "746ddc9e-2817-40b8-a0aa-47f0e609aa1b"
      },
      "execution_count": null,
      "outputs": [
        {
          "output_type": "stream",
          "name": "stdout",
          "text": [
            "Both conditions are correct\n"
          ]
        }
      ]
    },
    {
      "cell_type": "code",
      "source": [
        "def kali_2(x):\n",
        "  return x **2\n",
        "\n",
        "kali_2(2)"
      ],
      "metadata": {
        "id": "5AAWFwQZ89ZY",
        "outputId": "6ba0f758-3e7e-4214-c7c6-bcacb053a203",
        "colab": {
          "base_uri": "https://localhost:8080/"
        }
      },
      "execution_count": 1,
      "outputs": [
        {
          "output_type": "execute_result",
          "data": {
            "text/plain": [
              "4"
            ]
          },
          "metadata": {},
          "execution_count": 1
        }
      ]
    },
    {
      "cell_type": "code",
      "source": [
        "def plus_ten(a):\n",
        "  result = a + 10\n",
        "  return result\n",
        "\n",
        "print(\"hasilnya adalah\", plus_ten(2))"
      ],
      "metadata": {
        "id": "AJRhtJvh-7km",
        "outputId": "81a2115d-7764-479e-a2e8-9039a3b70cb1",
        "colab": {
          "base_uri": "https://localhost:8080/"
        }
      },
      "execution_count": 3,
      "outputs": [
        {
          "output_type": "stream",
          "name": "stdout",
          "text": [
            "hasilnya adalah 12\n"
          ]
        }
      ]
    },
    {
      "cell_type": "code",
      "source": [
        "def exponentiation_exp_2(x):\n",
        "    result = x ** 2\n",
        "    print(\"Raised to the power of 2:\")\n",
        "    return result\n",
        "\n",
        "exponentiation_exp_2(2)"
      ],
      "metadata": {
        "id": "UxNcxS_pADWr",
        "outputId": "8222d2db-cb33-4987-dd16-abc3487055cd",
        "colab": {
          "base_uri": "https://localhost:8080/"
        }
      },
      "execution_count": 5,
      "outputs": [
        {
          "output_type": "stream",
          "name": "stdout",
          "text": [
            "Raised to the power of 2:\n"
          ]
        },
        {
          "output_type": "execute_result",
          "data": {
            "text/plain": [
              "4"
            ]
          },
          "metadata": {},
          "execution_count": 5
        }
      ]
    },
    {
      "cell_type": "code",
      "source": [
        "def jadwal_makan(makan):\n",
        "  return makan * 500\n",
        "\n",
        "def jumlah_kalori(makan):\n",
        "  return jadwal_makan(makan)\n",
        "\n",
        "print(jumlah_kalori(2), jumlah_kalori(4))"
      ],
      "metadata": {
        "id": "gjZ8azcbAmYv",
        "outputId": "268f77b0-28ef-49dc-e2c5-e8cd8ed5da45",
        "colab": {
          "base_uri": "https://localhost:8080/"
        }
      },
      "execution_count": 12,
      "outputs": [
        {
          "output_type": "stream",
          "name": "stdout",
          "text": [
            "1000 2000\n"
          ]
        }
      ]
    },
    {
      "cell_type": "code",
      "source": [
        "def simpan(m):\n",
        "  if m >= 100:\n",
        "    m +=  10\n",
        "    return m\n",
        "  else:\n",
        "    return \"pimpan dulu \""
      ],
      "metadata": {
        "id": "S13MdH5qUGSn"
      },
      "execution_count": 20,
      "outputs": []
    },
    {
      "cell_type": "code",
      "source": [
        "simpan(120)"
      ],
      "metadata": {
        "id": "CRHRfZ_dVPVS",
        "outputId": "a01b232f-25bb-4aa0-87d4-14947f05a3a8",
        "colab": {
          "base_uri": "https://localhost:8080/"
        }
      },
      "execution_count": 22,
      "outputs": [
        {
          "output_type": "execute_result",
          "data": {
            "text/plain": [
              "130"
            ]
          },
          "metadata": {},
          "execution_count": 22
        }
      ]
    },
    {
      "cell_type": "code",
      "source": [
        "def compare_the_two(x):\n",
        "    if x >= 100:\n",
        "        return \"Grather\"\n",
        "    elif x >= 50:\n",
        "        return \"Equal\"\n",
        "    else:\n",
        "        return \"Lesser\"\n",
        "\n",
        "compare_the_two(100)"
      ],
      "metadata": {
        "id": "yhqyanlKV2RK",
        "outputId": "0dc80978-dfe9-48e0-9547-1c90594c8d4b",
        "colab": {
          "base_uri": "https://localhost:8080/",
          "height": 36
        }
      },
      "execution_count": 24,
      "outputs": [
        {
          "output_type": "execute_result",
          "data": {
            "text/plain": [
              "'Grather'"
            ],
            "application/vnd.google.colaboratory.intrinsic+json": {
              "type": "string"
            }
          },
          "metadata": {},
          "execution_count": 24
        }
      ]
    },
    {
      "cell_type": "code",
      "source": [
        "def batu_gunting_kertas(pemain_1, pemain_2):\n",
        "  if pemain_1 == pemain_2:\n",
        "    return \"seri\"\n",
        "  elif pemain_1 == \"batu\":\n",
        "    if pemain_2 == \"gunting\":\n",
        "      return \"pemain 1 menang\"\n",
        "    else:\n",
        "      return \"pemain 2 menang\"\n",
        "\n",
        "batu_gunting_kertas(\"kertas\", \"gunting\")"
      ],
      "metadata": {
        "id": "K_5Zfs5JXTt0"
      },
      "execution_count": 27,
      "outputs": []
    },
    {
      "cell_type": "code",
      "source": [
        "def password(x):\n",
        "  if x == \"123456\":\n",
        "    return \"password benar\"\n",
        "  else:\n",
        "    return \"password salah\"\n",
        "\n",
        "password(\"123456\")"
      ],
      "metadata": {
        "id": "hjRx5ieiaA2j",
        "outputId": "9f141a38-d20d-4a7b-8527-a2f2c6be4618",
        "colab": {
          "base_uri": "https://localhost:8080/",
          "height": 36
        }
      },
      "execution_count": 33,
      "outputs": [
        {
          "output_type": "execute_result",
          "data": {
            "text/plain": [
              "'password benar'"
            ],
            "application/vnd.google.colaboratory.intrinsic+json": {
              "type": "string"
            }
          },
          "metadata": {},
          "execution_count": 33
        }
      ]
    },
    {
      "cell_type": "code",
      "source": [
        "def cek_password():\n",
        "    sandi = input(\"Masukkan password: \")\n",
        "    if sandi == \"rahasia123\":\n",
        "        print(\"Akses diterima\")\n",
        "    else:\n",
        "        print(\"Akses ditolak\")\n",
        "\n",
        "cek_password()"
      ],
      "metadata": {
        "id": "yiR4Q6c8bHfr",
        "outputId": "08917105-b168-405d-cd64-504c41550fe1",
        "colab": {
          "base_uri": "https://localhost:8080/"
        }
      },
      "execution_count": 34,
      "outputs": [
        {
          "output_type": "stream",
          "name": "stdout",
          "text": [
            "Masukkan password: rahasia123\n",
            "Akses diterima\n"
          ]
        }
      ]
    },
    {
      "cell_type": "code",
      "source": [
        "x = [1,4151,536,5,46,53,6,347,3476]\n",
        "print(f'hasil {max(x)}')\n",
        "print(min(x))\n",
        "print(round(55.5))\n",
        "print(pow(10, 3))"
      ],
      "metadata": {
        "id": "-9oP-4TgbTyr",
        "outputId": "e1605a19-3f4e-499e-ed77-785b830bf63a",
        "colab": {
          "base_uri": "https://localhost:8080/"
        }
      },
      "execution_count": 40,
      "outputs": [
        {
          "output_type": "stream",
          "name": "stdout",
          "text": [
            "hasil 4151\n",
            "1\n",
            "56\n",
            "1000\n"
          ]
        }
      ]
    },
    {
      "cell_type": "code",
      "source": [
        "\n"
      ],
      "metadata": {
        "id": "NKEhiBS7hsdd",
        "outputId": "cf9da361-21da-434c-c84f-334d9c885937",
        "colab": {
          "base_uri": "https://localhost:8080/",
          "height": 36
        }
      },
      "execution_count": 41,
      "outputs": [
        {
          "output_type": "execute_result",
          "data": {
            "text/plain": [
              "'Budi'"
            ],
            "application/vnd.google.colaboratory.intrinsic+json": {
              "type": "string"
            }
          },
          "metadata": {},
          "execution_count": 41
        }
      ]
    },
    {
      "cell_type": "code",
      "source": [
        "# prompt: buatkan kode simulasi untuk melempar koin dengan menggunkan math.random dimana ketika hasil math random sama dengan genap maka menjadi ekor dan kepala jika ganjil\n",
        "\n",
        "import random\n",
        "\n",
        "def lempar_koin():\n",
        "  \"\"\"Melakukan simulasi lemparan koin.\n",
        "\n",
        "  Returns:\n",
        "      str: \"kepala\" jika hasil random ganjil, \"ekor\" jika genap.\n",
        "  \"\"\"\n",
        "  hasil = random.randint(0, 1)  # Menghasilkan 0 atau 1 secara acak\n",
        "  if hasil == 0:\n",
        "    return \"ekor\"\n",
        "  else:\n",
        "    return \"kepala\"\n",
        "\n",
        "# Contoh penggunaan\n",
        "print(lempar_koin())\n",
        "print(lempar_koin())\n",
        "print(lempar_koin())\n"
      ],
      "metadata": {
        "id": "r59rUZPIiaON",
        "outputId": "88aad8cb-7dee-4002-f461-4c4e307eaebd",
        "colab": {
          "base_uri": "https://localhost:8080/"
        }
      },
      "execution_count": 48,
      "outputs": [
        {
          "output_type": "stream",
          "name": "stdout",
          "text": [
            "kepala\n",
            "ekor\n",
            "ekor\n"
          ]
        }
      ]
    },
    {
      "cell_type": "code",
      "source": [
        "# ayolan coba sesuai yang menarik lagi agar"
      ],
      "metadata": {
        "id": "4mRYQrRfnbDH"
      },
      "execution_count": null,
      "outputs": []
    }
  ]
}