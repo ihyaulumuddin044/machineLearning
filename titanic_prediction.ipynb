{
  "nbformat": 4,
  "nbformat_minor": 0,
  "metadata": {
    "colab": {
      "provenance": [],
      "toc_visible": true,
      "authorship_tag": "ABX9TyMAIzLtrFR0BNvxN0RNXIPC",
      "include_colab_link": true
    },
    "kernelspec": {
      "name": "python3",
      "display_name": "Python 3"
    },
    "language_info": {
      "name": "python"
    }
  },
  "cells": [
    {
      "cell_type": "markdown",
      "metadata": {
        "id": "view-in-github",
        "colab_type": "text"
      },
      "source": [
        "<a href=\"https://colab.research.google.com/github/ihyaulumuddin044/machineLearning/blob/main/titanic_prediction.ipynb\" target=\"_parent\"><img src=\"https://colab.research.google.com/assets/colab-badge.svg\" alt=\"Open In Colab\"/></a>"
      ]
    },
    {
      "cell_type": "markdown",
      "source": [
        "# Titanic - Machine Learning from Disaster"
      ],
      "metadata": {
        "id": "ncnC9FhuTjZ4"
      }
    },
    {
      "cell_type": "markdown",
      "source": [
        "disini kita akan mencoba memprediksi penumpang yang selamat dan yang tidak menggunakan beberapa algoritma machine learning. untuk data yang lebih dan end point yang dituju bisa langsung kunjungi link kaggle berikut; www.kaggle.com/competitions/titanic/overview/description"
      ],
      "metadata": {
        "id": "KgH8bJd1TqJq"
      }
    },
    {
      "cell_type": "markdown",
      "source": [
        "# Bagian pertama\n",
        " <n/>melihat grafik pada sebaran data yang mungkin mengandung informasi"
      ],
      "metadata": {
        "id": "lvVaapAZTwi2"
      }
    },
    {
      "cell_type": "code",
      "source": [
        "# import semua library yang di perlukan\n",
        "import numpy as np # linear algebra\n",
        "import pandas as pd # data processing, CSV file I/O (e.g. pd.read_csv)\n",
        "import seaborn as sns\n",
        "import matplotlib.pyplot as plt\n",
        "\n",
        "# import file ke notebook\n",
        "import pandas as pd\n",
        "\n",
        "# Load CSV file\n",
        "df = pd.read_csv('train.csv')\n",
        "print(df.head())\n"
      ],
      "metadata": {
        "colab": {
          "base_uri": "https://localhost:8080/"
        },
        "id": "0C_QizpPT-9K",
        "outputId": "0e4e9ee0-ece1-4b6e-c79f-57a18d24eb82"
      },
      "execution_count": 55,
      "outputs": [
        {
          "output_type": "stream",
          "name": "stdout",
          "text": [
            "   PassengerId  Survived  Pclass  \\\n",
            "0            1         0       3   \n",
            "1            2         1       1   \n",
            "2            3         1       3   \n",
            "3            4         1       1   \n",
            "4            5         0       3   \n",
            "\n",
            "                                                Name     Sex   Age  SibSp  \\\n",
            "0                            Braund, Mr. Owen Harris    male  22.0      1   \n",
            "1  Cumings, Mrs. John Bradley (Florence Briggs Th...  female  38.0      1   \n",
            "2                             Heikkinen, Miss. Laina  female  26.0      0   \n",
            "3       Futrelle, Mrs. Jacques Heath (Lily May Peel)  female  35.0      1   \n",
            "4                           Allen, Mr. William Henry    male  35.0      0   \n",
            "\n",
            "   Parch            Ticket     Fare Cabin Embarked  \n",
            "0      0         A/5 21171   7.2500   NaN        S  \n",
            "1      0          PC 17599  71.2833   C85        C  \n",
            "2      0  STON/O2. 3101282   7.9250   NaN        S  \n",
            "3      0            113803  53.1000  C123        S  \n",
            "4      0            373450   8.0500   NaN        S  \n"
          ]
        }
      ]
    },
    {
      "cell_type": "markdown",
      "source": [
        "explorasi data pada dataset"
      ],
      "metadata": {
        "id": "4W1RMONnWxeY"
      }
    },
    {
      "cell_type": "code",
      "source": [
        "train = pd.read_csv(\"train.csv\")\n",
        "\n",
        "display(train.head())\n",
        "\n",
        "print(train.info())\n",
        "print(train.info())\n",
        "print(train.describe())"
      ],
      "metadata": {
        "colab": {
          "base_uri": "https://localhost:8080/",
          "height": 1000
        },
        "id": "S7oMl-8OXLkn",
        "outputId": "f5a98369-fb78-4bff-a3d2-2952fe87d115"
      },
      "execution_count": 56,
      "outputs": [
        {
          "output_type": "display_data",
          "data": {
            "text/plain": [
              "   PassengerId  Survived  Pclass  \\\n",
              "0            1         0       3   \n",
              "1            2         1       1   \n",
              "2            3         1       3   \n",
              "3            4         1       1   \n",
              "4            5         0       3   \n",
              "\n",
              "                                                Name     Sex   Age  SibSp  \\\n",
              "0                            Braund, Mr. Owen Harris    male  22.0      1   \n",
              "1  Cumings, Mrs. John Bradley (Florence Briggs Th...  female  38.0      1   \n",
              "2                             Heikkinen, Miss. Laina  female  26.0      0   \n",
              "3       Futrelle, Mrs. Jacques Heath (Lily May Peel)  female  35.0      1   \n",
              "4                           Allen, Mr. William Henry    male  35.0      0   \n",
              "\n",
              "   Parch            Ticket     Fare Cabin Embarked  \n",
              "0      0         A/5 21171   7.2500   NaN        S  \n",
              "1      0          PC 17599  71.2833   C85        C  \n",
              "2      0  STON/O2. 3101282   7.9250   NaN        S  \n",
              "3      0            113803  53.1000  C123        S  \n",
              "4      0            373450   8.0500   NaN        S  "
            ],
            "text/html": [
              "\n",
              "  <div id=\"df-af55c898-4741-4d69-b903-d23cc3a2226e\" class=\"colab-df-container\">\n",
              "    <div>\n",
              "<style scoped>\n",
              "    .dataframe tbody tr th:only-of-type {\n",
              "        vertical-align: middle;\n",
              "    }\n",
              "\n",
              "    .dataframe tbody tr th {\n",
              "        vertical-align: top;\n",
              "    }\n",
              "\n",
              "    .dataframe thead th {\n",
              "        text-align: right;\n",
              "    }\n",
              "</style>\n",
              "<table border=\"1\" class=\"dataframe\">\n",
              "  <thead>\n",
              "    <tr style=\"text-align: right;\">\n",
              "      <th></th>\n",
              "      <th>PassengerId</th>\n",
              "      <th>Survived</th>\n",
              "      <th>Pclass</th>\n",
              "      <th>Name</th>\n",
              "      <th>Sex</th>\n",
              "      <th>Age</th>\n",
              "      <th>SibSp</th>\n",
              "      <th>Parch</th>\n",
              "      <th>Ticket</th>\n",
              "      <th>Fare</th>\n",
              "      <th>Cabin</th>\n",
              "      <th>Embarked</th>\n",
              "    </tr>\n",
              "  </thead>\n",
              "  <tbody>\n",
              "    <tr>\n",
              "      <th>0</th>\n",
              "      <td>1</td>\n",
              "      <td>0</td>\n",
              "      <td>3</td>\n",
              "      <td>Braund, Mr. Owen Harris</td>\n",
              "      <td>male</td>\n",
              "      <td>22.0</td>\n",
              "      <td>1</td>\n",
              "      <td>0</td>\n",
              "      <td>A/5 21171</td>\n",
              "      <td>7.2500</td>\n",
              "      <td>NaN</td>\n",
              "      <td>S</td>\n",
              "    </tr>\n",
              "    <tr>\n",
              "      <th>1</th>\n",
              "      <td>2</td>\n",
              "      <td>1</td>\n",
              "      <td>1</td>\n",
              "      <td>Cumings, Mrs. John Bradley (Florence Briggs Th...</td>\n",
              "      <td>female</td>\n",
              "      <td>38.0</td>\n",
              "      <td>1</td>\n",
              "      <td>0</td>\n",
              "      <td>PC 17599</td>\n",
              "      <td>71.2833</td>\n",
              "      <td>C85</td>\n",
              "      <td>C</td>\n",
              "    </tr>\n",
              "    <tr>\n",
              "      <th>2</th>\n",
              "      <td>3</td>\n",
              "      <td>1</td>\n",
              "      <td>3</td>\n",
              "      <td>Heikkinen, Miss. Laina</td>\n",
              "      <td>female</td>\n",
              "      <td>26.0</td>\n",
              "      <td>0</td>\n",
              "      <td>0</td>\n",
              "      <td>STON/O2. 3101282</td>\n",
              "      <td>7.9250</td>\n",
              "      <td>NaN</td>\n",
              "      <td>S</td>\n",
              "    </tr>\n",
              "    <tr>\n",
              "      <th>3</th>\n",
              "      <td>4</td>\n",
              "      <td>1</td>\n",
              "      <td>1</td>\n",
              "      <td>Futrelle, Mrs. Jacques Heath (Lily May Peel)</td>\n",
              "      <td>female</td>\n",
              "      <td>35.0</td>\n",
              "      <td>1</td>\n",
              "      <td>0</td>\n",
              "      <td>113803</td>\n",
              "      <td>53.1000</td>\n",
              "      <td>C123</td>\n",
              "      <td>S</td>\n",
              "    </tr>\n",
              "    <tr>\n",
              "      <th>4</th>\n",
              "      <td>5</td>\n",
              "      <td>0</td>\n",
              "      <td>3</td>\n",
              "      <td>Allen, Mr. William Henry</td>\n",
              "      <td>male</td>\n",
              "      <td>35.0</td>\n",
              "      <td>0</td>\n",
              "      <td>0</td>\n",
              "      <td>373450</td>\n",
              "      <td>8.0500</td>\n",
              "      <td>NaN</td>\n",
              "      <td>S</td>\n",
              "    </tr>\n",
              "  </tbody>\n",
              "</table>\n",
              "</div>\n",
              "    <div class=\"colab-df-buttons\">\n",
              "\n",
              "  <div class=\"colab-df-container\">\n",
              "    <button class=\"colab-df-convert\" onclick=\"convertToInteractive('df-af55c898-4741-4d69-b903-d23cc3a2226e')\"\n",
              "            title=\"Convert this dataframe to an interactive table.\"\n",
              "            style=\"display:none;\">\n",
              "\n",
              "  <svg xmlns=\"http://www.w3.org/2000/svg\" height=\"24px\" viewBox=\"0 -960 960 960\">\n",
              "    <path d=\"M120-120v-720h720v720H120Zm60-500h600v-160H180v160Zm220 220h160v-160H400v160Zm0 220h160v-160H400v160ZM180-400h160v-160H180v160Zm440 0h160v-160H620v160ZM180-180h160v-160H180v160Zm440 0h160v-160H620v160Z\"/>\n",
              "  </svg>\n",
              "    </button>\n",
              "\n",
              "  <style>\n",
              "    .colab-df-container {\n",
              "      display:flex;\n",
              "      gap: 12px;\n",
              "    }\n",
              "\n",
              "    .colab-df-convert {\n",
              "      background-color: #E8F0FE;\n",
              "      border: none;\n",
              "      border-radius: 50%;\n",
              "      cursor: pointer;\n",
              "      display: none;\n",
              "      fill: #1967D2;\n",
              "      height: 32px;\n",
              "      padding: 0 0 0 0;\n",
              "      width: 32px;\n",
              "    }\n",
              "\n",
              "    .colab-df-convert:hover {\n",
              "      background-color: #E2EBFA;\n",
              "      box-shadow: 0px 1px 2px rgba(60, 64, 67, 0.3), 0px 1px 3px 1px rgba(60, 64, 67, 0.15);\n",
              "      fill: #174EA6;\n",
              "    }\n",
              "\n",
              "    .colab-df-buttons div {\n",
              "      margin-bottom: 4px;\n",
              "    }\n",
              "\n",
              "    [theme=dark] .colab-df-convert {\n",
              "      background-color: #3B4455;\n",
              "      fill: #D2E3FC;\n",
              "    }\n",
              "\n",
              "    [theme=dark] .colab-df-convert:hover {\n",
              "      background-color: #434B5C;\n",
              "      box-shadow: 0px 1px 3px 1px rgba(0, 0, 0, 0.15);\n",
              "      filter: drop-shadow(0px 1px 2px rgba(0, 0, 0, 0.3));\n",
              "      fill: #FFFFFF;\n",
              "    }\n",
              "  </style>\n",
              "\n",
              "    <script>\n",
              "      const buttonEl =\n",
              "        document.querySelector('#df-af55c898-4741-4d69-b903-d23cc3a2226e button.colab-df-convert');\n",
              "      buttonEl.style.display =\n",
              "        google.colab.kernel.accessAllowed ? 'block' : 'none';\n",
              "\n",
              "      async function convertToInteractive(key) {\n",
              "        const element = document.querySelector('#df-af55c898-4741-4d69-b903-d23cc3a2226e');\n",
              "        const dataTable =\n",
              "          await google.colab.kernel.invokeFunction('convertToInteractive',\n",
              "                                                    [key], {});\n",
              "        if (!dataTable) return;\n",
              "\n",
              "        const docLinkHtml = 'Like what you see? Visit the ' +\n",
              "          '<a target=\"_blank\" href=https://colab.research.google.com/notebooks/data_table.ipynb>data table notebook</a>'\n",
              "          + ' to learn more about interactive tables.';\n",
              "        element.innerHTML = '';\n",
              "        dataTable['output_type'] = 'display_data';\n",
              "        await google.colab.output.renderOutput(dataTable, element);\n",
              "        const docLink = document.createElement('div');\n",
              "        docLink.innerHTML = docLinkHtml;\n",
              "        element.appendChild(docLink);\n",
              "      }\n",
              "    </script>\n",
              "  </div>\n",
              "\n",
              "\n",
              "<div id=\"df-79b5a457-5360-4233-a811-573d7d9a426d\">\n",
              "  <button class=\"colab-df-quickchart\" onclick=\"quickchart('df-79b5a457-5360-4233-a811-573d7d9a426d')\"\n",
              "            title=\"Suggest charts\"\n",
              "            style=\"display:none;\">\n",
              "\n",
              "<svg xmlns=\"http://www.w3.org/2000/svg\" height=\"24px\"viewBox=\"0 0 24 24\"\n",
              "     width=\"24px\">\n",
              "    <g>\n",
              "        <path d=\"M19 3H5c-1.1 0-2 .9-2 2v14c0 1.1.9 2 2 2h14c1.1 0 2-.9 2-2V5c0-1.1-.9-2-2-2zM9 17H7v-7h2v7zm4 0h-2V7h2v10zm4 0h-2v-4h2v4z\"/>\n",
              "    </g>\n",
              "</svg>\n",
              "  </button>\n",
              "\n",
              "<style>\n",
              "  .colab-df-quickchart {\n",
              "      --bg-color: #E8F0FE;\n",
              "      --fill-color: #1967D2;\n",
              "      --hover-bg-color: #E2EBFA;\n",
              "      --hover-fill-color: #174EA6;\n",
              "      --disabled-fill-color: #AAA;\n",
              "      --disabled-bg-color: #DDD;\n",
              "  }\n",
              "\n",
              "  [theme=dark] .colab-df-quickchart {\n",
              "      --bg-color: #3B4455;\n",
              "      --fill-color: #D2E3FC;\n",
              "      --hover-bg-color: #434B5C;\n",
              "      --hover-fill-color: #FFFFFF;\n",
              "      --disabled-bg-color: #3B4455;\n",
              "      --disabled-fill-color: #666;\n",
              "  }\n",
              "\n",
              "  .colab-df-quickchart {\n",
              "    background-color: var(--bg-color);\n",
              "    border: none;\n",
              "    border-radius: 50%;\n",
              "    cursor: pointer;\n",
              "    display: none;\n",
              "    fill: var(--fill-color);\n",
              "    height: 32px;\n",
              "    padding: 0;\n",
              "    width: 32px;\n",
              "  }\n",
              "\n",
              "  .colab-df-quickchart:hover {\n",
              "    background-color: var(--hover-bg-color);\n",
              "    box-shadow: 0 1px 2px rgba(60, 64, 67, 0.3), 0 1px 3px 1px rgba(60, 64, 67, 0.15);\n",
              "    fill: var(--button-hover-fill-color);\n",
              "  }\n",
              "\n",
              "  .colab-df-quickchart-complete:disabled,\n",
              "  .colab-df-quickchart-complete:disabled:hover {\n",
              "    background-color: var(--disabled-bg-color);\n",
              "    fill: var(--disabled-fill-color);\n",
              "    box-shadow: none;\n",
              "  }\n",
              "\n",
              "  .colab-df-spinner {\n",
              "    border: 2px solid var(--fill-color);\n",
              "    border-color: transparent;\n",
              "    border-bottom-color: var(--fill-color);\n",
              "    animation:\n",
              "      spin 1s steps(1) infinite;\n",
              "  }\n",
              "\n",
              "  @keyframes spin {\n",
              "    0% {\n",
              "      border-color: transparent;\n",
              "      border-bottom-color: var(--fill-color);\n",
              "      border-left-color: var(--fill-color);\n",
              "    }\n",
              "    20% {\n",
              "      border-color: transparent;\n",
              "      border-left-color: var(--fill-color);\n",
              "      border-top-color: var(--fill-color);\n",
              "    }\n",
              "    30% {\n",
              "      border-color: transparent;\n",
              "      border-left-color: var(--fill-color);\n",
              "      border-top-color: var(--fill-color);\n",
              "      border-right-color: var(--fill-color);\n",
              "    }\n",
              "    40% {\n",
              "      border-color: transparent;\n",
              "      border-right-color: var(--fill-color);\n",
              "      border-top-color: var(--fill-color);\n",
              "    }\n",
              "    60% {\n",
              "      border-color: transparent;\n",
              "      border-right-color: var(--fill-color);\n",
              "    }\n",
              "    80% {\n",
              "      border-color: transparent;\n",
              "      border-right-color: var(--fill-color);\n",
              "      border-bottom-color: var(--fill-color);\n",
              "    }\n",
              "    90% {\n",
              "      border-color: transparent;\n",
              "      border-bottom-color: var(--fill-color);\n",
              "    }\n",
              "  }\n",
              "</style>\n",
              "\n",
              "  <script>\n",
              "    async function quickchart(key) {\n",
              "      const quickchartButtonEl =\n",
              "        document.querySelector('#' + key + ' button');\n",
              "      quickchartButtonEl.disabled = true;  // To prevent multiple clicks.\n",
              "      quickchartButtonEl.classList.add('colab-df-spinner');\n",
              "      try {\n",
              "        const charts = await google.colab.kernel.invokeFunction(\n",
              "            'suggestCharts', [key], {});\n",
              "      } catch (error) {\n",
              "        console.error('Error during call to suggestCharts:', error);\n",
              "      }\n",
              "      quickchartButtonEl.classList.remove('colab-df-spinner');\n",
              "      quickchartButtonEl.classList.add('colab-df-quickchart-complete');\n",
              "    }\n",
              "    (() => {\n",
              "      let quickchartButtonEl =\n",
              "        document.querySelector('#df-79b5a457-5360-4233-a811-573d7d9a426d button');\n",
              "      quickchartButtonEl.style.display =\n",
              "        google.colab.kernel.accessAllowed ? 'block' : 'none';\n",
              "    })();\n",
              "  </script>\n",
              "</div>\n",
              "\n",
              "    </div>\n",
              "  </div>\n"
            ],
            "application/vnd.google.colaboratory.intrinsic+json": {
              "type": "dataframe",
              "summary": "{\n  \"name\": \"print(train\",\n  \"rows\": 5,\n  \"fields\": [\n    {\n      \"column\": \"PassengerId\",\n      \"properties\": {\n        \"dtype\": \"number\",\n        \"std\": 1,\n        \"min\": 1,\n        \"max\": 5,\n        \"num_unique_values\": 5,\n        \"samples\": [\n          2,\n          5,\n          3\n        ],\n        \"semantic_type\": \"\",\n        \"description\": \"\"\n      }\n    },\n    {\n      \"column\": \"Survived\",\n      \"properties\": {\n        \"dtype\": \"number\",\n        \"std\": 0,\n        \"min\": 0,\n        \"max\": 1,\n        \"num_unique_values\": 2,\n        \"samples\": [\n          1,\n          0\n        ],\n        \"semantic_type\": \"\",\n        \"description\": \"\"\n      }\n    },\n    {\n      \"column\": \"Pclass\",\n      \"properties\": {\n        \"dtype\": \"number\",\n        \"std\": 1,\n        \"min\": 1,\n        \"max\": 3,\n        \"num_unique_values\": 2,\n        \"samples\": [\n          1,\n          3\n        ],\n        \"semantic_type\": \"\",\n        \"description\": \"\"\n      }\n    },\n    {\n      \"column\": \"Name\",\n      \"properties\": {\n        \"dtype\": \"string\",\n        \"num_unique_values\": 5,\n        \"samples\": [\n          \"Cumings, Mrs. John Bradley (Florence Briggs Thayer)\",\n          \"Allen, Mr. William Henry\"\n        ],\n        \"semantic_type\": \"\",\n        \"description\": \"\"\n      }\n    },\n    {\n      \"column\": \"Sex\",\n      \"properties\": {\n        \"dtype\": \"category\",\n        \"num_unique_values\": 2,\n        \"samples\": [\n          \"female\",\n          \"male\"\n        ],\n        \"semantic_type\": \"\",\n        \"description\": \"\"\n      }\n    },\n    {\n      \"column\": \"Age\",\n      \"properties\": {\n        \"dtype\": \"number\",\n        \"std\": 6.833739825307955,\n        \"min\": 22.0,\n        \"max\": 38.0,\n        \"num_unique_values\": 4,\n        \"samples\": [\n          38.0,\n          35.0\n        ],\n        \"semantic_type\": \"\",\n        \"description\": \"\"\n      }\n    },\n    {\n      \"column\": \"SibSp\",\n      \"properties\": {\n        \"dtype\": \"number\",\n        \"std\": 0,\n        \"min\": 0,\n        \"max\": 1,\n        \"num_unique_values\": 2,\n        \"samples\": [\n          0,\n          1\n        ],\n        \"semantic_type\": \"\",\n        \"description\": \"\"\n      }\n    },\n    {\n      \"column\": \"Parch\",\n      \"properties\": {\n        \"dtype\": \"number\",\n        \"std\": 0,\n        \"min\": 0,\n        \"max\": 0,\n        \"num_unique_values\": 1,\n        \"samples\": [\n          0\n        ],\n        \"semantic_type\": \"\",\n        \"description\": \"\"\n      }\n    },\n    {\n      \"column\": \"Ticket\",\n      \"properties\": {\n        \"dtype\": \"string\",\n        \"num_unique_values\": 5,\n        \"samples\": [\n          \"PC 17599\"\n        ],\n        \"semantic_type\": \"\",\n        \"description\": \"\"\n      }\n    },\n    {\n      \"column\": \"Fare\",\n      \"properties\": {\n        \"dtype\": \"number\",\n        \"std\": 30.5100288352535,\n        \"min\": 7.25,\n        \"max\": 71.2833,\n        \"num_unique_values\": 5,\n        \"samples\": [\n          71.2833\n        ],\n        \"semantic_type\": \"\",\n        \"description\": \"\"\n      }\n    },\n    {\n      \"column\": \"Cabin\",\n      \"properties\": {\n        \"dtype\": \"category\",\n        \"num_unique_values\": 2,\n        \"samples\": [\n          \"C123\"\n        ],\n        \"semantic_type\": \"\",\n        \"description\": \"\"\n      }\n    },\n    {\n      \"column\": \"Embarked\",\n      \"properties\": {\n        \"dtype\": \"category\",\n        \"num_unique_values\": 2,\n        \"samples\": [\n          \"C\"\n        ],\n        \"semantic_type\": \"\",\n        \"description\": \"\"\n      }\n    }\n  ]\n}"
            }
          },
          "metadata": {}
        },
        {
          "output_type": "stream",
          "name": "stdout",
          "text": [
            "<class 'pandas.core.frame.DataFrame'>\n",
            "RangeIndex: 891 entries, 0 to 890\n",
            "Data columns (total 12 columns):\n",
            " #   Column       Non-Null Count  Dtype  \n",
            "---  ------       --------------  -----  \n",
            " 0   PassengerId  891 non-null    int64  \n",
            " 1   Survived     891 non-null    int64  \n",
            " 2   Pclass       891 non-null    int64  \n",
            " 3   Name         891 non-null    object \n",
            " 4   Sex          891 non-null    object \n",
            " 5   Age          714 non-null    float64\n",
            " 6   SibSp        891 non-null    int64  \n",
            " 7   Parch        891 non-null    int64  \n",
            " 8   Ticket       891 non-null    object \n",
            " 9   Fare         891 non-null    float64\n",
            " 10  Cabin        204 non-null    object \n",
            " 11  Embarked     889 non-null    object \n",
            "dtypes: float64(2), int64(5), object(5)\n",
            "memory usage: 83.7+ KB\n",
            "None\n",
            "<class 'pandas.core.frame.DataFrame'>\n",
            "RangeIndex: 891 entries, 0 to 890\n",
            "Data columns (total 12 columns):\n",
            " #   Column       Non-Null Count  Dtype  \n",
            "---  ------       --------------  -----  \n",
            " 0   PassengerId  891 non-null    int64  \n",
            " 1   Survived     891 non-null    int64  \n",
            " 2   Pclass       891 non-null    int64  \n",
            " 3   Name         891 non-null    object \n",
            " 4   Sex          891 non-null    object \n",
            " 5   Age          714 non-null    float64\n",
            " 6   SibSp        891 non-null    int64  \n",
            " 7   Parch        891 non-null    int64  \n",
            " 8   Ticket       891 non-null    object \n",
            " 9   Fare         891 non-null    float64\n",
            " 10  Cabin        204 non-null    object \n",
            " 11  Embarked     889 non-null    object \n",
            "dtypes: float64(2), int64(5), object(5)\n",
            "memory usage: 83.7+ KB\n",
            "None\n",
            "       PassengerId    Survived      Pclass         Age       SibSp  \\\n",
            "count   891.000000  891.000000  891.000000  714.000000  891.000000   \n",
            "mean    446.000000    0.383838    2.308642   29.699118    0.523008   \n",
            "std     257.353842    0.486592    0.836071   14.526497    1.102743   \n",
            "min       1.000000    0.000000    1.000000    0.420000    0.000000   \n",
            "25%     223.500000    0.000000    2.000000   20.125000    0.000000   \n",
            "50%     446.000000    0.000000    3.000000   28.000000    0.000000   \n",
            "75%     668.500000    1.000000    3.000000   38.000000    1.000000   \n",
            "max     891.000000    1.000000    3.000000   80.000000    8.000000   \n",
            "\n",
            "            Parch        Fare  \n",
            "count  891.000000  891.000000  \n",
            "mean     0.381594   32.204208  \n",
            "std      0.806057   49.693429  \n",
            "min      0.000000    0.000000  \n",
            "25%      0.000000    7.910400  \n",
            "50%      0.000000   14.454200  \n",
            "75%      0.000000   31.000000  \n",
            "max      6.000000  512.329200  \n"
          ]
        }
      ]
    },
    {
      "cell_type": "markdown",
      "source": [
        "Mari kita mulai dengan kolom Selamat. Kolom ini berisi bilangan bulat 1 atau 0 yang berhubungan dengan selamat (1 = Selamat, 0 = Tidak Selamat)"
      ],
      "metadata": {
        "id": "ACFXFxsAYRjy"
      }
    },
    {
      "cell_type": "code",
      "source": [
        "# visulisasi menggunkan countplot\n",
        "sns.countplot(x=\"Survived\", data=train)\n",
        "plt.show()\n",
        "\n",
        "# Print preposisinya\n",
        "print(train[\"Survived\"].value_counts(normalize=True))"
      ],
      "metadata": {
        "colab": {
          "base_uri": "https://localhost:8080/",
          "height": 518
        },
        "id": "PcTvpxcYYUsr",
        "outputId": "33a968e8-2e57-4ae9-986e-3a970cad1944"
      },
      "execution_count": 57,
      "outputs": [
        {
          "output_type": "display_data",
          "data": {
            "text/plain": [
              "<Figure size 640x480 with 1 Axes>"
            ],
            "image/png": "[encoded data removed]"
          },
          "metadata": {}
        },
        {
          "output_type": "stream",
          "name": "stdout",
          "text": [
            "Survived\n",
            "0    0.616162\n",
            "1    0.383838\n",
            "Name: proportion, dtype: float64\n"
          ]
        }
      ]
    },
    {
      "cell_type": "markdown",
      "source": [
        "# *Pclass*\n",
        "Kolom Pclass berisi status sosial ekonomi penumpang. Hal ini dapat menjadi prediktif untuk model kita\n",
        "\n",
        "<n/>\n",
        "1 = Atas\n",
        "\n",
        "<n/>\n",
        "\n",
        "2 = Menengah\n",
        "<n/>\n",
        "\n",
        "3 = Bawah"
      ],
      "metadata": {
        "id": "jdIl5-ifY4e5"
      }
    },
    {
      "cell_type": "code",
      "source": [
        "# visualisasi menggunakan countplot\n",
        "sns.countplot(x=\"Pclass\", hue=\"Survived\", data=train)\n",
        "plt.show()\n",
        "\n",
        "# proporsi orang yang selamat di setiap kelas\n",
        "print(train[\"Survived\"].groupby(train[\"Pclass\"]).mean())\n",
        "\n",
        "# seberapa banyak orang yang ada di setiap kelas?\n",
        "print(train[\"Pclass\"].value_counts())"
      ],
      "metadata": {
        "colab": {
          "base_uri": "https://localhost:8080/",
          "height": 623
        },
        "id": "kj5C8--2ZVQP",
        "outputId": "2ed958cb-f496-479f-d845-b6aaf4e01264"
      },
      "execution_count": 58,
      "outputs": [
        {
          "output_type": "display_data",
          "data": {
            "text/plain": [
              "<Figure size 640x480 with 1 Axes>"
            ],
            "image/png": "[encoded data removed]"
          },
          "metadata": {}
        },
        {
          "output_type": "stream",
          "name": "stdout",
          "text": [
            "Pclass\n",
            "1    0.629630\n",
            "2    0.472826\n",
            "3    0.242363\n",
            "Name: Survived, dtype: float64\n",
            "Pclass\n",
            "3    491\n",
            "1    216\n",
            "2    184\n",
            "Name: count, dtype: int64\n"
          ]
        }
      ]
    },
    {
      "cell_type": "markdown",
      "source": [
        "Seperti yang telah diduga, penumpang kelas satu memiliki tingkat kelangsungan hidup yang lebih tinggi. kita akan menggunakan informasi ini dalam data pelatihan kita."
      ],
      "metadata": {
        "id": "UMN513QOaZRn"
      }
    },
    {
      "cell_type": "code",
      "execution_count": 59,
      "metadata": {
        "colab": {
          "base_uri": "https://localhost:8080/",
          "height": 206
        },
        "id": "kePc2bKYTS8i",
        "outputId": "368d1c5c-9c2c-482b-c061-19beedd9f30f"
      },
      "outputs": [
        {
          "output_type": "display_data",
          "data": {
            "text/plain": [
              "                                                Name\n",
              "0                            Braund, Mr. Owen Harris\n",
              "1  Cumings, Mrs. John Bradley (Florence Briggs Th...\n",
              "2                             Heikkinen, Miss. Laina\n",
              "3       Futrelle, Mrs. Jacques Heath (Lily May Peel)\n",
              "4                           Allen, Mr. William Henry"
            ],
            "text/html": [
              "\n",
              "  <div id=\"df-e485f0ba-1db6-40ca-b17f-5794e4e98a27\" class=\"colab-df-container\">\n",
              "    <div>\n",
              "<style scoped>\n",
              "    .dataframe tbody tr th:only-of-type {\n",
              "        vertical-align: middle;\n",
              "    }\n",
              "\n",
              "    .dataframe tbody tr th {\n",
              "        vertical-align: top;\n",
              "    }\n",
              "\n",
              "    .dataframe thead th {\n",
              "        text-align: right;\n",
              "    }\n",
              "</style>\n",
              "<table border=\"1\" class=\"dataframe\">\n",
              "  <thead>\n",
              "    <tr style=\"text-align: right;\">\n",
              "      <th></th>\n",
              "      <th>Name</th>\n",
              "    </tr>\n",
              "  </thead>\n",
              "  <tbody>\n",
              "    <tr>\n",
              "      <th>0</th>\n",
              "      <td>Braund, Mr. Owen Harris</td>\n",
              "    </tr>\n",
              "    <tr>\n",
              "      <th>1</th>\n",
              "      <td>Cumings, Mrs. John Bradley (Florence Briggs Th...</td>\n",
              "    </tr>\n",
              "    <tr>\n",
              "      <th>2</th>\n",
              "      <td>Heikkinen, Miss. Laina</td>\n",
              "    </tr>\n",
              "    <tr>\n",
              "      <th>3</th>\n",
              "      <td>Futrelle, Mrs. Jacques Heath (Lily May Peel)</td>\n",
              "    </tr>\n",
              "    <tr>\n",
              "      <th>4</th>\n",
              "      <td>Allen, Mr. William Henry</td>\n",
              "    </tr>\n",
              "  </tbody>\n",
              "</table>\n",
              "</div>\n",
              "    <div class=\"colab-df-buttons\">\n",
              "\n",
              "  <div class=\"colab-df-container\">\n",
              "    <button class=\"colab-df-convert\" onclick=\"convertToInteractive('df-e485f0ba-1db6-40ca-b17f-5794e4e98a27')\"\n",
              "            title=\"Convert this dataframe to an interactive table.\"\n",
              "            style=\"display:none;\">\n",
              "\n",
              "  <svg xmlns=\"http://www.w3.org/2000/svg\" height=\"24px\" viewBox=\"0 -960 960 960\">\n",
              "    <path d=\"M120-120v-720h720v720H120Zm60-500h600v-160H180v160Zm220 220h160v-160H400v160Zm0 220h160v-160H400v160ZM180-400h160v-160H180v160Zm440 0h160v-160H620v160ZM180-180h160v-160H180v160Zm440 0h160v-160H620v160Z\"/>\n",
              "  </svg>\n",
              "    </button>\n",
              "\n",
              "  <style>\n",
              "    .colab-df-container {\n",
              "      display:flex;\n",
              "      gap: 12px;\n",
              "    }\n",
              "\n",
              "    .colab-df-convert {\n",
              "      background-color: #E8F0FE;\n",
              "      border: none;\n",
              "      border-radius: 50%;\n",
              "      cursor: pointer;\n",
              "      display: none;\n",
              "      fill: #1967D2;\n",
              "      height: 32px;\n",
              "      padding: 0 0 0 0;\n",
              "      width: 32px;\n",
              "    }\n",
              "\n",
              "    .colab-df-convert:hover {\n",
              "      background-color: #E2EBFA;\n",
              "      box-shadow: 0px 1px 2px rgba(60, 64, 67, 0.3), 0px 1px 3px 1px rgba(60, 64, 67, 0.15);\n",
              "      fill: #174EA6;\n",
              "    }\n",
              "\n",
              "    .colab-df-buttons div {\n",
              "      margin-bottom: 4px;\n",
              "    }\n",
              "\n",
              "    [theme=dark] .colab-df-convert {\n",
              "      background-color: #3B4455;\n",
              "      fill: #D2E3FC;\n",
              "    }\n",
              "\n",
              "    [theme=dark] .colab-df-convert:hover {\n",
              "      background-color: #434B5C;\n",
              "      box-shadow: 0px 1px 3px 1px rgba(0, 0, 0, 0.15);\n",
              "      filter: drop-shadow(0px 1px 2px rgba(0, 0, 0, 0.3));\n",
              "      fill: #FFFFFF;\n",
              "    }\n",
              "  </style>\n",
              "\n",
              "    <script>\n",
              "      const buttonEl =\n",
              "        document.querySelector('#df-e485f0ba-1db6-40ca-b17f-5794e4e98a27 button.colab-df-convert');\n",
              "      buttonEl.style.display =\n",
              "        google.colab.kernel.accessAllowed ? 'block' : 'none';\n",
              "\n",
              "      async function convertToInteractive(key) {\n",
              "        const element = document.querySelector('#df-e485f0ba-1db6-40ca-b17f-5794e4e98a27');\n",
              "        const dataTable =\n",
              "          await google.colab.kernel.invokeFunction('convertToInteractive',\n",
              "                                                    [key], {});\n",
              "        if (!dataTable) return;\n",
              "\n",
              "        const docLinkHtml = 'Like what you see? Visit the ' +\n",
              "          '<a target=\"_blank\" href=https://colab.research.google.com/notebooks/data_table.ipynb>data table notebook</a>'\n",
              "          + ' to learn more about interactive tables.';\n",
              "        element.innerHTML = '';\n",
              "        dataTable['output_type'] = 'display_data';\n",
              "        await google.colab.output.renderOutput(dataTable, element);\n",
              "        const docLink = document.createElement('div');\n",
              "        docLink.innerHTML = docLinkHtml;\n",
              "        element.appendChild(docLink);\n",
              "      }\n",
              "    </script>\n",
              "  </div>\n",
              "\n",
              "\n",
              "<div id=\"df-e6f7b69f-2fd0-4159-bac0-b8625fc7406b\">\n",
              "  <button class=\"colab-df-quickchart\" onclick=\"quickchart('df-e6f7b69f-2fd0-4159-bac0-b8625fc7406b')\"\n",
              "            title=\"Suggest charts\"\n",
              "            style=\"display:none;\">\n",
              "\n",
              "<svg xmlns=\"http://www.w3.org/2000/svg\" height=\"24px\"viewBox=\"0 0 24 24\"\n",
              "     width=\"24px\">\n",
              "    <g>\n",
              "        <path d=\"M19 3H5c-1.1 0-2 .9-2 2v14c0 1.1.9 2 2 2h14c1.1 0 2-.9 2-2V5c0-1.1-.9-2-2-2zM9 17H7v-7h2v7zm4 0h-2V7h2v10zm4 0h-2v-4h2v4z\"/>\n",
              "    </g>\n",
              "</svg>\n",
              "  </button>\n",
              "\n",
              "<style>\n",
              "  .colab-df-quickchart {\n",
              "      --bg-color: #E8F0FE;\n",
              "      --fill-color: #1967D2;\n",
              "      --hover-bg-color: #E2EBFA;\n",
              "      --hover-fill-color: #174EA6;\n",
              "      --disabled-fill-color: #AAA;\n",
              "      --disabled-bg-color: #DDD;\n",
              "  }\n",
              "\n",
              "  [theme=dark] .colab-df-quickchart {\n",
              "      --bg-color: #3B4455;\n",
              "      --fill-color: #D2E3FC;\n",
              "      --hover-bg-color: #434B5C;\n",
              "      --hover-fill-color: #FFFFFF;\n",
              "      --disabled-bg-color: #3B4455;\n",
              "      --disabled-fill-color: #666;\n",
              "  }\n",
              "\n",
              "  .colab-df-quickchart {\n",
              "    background-color: var(--bg-color);\n",
              "    border: none;\n",
              "    border-radius: 50%;\n",
              "    cursor: pointer;\n",
              "    display: none;\n",
              "    fill: var(--fill-color);\n",
              "    height: 32px;\n",
              "    padding: 0;\n",
              "    width: 32px;\n",
              "  }\n",
              "\n",
              "  .colab-df-quickchart:hover {\n",
              "    background-color: var(--hover-bg-color);\n",
              "    box-shadow: 0 1px 2px rgba(60, 64, 67, 0.3), 0 1px 3px 1px rgba(60, 64, 67, 0.15);\n",
              "    fill: var(--button-hover-fill-color);\n",
              "  }\n",
              "\n",
              "  .colab-df-quickchart-complete:disabled,\n",
              "  .colab-df-quickchart-complete:disabled:hover {\n",
              "    background-color: var(--disabled-bg-color);\n",
              "    fill: var(--disabled-fill-color);\n",
              "    box-shadow: none;\n",
              "  }\n",
              "\n",
              "  .colab-df-spinner {\n",
              "    border: 2px solid var(--fill-color);\n",
              "    border-color: transparent;\n",
              "    border-bottom-color: var(--fill-color);\n",
              "    animation:\n",
              "      spin 1s steps(1) infinite;\n",
              "  }\n",
              "\n",
              "  @keyframes spin {\n",
              "    0% {\n",
              "      border-color: transparent;\n",
              "      border-bottom-color: var(--fill-color);\n",
              "      border-left-color: var(--fill-color);\n",
              "    }\n",
              "    20% {\n",
              "      border-color: transparent;\n",
              "      border-left-color: var(--fill-color);\n",
              "      border-top-color: var(--fill-color);\n",
              "    }\n",
              "    30% {\n",
              "      border-color: transparent;\n",
              "      border-left-color: var(--fill-color);\n",
              "      border-top-color: var(--fill-color);\n",
              "      border-right-color: var(--fill-color);\n",
              "    }\n",
              "    40% {\n",
              "      border-color: transparent;\n",
              "      border-right-color: var(--fill-color);\n",
              "      border-top-color: var(--fill-color);\n",
              "    }\n",
              "    60% {\n",
              "      border-color: transparent;\n",
              "      border-right-color: var(--fill-color);\n",
              "    }\n",
              "    80% {\n",
              "      border-color: transparent;\n",
              "      border-right-color: var(--fill-color);\n",
              "      border-bottom-color: var(--fill-color);\n",
              "    }\n",
              "    90% {\n",
              "      border-color: transparent;\n",
              "      border-bottom-color: var(--fill-color);\n",
              "    }\n",
              "  }\n",
              "</style>\n",
              "\n",
              "  <script>\n",
              "    async function quickchart(key) {\n",
              "      const quickchartButtonEl =\n",
              "        document.querySelector('#' + key + ' button');\n",
              "      quickchartButtonEl.disabled = true;  // To prevent multiple clicks.\n",
              "      quickchartButtonEl.classList.add('colab-df-spinner');\n",
              "      try {\n",
              "        const charts = await google.colab.kernel.invokeFunction(\n",
              "            'suggestCharts', [key], {});\n",
              "      } catch (error) {\n",
              "        console.error('Error during call to suggestCharts:', error);\n",
              "      }\n",
              "      quickchartButtonEl.classList.remove('colab-df-spinner');\n",
              "      quickchartButtonEl.classList.add('colab-df-quickchart-complete');\n",
              "    }\n",
              "    (() => {\n",
              "      let quickchartButtonEl =\n",
              "        document.querySelector('#df-e6f7b69f-2fd0-4159-bac0-b8625fc7406b button');\n",
              "      quickchartButtonEl.style.display =\n",
              "        google.colab.kernel.accessAllowed ? 'block' : 'none';\n",
              "    })();\n",
              "  </script>\n",
              "</div>\n",
              "\n",
              "    </div>\n",
              "  </div>\n"
            ],
            "application/vnd.google.colaboratory.intrinsic+json": {
              "type": "dataframe",
              "summary": "{\n  \"name\": \"display(train[[\\\"Name\\\"]]\",\n  \"rows\": 5,\n  \"fields\": [\n    {\n      \"column\": \"Name\",\n      \"properties\": {\n        \"dtype\": \"string\",\n        \"num_unique_values\": 5,\n        \"samples\": [\n          \"Cumings, Mrs. John Bradley (Florence Briggs Thayer)\",\n          \"Allen, Mr. William Henry\",\n          \"Heikkinen, Miss. Laina\"\n        ],\n        \"semantic_type\": \"\",\n        \"description\": \"\"\n      }\n    }\n  ]\n}"
            }
          },
          "metadata": {}
        }
      ],
      "source": [
        "# melihat 5 baris ppertana dari colom!\n",
        "display(train[[\"Name\"]].head())"
      ]
    },
    {
      "cell_type": "markdown",
      "source": [
        "Kita dapat mengekstrak title dari nama. mungkin kita bisa mendapatkan informasi yang menarik"
      ],
      "metadata": {
        "id": "72dWnjmlbV81"
      }
    },
    {
      "cell_type": "code",
      "source": [
        "# mengambil title\n",
        "train[\"Title\"] = train['Name'].str.split(', ', expand=True)[1].str.split('.', expand=True)[0]\n",
        "\n",
        "# mejumlahkan menurut title\n",
        "print(train[\"Title\"].value_counts())"
      ],
      "metadata": {
        "colab": {
          "base_uri": "https://localhost:8080/"
        },
        "id": "5W8HS8Hfbnfr",
        "outputId": "9a194557-d313-4f24-b8d6-5105336d5d64"
      },
      "execution_count": 60,
      "outputs": [
        {
          "output_type": "stream",
          "name": "stdout",
          "text": [
            "Title\n",
            "Mr              517\n",
            "Miss            182\n",
            "Mrs             125\n",
            "Master           40\n",
            "Dr                7\n",
            "Rev               6\n",
            "Mlle              2\n",
            "Major             2\n",
            "Col               2\n",
            "the Countess      1\n",
            "Capt              1\n",
            "Ms                1\n",
            "Sir               1\n",
            "Lady              1\n",
            "Mme               1\n",
            "Don               1\n",
            "Jonkheer          1\n",
            "Name: count, dtype: int64\n"
          ]
        }
      ]
    },
    {
      "cell_type": "markdown",
      "source": [
        "Apakah ada hubungan antara title(gelar) dan bertahan hidup?.\n",
        "\n",
        "menarik untuk di ketahui apakah ada benang merah atar keduanya!\n",
        "\n",
        "\n",
        "\n"
      ],
      "metadata": {
        "id": "1U4Z7XISb-Gn"
      }
    },
    {
      "cell_type": "code",
      "source": [
        "# Print presentase bertahan hidup berdasarkan title\n",
        "print(train[\"Survived\"].groupby(train[\"Title\"]).mean().sort_values(ascending=False))"
      ],
      "metadata": {
        "colab": {
          "base_uri": "https://localhost:8080/"
        },
        "id": "_jQRwkIZcKov",
        "outputId": "53e88b11-3340-4153-8c99-a10de41bb636"
      },
      "execution_count": 61,
      "outputs": [
        {
          "output_type": "stream",
          "name": "stdout",
          "text": [
            "Title\n",
            "the Countess    1.000000\n",
            "Mlle            1.000000\n",
            "Sir             1.000000\n",
            "Ms              1.000000\n",
            "Lady            1.000000\n",
            "Mme             1.000000\n",
            "Mrs             0.792000\n",
            "Miss            0.697802\n",
            "Master          0.575000\n",
            "Col             0.500000\n",
            "Major           0.500000\n",
            "Dr              0.428571\n",
            "Mr              0.156673\n",
            "Jonkheer        0.000000\n",
            "Rev             0.000000\n",
            "Don             0.000000\n",
            "Capt            0.000000\n",
            "Name: Survived, dtype: float64\n"
          ]
        }
      ]
    },
    {
      "cell_type": "markdown",
      "source": [
        "Ternyata, ada korelasi antara gelar dan tingkat kelangsungan hidup. Di bagian teknik fitur, saya akan mengelompokkan gelar berdasarkan tingkat kelangsungan hidupnya seperti berikut ini\n",
        "\n",
        "\n",
        "lebih tinggi = bangsawan, nyonya, nona, ibu, tuan, nyonya muda, nyonya tua, tuan\n",
        "\n",
        "netral = Mayor, Kolonel, Dr\n",
        "\n",
        "lebih rendah = Tuan, Pendeta, Jonkheer, Don, Kapten"
      ],
      "metadata": {
        "id": "edrvSO10gR4T"
      }
    },
    {
      "cell_type": "markdown",
      "source": [
        "#usia"
      ],
      "metadata": {
        "id": "FNpU4NDRgwQJ"
      }
    },
    {
      "cell_type": "code",
      "source": [
        "print(train[\"Age\"].isnull().sum())"
      ],
      "metadata": {
        "colab": {
          "base_uri": "https://localhost:8080/"
        },
        "id": "w53EKZvlgblY",
        "outputId": "a2faa5a6-338d-482b-a00c-5d45409b189a"
      },
      "execution_count": 62,
      "outputs": [
        {
          "output_type": "stream",
          "name": "stdout",
          "text": [
            "177\n"
          ]
        }
      ]
    },
    {
      "cell_type": "markdown",
      "source": [
        "Ada 177 nilai yang hilang di kolom Usia, kita akan memperhitungkannya di bagian rekayasa fitur. Sekarang, mari kita lihat distribusi usia dengan pengaruh bertahan hidup"
      ],
      "metadata": {
        "id": "4D0BmrjYicts"
      }
    },
    {
      "cell_type": "code",
      "source": [
        "# Bertahan hidup berdasarkan usia\n",
        "sns.histplot(train[train.Survived == 1][\"Age\"], color=\"y\", bins=7, label=\"1\", kde=True)\n",
        "\n",
        "# kematian berdasarkan usia\n",
        "sns.histplot(train[train.Survived == 0][\"Age\"], bins=7, label=\"0\", kde=True)\n",
        "\n",
        "# legend\n",
        "plt.legend()\n",
        "plt.title(\"Age Distribution\")\n",
        "plt.show()"
      ],
      "metadata": {
        "colab": {
          "base_uri": "https://localhost:8080/",
          "height": 472
        },
        "id": "5sBFxLVohghe",
        "outputId": "08285d6e-ecec-44ed-95b1-ab45fa9dcdfb"
      },
      "execution_count": 63,
      "outputs": [
        {
          "output_type": "display_data",
          "data": {
            "text/plain": [
              "<Figure size 640x480 with 1 Axes>"
            ],
            "image/png": "[encoded data removed]"
          },
          "metadata": {}
        }
      ]
    },
    {
      "cell_type": "markdown",
      "source": [
        "# jenis kelamin"
      ],
      "metadata": {
        "id": "76oDIJ2njDIj"
      }
    },
    {
      "cell_type": "markdown",
      "source": [
        "apakah jenis kelamin mempengaruhi rasio bertahan hidup?\n",
        "\n",
        "apakah laki-laki memiliki tingkat selamat yang lebih tinggi dari perempuan atau sebaliknya!?"
      ],
      "metadata": {
        "id": "Brinz8X9jHbL"
      }
    },
    {
      "cell_type": "code",
      "source": [
        "# vusialisasi countplot\n",
        "sns.countplot(x=\"Sex\", hue=\"Survived\", data=train)\n",
        "plt.show()\n",
        "\n",
        "# jumlah orang-orang yang selamat di setiap kelas\n",
        "print(train[\"Survived\"].groupby(train[\"Sex\"]).mean())\n",
        "\n",
        "# seberapa banyak orang yang kita punya?\n",
        "print(train[\"Sex\"].value_counts())"
      ],
      "metadata": {
        "colab": {
          "base_uri": "https://localhost:8080/",
          "height": 588
        },
        "id": "p1nUQ2bhjf2K",
        "outputId": "5773758e-30b6-4655-c6ce-14b8835c1f52"
      },
      "execution_count": 64,
      "outputs": [
        {
          "output_type": "display_data",
          "data": {
            "text/plain": [
              "<Figure size 640x480 with 1 Axes>"
            ],
            "image/png": "[encoded data removed]"
          },
          "metadata": {}
        },
        {
          "output_type": "stream",
          "name": "stdout",
          "text": [
            "Sex\n",
            "female    0.742038\n",
            "male      0.188908\n",
            "Name: Survived, dtype: float64\n",
            "Sex\n",
            "male      577\n",
            "female    314\n",
            "Name: count, dtype: int64\n"
          ]
        }
      ]
    },
    {
      "cell_type": "markdown",
      "source": [
        "Jelas, ada hubungan antara jenis kelamin dan bertahan hidup. dan sungguh menarik mengetahui bahwa wanita memiliki rasio bertahan hidup lebih tinggi. kira-kita kenapa bisa demikian?"
      ],
      "metadata": {
        "id": "Xmxk-C5vj99i"
      }
    },
    {
      "cell_type": "markdown",
      "source": [
        "# SibSp(saudara) & Parch(orang tua)\n",
        "\n",
        "\n"
      ],
      "metadata": {
        "id": "EqImgMVIk9DS"
      }
    },
    {
      "cell_type": "markdown",
      "source": [
        "SibSp = Nomor Saudara Kandung atau Pasangan\n",
        "\n",
        "Parch = Nomor Orang Tua atau Anak\n",
        "\n",
        "Kemudian saya memutuskan untuk membuat fitur baru yang disebut ukuran keluarga dengan menjumlahkan kolom SibSp dan Parch"
      ],
      "metadata": {
        "id": "z1kc3qTslA-y"
      }
    },
    {
      "cell_type": "code",
      "source": [
        "print(train[\"SibSp\"].value_counts())\n",
        "\n",
        "print(train[\"Parch\"].value_counts())\n",
        "\n",
        "train[\"family_size\"] = train[\"SibSp\"] + train[\"Parch\"]\n",
        "\n",
        "print(train[\"family_size\"].value_counts())\n",
        "\n",
        "# Proportion of people survived for each class\n",
        "print(train[\"Survived\"].groupby(train[\"family_size\"]).mean().sort_values(ascending=False))"
      ],
      "metadata": {
        "colab": {
          "base_uri": "https://localhost:8080/"
        },
        "id": "WEAMbCpUlIcl",
        "outputId": "2244d63b-fd51-47cd-d8ae-1d127701eeec"
      },
      "execution_count": 65,
      "outputs": [
        {
          "output_type": "stream",
          "name": "stdout",
          "text": [
            "SibSp\n",
            "0    608\n",
            "1    209\n",
            "2     28\n",
            "4     18\n",
            "3     16\n",
            "8      7\n",
            "5      5\n",
            "Name: count, dtype: int64\n",
            "Parch\n",
            "0    678\n",
            "1    118\n",
            "2     80\n",
            "5      5\n",
            "3      5\n",
            "4      4\n",
            "6      1\n",
            "Name: count, dtype: int64\n",
            "family_size\n",
            "0     537\n",
            "1     161\n",
            "2     102\n",
            "3      29\n",
            "5      22\n",
            "4      15\n",
            "6      12\n",
            "10      7\n",
            "7       6\n",
            "Name: count, dtype: int64\n",
            "family_size\n",
            "3     0.724138\n",
            "2     0.578431\n",
            "1     0.552795\n",
            "6     0.333333\n",
            "0     0.303538\n",
            "4     0.200000\n",
            "5     0.136364\n",
            "7     0.000000\n",
            "10    0.000000\n",
            "Name: Survived, dtype: float64\n"
          ]
        }
      ]
    },
    {
      "cell_type": "markdown",
      "source": [
        "Tampaknya, ukuran keluarga penting untuk bertahan hidup. Saya akan mengelompokkan mereka dalam langkah rekayasa fitur seperti berikut\n",
        "keluarga besar = jika ukuran keluarga > 3\n",
        "\n",
        "keluarga kecil = jika ukuran keluarga > 0 dan ukuran keluarga < =3\n",
        "\n",
        "sendirian = ukuran keluarga == 0"
      ],
      "metadata": {
        "id": "w9e9gc0wlTGf"
      }
    },
    {
      "cell_type": "markdown",
      "source": [
        "# tiket"
      ],
      "metadata": {
        "id": "fMqSkx8LmvfP"
      }
    },
    {
      "cell_type": "markdown",
      "source": [
        "Mulanya, saya berpikir bahwa saya akan mengabaikan kolom ini, tetapi setelah melakukan eksplorasi, saya menemukan fitur-fitur yang cukup bermanfaat."
      ],
      "metadata": {
        "id": "VLBJSso-mxsL"
      }
    },
    {
      "cell_type": "code",
      "source": [
        "# mari print head colom tiket\n",
        "print(train[\"Ticket\"].head(15))"
      ],
      "metadata": {
        "colab": {
          "base_uri": "https://localhost:8080/"
        },
        "id": "2xm3XlOGnIMZ",
        "outputId": "4c3616c6-2fbb-46b5-c633-12591caa38e2"
      },
      "execution_count": 66,
      "outputs": [
        {
          "output_type": "stream",
          "name": "stdout",
          "text": [
            "0            A/5 21171\n",
            "1             PC 17599\n",
            "2     STON/O2. 3101282\n",
            "3               113803\n",
            "4               373450\n",
            "5               330877\n",
            "6                17463\n",
            "7               349909\n",
            "8               347742\n",
            "9               237736\n",
            "10             PP 9549\n",
            "11              113783\n",
            "12           A/5. 2151\n",
            "13              347082\n",
            "14              350406\n",
            "Name: Ticket, dtype: object\n"
          ]
        }
      ]
    },
    {
      "cell_type": "markdown",
      "source": [
        "Saya hanya mengekstrak huruf pertama dari tiket karena saya pikir huruf tersebut menunjukkan jenis tiket."
      ],
      "metadata": {
        "id": "C0QGh3T7na2M"
      }
    },
    {
      "cell_type": "code",
      "source": [
        "# ambil huruf pertama dari setiap tiket\n",
        "train[\"Ticket_first\"] = train[\"Ticket\"].apply(lambda x: str(x)[0])\n",
        "\n",
        "# hitunh nilai perhitungan\n",
        "print(train[\"Ticket_first\"].value_counts())\n",
        "\n",
        "# rasio bertahan hidup menurut tiket\n",
        "print(train.groupby(\"Ticket_first\")[\"Survived\"].mean().sort_values(ascending=False))"
      ],
      "metadata": {
        "colab": {
          "base_uri": "https://localhost:8080/"
        },
        "id": "NfBRC7QvngUD",
        "outputId": "3edb465c-b4ea-48d1-9922-23105e37bfe8"
      },
      "execution_count": 67,
      "outputs": [
        {
          "output_type": "stream",
          "name": "stdout",
          "text": [
            "Ticket_first\n",
            "3    301\n",
            "2    183\n",
            "1    146\n",
            "P     65\n",
            "S     65\n",
            "C     47\n",
            "A     29\n",
            "W     13\n",
            "4     10\n",
            "7      9\n",
            "F      7\n",
            "6      6\n",
            "L      4\n",
            "5      3\n",
            "8      2\n",
            "9      1\n",
            "Name: count, dtype: int64\n",
            "Ticket_first\n",
            "9    1.000000\n",
            "P    0.646154\n",
            "1    0.630137\n",
            "F    0.571429\n",
            "2    0.464481\n",
            "C    0.340426\n",
            "S    0.323077\n",
            "L    0.250000\n",
            "3    0.239203\n",
            "4    0.200000\n",
            "6    0.166667\n",
            "W    0.153846\n",
            "7    0.111111\n",
            "A    0.068966\n",
            "5    0.000000\n",
            "8    0.000000\n",
            "Name: Survived, dtype: float64\n"
          ]
        }
      ]
    },
    {
      "cell_type": "markdown",
      "source": [
        "Huruf pertama dari tiket berkorelasi dengan tingkat kelangsungan hidup. kita akan mengelompokkan mereka seperti berikut ini\n",
        "\n",
        "tingkat kelangsungan hidup yang lebih tinggi = F, 1, P, 9\n",
        "\n",
        "netral = S, C, 2\n",
        "\n",
        "tingkat kelangsungan hidup yang lebih rendah = lainnya"
      ],
      "metadata": {
        "id": "w17BQc6_oQBQ"
      }
    },
    {
      "cell_type": "markdown",
      "source": [
        "# Tarif"
      ],
      "metadata": {
        "id": "vPA7l1_THN_Q"
      }
    },
    {
      "cell_type": "markdown",
      "source": [
        "Kita dapat membuat histogram untuk menampilkan distribusi Tarif\n"
      ],
      "metadata": {
        "id": "3_k1HPNTHSAY"
      }
    },
    {
      "cell_type": "code",
      "source": [
        "# Mencetak 3 tempat pada kolom Tarif\n",
        "print(pd.cut(train['Fare'], 3).value_counts())\n",
        "\n",
        "# Membuat plot histogram\n",
        "sns.displot(train[\"Fare\"], kde=True)\n",
        "plt.show()\n",
        "\n",
        "#  Cetak Tarif terpilah berdasarkan tarif yang masih berlaku\n",
        "print(train['Survived'].groupby(pd.cut(train['Fare'], 3), observed=False).mean())"
      ],
      "metadata": {
        "colab": {
          "base_uri": "https://localhost:8080/",
          "height": 680
        },
        "id": "rI5Zm6w-HWHQ",
        "outputId": "ffcd6529-ab4d-41af-cbdb-9a1e3418a9a3"
      },
      "execution_count": 68,
      "outputs": [
        {
          "output_type": "stream",
          "name": "stdout",
          "text": [
            "Fare\n",
            "(-0.512, 170.776]     871\n",
            "(170.776, 341.553]     17\n",
            "(341.553, 512.329]      3\n",
            "Name: count, dtype: int64\n"
          ]
        },
        {
          "output_type": "display_data",
          "data": {
            "text/plain": [
              "<Figure size 500x500 with 1 Axes>"
            ],
            "image/png": "[encoded data removed]"
          },
          "metadata": {}
        },
        {
          "output_type": "stream",
          "name": "stdout",
          "text": [
            "Fare\n",
            "(-0.512, 170.776]     0.376579\n",
            "(170.776, 341.553]    0.647059\n",
            "(341.553, 512.329]    1.000000\n",
            "Name: Survived, dtype: float64\n"
          ]
        }
      ]
    },
    {
      "cell_type": "markdown",
      "source": [
        "Ada juga hubungan antara tarif tiket dan kelangsungan hidup"
      ],
      "metadata": {
        "id": "YxMDwRz-ON_D"
      }
    },
    {
      "cell_type": "markdown",
      "source": [
        "# Kabin"
      ],
      "metadata": {
        "id": "jNUIxIi2OYfG"
      }
    },
    {
      "cell_type": "code",
      "source": [
        "from PIL import Image\n",
        "import matplotlib.pyplot as plt\n",
        "\n",
        "# Masukkan nama file gambar\n",
        "nama_file = \"titanic.png\"  # Sesuaikan dengan nama file yang diunggah\n",
        "\n",
        "# Buka dan tampilkan gambar\n",
        "img = Image.open(nama_file)\n",
        "plt.figure(figsize=(10, 10))  # Mengatur ukuran gambar\n",
        "plt.imshow(img)\n",
        "plt.axis('off')  # Menonaktifkan sumbu\n",
        "plt.show()\n"
      ],
      "metadata": {
        "colab": {
          "base_uri": "https://localhost:8080/",
          "height": 281
        },
        "id": "hH86HbzDO9xW",
        "outputId": "5c240b5a-8d2d-4c97-9f67-42ade13fa517"
      },
      "execution_count": 69,
      "outputs": [
        {
          "output_type": "display_data",
          "data": {
            "text/plain": [
              "<Figure size 1000x1000 with 1 Axes>"
            ],
            "image/png": "[encoded data removed]"
          },
          "metadata": {}
        }
      ]
    },
    {
      "cell_type": "markdown",
      "source": [
        "\n",
        "Gambar ini menunjukkan kepada kita bagian yang paling terdampak dari Titanic dan lokasi Kabin. Meskipun ada banyak nilai yang hilang di kolom Kabin, saya memutuskan untuk mengekstrak informasi Kabin untuk mencoba apakah berhasil atau tidak.\n"
      ],
      "metadata": {
        "id": "N2969pcdOb9G"
      }
    },
    {
      "cell_type": "code",
      "source": [
        "  # Menampilkan informasi unik di kolom Cabin (Kabin)\n",
        "\n",
        "print(train[\"Cabin\"].unique())\n",
        "\n",
        "#  Ambil huruf pertama dari Kabin\n",
        "\n",
        "train[\"Cabin_first\"] = train[\"Cabin\"].apply(lambda x: str(x)[0])\n",
        "\n",
        "#  Menampilkan jumlah nilai cetak huruf pertama\n",
        "\n",
        "print(train[\"Cabin_first\"].value_counts())\n",
        "\n",
        "#  Tingkat kelangsungan hidup huruf pertama Kabin\n",
        "\n",
        "print(train.groupby(\"Cabin_first\")[\"Survived\"].mean().sort_values(ascending=False))"
      ],
      "metadata": {
        "colab": {
          "base_uri": "https://localhost:8080/"
        },
        "id": "c8nqUTakOWGS",
        "outputId": "8e438496-06f0-493e-e062-cb491fb85dc5"
      },
      "execution_count": 70,
      "outputs": [
        {
          "output_type": "stream",
          "name": "stdout",
          "text": [
            "[nan 'C85' 'C123' 'E46' 'G6' 'C103' 'D56' 'A6' 'C23 C25 C27' 'B78' 'D33'\n",
            " 'B30' 'C52' 'B28' 'C83' 'F33' 'F G73' 'E31' 'A5' 'D10 D12' 'D26' 'C110'\n",
            " 'B58 B60' 'E101' 'F E69' 'D47' 'B86' 'F2' 'C2' 'E33' 'B19' 'A7' 'C49'\n",
            " 'F4' 'A32' 'B4' 'B80' 'A31' 'D36' 'D15' 'C93' 'C78' 'D35' 'C87' 'B77'\n",
            " 'E67' 'B94' 'C125' 'C99' 'C118' 'D7' 'A19' 'B49' 'D' 'C22 C26' 'C106'\n",
            " 'C65' 'E36' 'C54' 'B57 B59 B63 B66' 'C7' 'E34' 'C32' 'B18' 'C124' 'C91'\n",
            " 'E40' 'T' 'C128' 'D37' 'B35' 'E50' 'C82' 'B96 B98' 'E10' 'E44' 'A34'\n",
            " 'C104' 'C111' 'C92' 'E38' 'D21' 'E12' 'E63' 'A14' 'B37' 'C30' 'D20' 'B79'\n",
            " 'E25' 'D46' 'B73' 'C95' 'B38' 'B39' 'B22' 'C86' 'C70' 'A16' 'C101' 'C68'\n",
            " 'A10' 'E68' 'B41' 'A20' 'D19' 'D50' 'D9' 'A23' 'B50' 'A26' 'D48' 'E58'\n",
            " 'C126' 'B71' 'B51 B53 B55' 'D49' 'B5' 'B20' 'F G63' 'C62 C64' 'E24' 'C90'\n",
            " 'C45' 'E8' 'B101' 'D45' 'C46' 'D30' 'E121' 'D11' 'E77' 'F38' 'B3' 'D6'\n",
            " 'B82 B84' 'D17' 'A36' 'B102' 'B69' 'E49' 'C47' 'D28' 'E17' 'A24' 'C50'\n",
            " 'B42' 'C148']\n",
            "Cabin_first\n",
            "n    687\n",
            "C     59\n",
            "B     47\n",
            "D     33\n",
            "E     32\n",
            "A     15\n",
            "F     13\n",
            "G      4\n",
            "T      1\n",
            "Name: count, dtype: int64\n",
            "Cabin_first\n",
            "D    0.757576\n",
            "E    0.750000\n",
            "B    0.744681\n",
            "F    0.615385\n",
            "C    0.593220\n",
            "G    0.500000\n",
            "A    0.466667\n",
            "n    0.299854\n",
            "T    0.000000\n",
            "Name: Survived, dtype: float64\n"
          ]
        }
      ]
    },
    {
      "cell_type": "markdown",
      "source": [
        "Menurut tarif yang masih berlaku. Saya akan mengelompokkan Kabin seperti berikut ini.\n",
        "\n",
        "tingkat kelangsungan hidup yang lebih tinggi = D, E, B, F, C\n",
        "\n",
        "netral = G, A\n",
        "\n",
        "tingkat kelangsungan hidup yang lebih rendah lainnya"
      ],
      "metadata": {
        "id": "b5F2du_SSIls"
      }
    },
    {
      "cell_type": "markdown",
      "source": [
        "# embarked"
      ],
      "metadata": {
        "id": "ltAhxMUTSady"
      }
    },
    {
      "cell_type": "markdown",
      "source": [
        "Embarked\n",
        "\n",
        "Embarked adalah fitur kategorikal yang menunjukkan pelabuhan keberangkatan.\n",
        "\n",
        "C = Cherbourg\n",
        "\n",
        "Q = Queenstown\n",
        "\n",
        "S = Southampton\n"
      ],
      "metadata": {
        "id": "LvBLpgl5Sh3T"
      }
    },
    {
      "cell_type": "code",
      "source": [
        "# membuat diagram countplot\n",
        "sns.countplot(x=\"Embarked\", hue=\"Survived\", data=train)\n",
        "plt.show()\n",
        "\n",
        "# menampilkan jumlah\n",
        "print(train[\"Embarked\"].value_counts())\n",
        "\n",
        "# jumlah penumpang yang selamat untuk setipa pelayaran\n",
        "print(train[\"Survived\"].groupby(train[\"Embarked\"]).mean())"
      ],
      "metadata": {
        "colab": {
          "base_uri": "https://localhost:8080/",
          "height": 623
        },
        "id": "sCJARKC0SZZ8",
        "outputId": "4001e02d-be11-453f-eb41-b960b0821927"
      },
      "execution_count": 71,
      "outputs": [
        {
          "output_type": "display_data",
          "data": {
            "text/plain": [
              "<Figure size 640x480 with 1 Axes>"
            ],
            "image/png": "[encoded data removed]"
          },
          "metadata": {}
        },
        {
          "output_type": "stream",
          "name": "stdout",
          "text": [
            "Embarked\n",
            "S    644\n",
            "C    168\n",
            "Q     77\n",
            "Name: count, dtype: int64\n",
            "Embarked\n",
            "C    0.553571\n",
            "Q    0.389610\n",
            "S    0.336957\n",
            "Name: Survived, dtype: float64\n"
          ]
        }
      ]
    },
    {
      "cell_type": "markdown",
      "source": [
        "Tidak diragukan lagi, C memiliki tingkat kelangsungan hidup yang lebih tinggi. informasi sangat berguna untuk kita nantinya"
      ],
      "metadata": {
        "id": "3JENI5DAUEAx"
      }
    },
    {
      "cell_type": "markdown",
      "source": [
        "# Bagian dua (Featuring)"
      ],
      "metadata": {
        "id": "CWAxoW3XUUmw"
      }
    },
    {
      "cell_type": "markdown",
      "source": [
        "Kita telah belajar banyak dari analisis data eksplorasi. Sekarang kita dapat memulai rekayasa fitur. Pertama, mari kita muat kereta dan set pengujian."
      ],
      "metadata": {
        "id": "dGtHCoZyUqVG"
      }
    },
    {
      "cell_type": "code",
      "source": [
        "# mengambil data traini dan data tes dari dataset\n",
        "train = pd.read_csv(\"train.csv\")\n",
        "test = pd.read_csv(\"test.csv\")\n",
        "\n",
        "print(test.info())"
      ],
      "metadata": {
        "colab": {
          "base_uri": "https://localhost:8080/"
        },
        "id": "Kfhk1_vtVPaZ",
        "outputId": "435948ca-cae1-4ad5-b5d2-06a998932a52"
      },
      "execution_count": 72,
      "outputs": [
        {
          "output_type": "stream",
          "name": "stdout",
          "text": [
            "<class 'pandas.core.frame.DataFrame'>\n",
            "RangeIndex: 418 entries, 0 to 417\n",
            "Data columns (total 11 columns):\n",
            " #   Column       Non-Null Count  Dtype  \n",
            "---  ------       --------------  -----  \n",
            " 0   PassengerId  418 non-null    int64  \n",
            " 1   Pclass       418 non-null    int64  \n",
            " 2   Name         418 non-null    object \n",
            " 3   Sex          418 non-null    object \n",
            " 4   Age          332 non-null    float64\n",
            " 5   SibSp        418 non-null    int64  \n",
            " 6   Parch        418 non-null    int64  \n",
            " 7   Ticket       418 non-null    object \n",
            " 8   Fare         417 non-null    float64\n",
            " 9   Cabin        91 non-null     object \n",
            " 10  Embarked     418 non-null    object \n",
            "dtypes: float64(2), int64(4), object(5)\n",
            "memory usage: 36.0+ KB\n",
            "None\n"
          ]
        }
      ]
    },
    {
      "cell_type": "markdown",
      "source": [
        "Ada satu nilai yang hilang di kolom Tarif pada set pengujian. kita sebaiknya memperhitungkannya dengan menggunakan rata-rata."
      ],
      "metadata": {
        "id": "WYqsz2avVl-n"
      }
    },
    {
      "cell_type": "code",
      "source": [
        "# Masukkan rata-rata ke nilai yang hilang\n",
        "test['Fare'].fillna(train['Fare'].mean(), inplace = True)"
      ],
      "metadata": {
        "colab": {
          "base_uri": "https://localhost:8080/"
        },
        "id": "VyU1e2w9Vr1L",
        "outputId": "1aabe21a-c240-4780-cb6d-2370af37ef66"
      },
      "execution_count": 73,
      "outputs": [
        {
          "output_type": "stream",
          "name": "stderr",
          "text": [
            "<ipython-input-73-43152380dc75>:2: FutureWarning: A value is trying to be set on a copy of a DataFrame or Series through chained assignment using an inplace method.\n",
            "The behavior will change in pandas 3.0. This inplace method will never work because the intermediate object on which we are setting values always behaves as a copy.\n",
            "\n",
            "For example, when doing 'df[col].method(value, inplace=True)', try using 'df.method({col: value}, inplace=True)' or df[col] = df[col].method(value) instead, to perform the operation inplace on the original object.\n",
            "\n",
            "\n",
            "  test['Fare'].fillna(train['Fare'].mean(), inplace = True)\n"
          ]
        }
      ]
    },
    {
      "cell_type": "markdown",
      "source": [
        "kita bisa menggunkan menggunakan dua jenis Imputer dari sklearn. Imputer iteratif untuk penghitungan usia, dan Imputer sederhana (dengan strategi yang paling sering digunakan) untuk Embarked"
      ],
      "metadata": {
        "id": "zQWdB9o5W7ib"
      }
    },
    {
      "cell_type": "code",
      "source": [
        "import pandas as pd\n",
        "import numpy as np\n",
        "from sklearn.impute import SimpleImputer\n",
        "from sklearn.experimental import enable_iterative_imputer\n",
        "from sklearn.impute import IterativeImputer\n",
        "\n",
        "# Contoh DataFrame jika belum ada\n",
        "# train = pd.DataFrame({\n",
        "#     'Embarked': ['C', np.nan, 'S', 'C', 'S', np.nan],\n",
        "#     'Age': [22, 38, 26, np.nan, 35, 29]\n",
        "# })\n",
        "\n",
        "# Memastikan kolom 'Embarked' ada dan tidak kosong\n",
        "if 'Embarked' in train.columns and not train['Embarked'].isnull().all():\n",
        "    print(\"Kolom 'Embarked' ditemukan.\")\n",
        "    print(\"Jumlah nilai hilang di 'Embarked':\", train['Embarked'].isnull().sum())\n",
        "\n",
        "    # Buat imputer untuk kolom 'Embarked'\n",
        "    imp_embarked = SimpleImputer(missing_values=np.nan, strategy=\"most_frequent\")\n",
        "\n",
        "    # Menggunakan .ravel() untuk memastikan output adalah array 1D\n",
        "    train[\"Embarked\"] = imp_embarked.fit_transform(train[[\"Embarked\"]]).ravel()\n",
        "else:\n",
        "    print(\"Data tidak valid untuk 'Embarked'.\")\n",
        "\n",
        "# Proses yang sama untuk kolom 'Age'\n",
        "if 'Age' in train.columns:\n",
        "    imp_age = IterativeImputer(max_iter=100, random_state=34, n_nearest_features=2)\n",
        "\n",
        "    # Menggunakan .ravel() untuk memastikan output adalah array 1D\n",
        "    train[\"Age\"] = np.round(imp_age.fit_transform(train[[\"Age\"]]).ravel())\n",
        "else:\n",
        "    print(\"Kolom 'Age' tidak ditemukan.\")\n",
        "\n",
        "    print(train[['Embarked', 'Age']].head())  # Menampilkan 5 baris pertama untuk kolom Embarked dan Age\n",
        "\n"
      ],
      "metadata": {
        "colab": {
          "base_uri": "https://localhost:8080/"
        },
        "id": "IZNmAYdTXEk5",
        "outputId": "3899d505-7881-44fa-ffd0-7f60a078eea1"
      },
      "execution_count": 74,
      "outputs": [
        {
          "output_type": "stream",
          "name": "stdout",
          "text": [
            "Kolom 'Embarked' ditemukan.\n",
            "Jumlah nilai hilang di 'Embarked': 2\n"
          ]
        }
      ]
    },
    {
      "cell_type": "markdown",
      "source": [
        "\n",
        "Kami juga mengkodekan kolom jenis kelamin."
      ],
      "metadata": {
        "id": "LRg21vqOY8YG"
      }
    },
    {
      "cell_type": "code",
      "source": [
        "from sklearn.preprocessing import LabelEncoder\n",
        "\n",
        "# inisialisasi label\n",
        "le = LabelEncoder()\n",
        "\n",
        "# mengkodekan jenis kelamin\n",
        "train[\"Sex\"] = le.fit_transform(train[[\"Sex\"]].values.ravel())\n",
        "test[\"Sex\"] = le.fit_transform(test[[\"Sex\"]].values.ravel())"
      ],
      "metadata": {
        "id": "AZRJUk8zY96y"
      },
      "execution_count": 75,
      "outputs": []
    },
    {
      "cell_type": "markdown",
      "source": [
        "Di EDA, kami memutuskan untuk menggunakan fitur ukuran family"
      ],
      "metadata": {
        "id": "wWoerimYZJVu"
      }
    },
    {
      "cell_type": "code",
      "source": [
        "# ukuran keluarga\n",
        "train[\"Fsize\"] = train[\"SibSp\"] + train[\"Parch\"]\n",
        "test[\"Fsize\"] = test[\"SibSp\"] + test[\"Parch\"]"
      ],
      "metadata": {
        "id": "SAMMQBwaZKVL"
      },
      "execution_count": 76,
      "outputs": []
    },
    {
      "cell_type": "code",
      "source": [
        "# Ticket first letters and Cabin first letters are also needed\n",
        "# huruf pertaman tiket\n",
        "train[\"Ticket\"] = train[\"Ticket\"].apply(lambda x: str(x)[0])\n",
        "test[\"Ticket\"] = test[\"Ticket\"].apply(lambda x: str(x)[0])\n",
        "\n",
        "# huruf pertama kabin\n",
        "train[\"Cabin\"] = train[\"Cabin\"].apply(lambda x: str(x)[0])\n",
        "test[\"Cabin\"] = test[\"Cabin\"].apply(lambda x: str(x)[0])"
      ],
      "metadata": {
        "id": "Io6e-vkAZZV2"
      },
      "execution_count": 77,
      "outputs": []
    },
    {
      "cell_type": "code",
      "source": [
        "# mengekstrak title atau gelar\n",
        "# Titles\n",
        "train[\"Title\"] = train['Name'].str.split(', ', expand=True)[1].str.split('.', expand=True)[0]\n",
        "test[\"Title\"] = test['Name'].str.split(', ', expand=True)[1].str.split('.', expand=True)[0]"
      ],
      "metadata": {
        "id": "V0faQN99ZrkL"
      },
      "execution_count": 78,
      "outputs": []
    },
    {
      "cell_type": "markdown",
      "source": [
        "Sekarang, kita memerlukan beberapa fungsi tambahan untuk mengelompokkan kategori kita"
      ],
      "metadata": {
        "id": "cNIYQtV7Z_b2"
      }
    },
    {
      "cell_type": "code",
      "source": [
        "# Mengelompokkan kolom family size\n",
        "def assign_passenger_label(family_size):\n",
        "    if family_size == 0:\n",
        "        return \"Alone\"\n",
        "    elif family_size <=3:\n",
        "        return \"Small_family\"\n",
        "    else:\n",
        "        return \"Big_family\"\n",
        "\n",
        "# Mengelompokkan kolom Ticket column\n",
        "def assign_label_ticket(first):\n",
        "    if first in [\"F\", \"1\", \"P\", \"9\"]:\n",
        "        return \"Ticket_high\"\n",
        "    elif first in [\"S\", \"C\", \"2\"]:\n",
        "        return \"Ticket_middle\"\n",
        "    else:\n",
        "        return \"Ticket_low\"\n",
        "\n",
        "# Mengelompokkan kolom Title column\n",
        "def assign_label_title(title):\n",
        "    if title in [\"the Countess\", \"Mlle\", \"Lady\", \"Ms\", \"Sir\", \"Mme\", \"Mrs\", \"Miss\", \"Master\"]:\n",
        "        return \"Title_high\"\n",
        "    elif title in [\"Major\", \"Col\", \"Dr\"]:\n",
        "        return \"Title_middle\"\n",
        "    else:\n",
        "        return \"Title_low\"\n",
        "\n",
        "# Mengelompokkan kolom Cabin column\n",
        "def assign_label_cabin(cabin):\n",
        "    if cabin in [\"D\", \"E\", \"B\", \"F\", \"C\"]:\n",
        "        return \"Cabin_high\"\n",
        "    elif cabin in [\"G\", \"A\"]:\n",
        "        return \"Cabin_middle\"\n",
        "    else:\n",
        "        return \"Cabin_low\""
      ],
      "metadata": {
        "id": "36uYPwUAaArC"
      },
      "execution_count": 79,
      "outputs": []
    },
    {
      "cell_type": "code",
      "source": [
        "# Family size\n",
        "train[\"Fsize\"] = train[\"Fsize\"].apply(assign_passenger_label)\n",
        "test[\"Fsize\"] = test[\"Fsize\"].apply(assign_passenger_label)\n",
        "\n",
        "# Ticket\n",
        "train[\"Ticket\"] = train[\"Ticket\"].apply(assign_label_ticket)\n",
        "test[\"Ticket\"] = test[\"Ticket\"].apply(assign_label_ticket)\n",
        "\n",
        "# Title\n",
        "train[\"Title\"] = train[\"Title\"].apply(assign_label_title)\n",
        "test[\"Title\"] = test[\"Title\"].apply(assign_label_title)\n",
        "\n",
        "# Cabin\n",
        "train[\"Cabin\"] = train[\"Cabin\"].apply(assign_label_cabin)\n",
        "test[\"Cabin\"] = test[\"Cabin\"].apply(assign_label_cabin)"
      ],
      "metadata": {
        "id": "XdifOJH1aoYA"
      },
      "execution_count": 80,
      "outputs": []
    },
    {
      "cell_type": "code",
      "source": [
        "train = pd.get_dummies(columns=[\"Pclass\", \"Embarked\", \"Ticket\", \"Cabin\",\"Title\", \"Fsize\"], data=train, drop_first=True)\n",
        "test = pd.get_dummies(columns=[\"Pclass\", \"Embarked\", \"Ticket\", \"Cabin\", \"Title\", \"Fsize\"], data=test, drop_first=True)"
      ],
      "metadata": {
        "id": "yvR6bMRVatdk"
      },
      "execution_count": 81,
      "outputs": []
    },
    {
      "cell_type": "code",
      "source": [
        "target = train[\"Survived\"]\n",
        "train.drop([\"Survived\", \"SibSp\", \"Parch\", \"Name\", \"PassengerId\"], axis=1, inplace=True)\n",
        "test.drop([\"SibSp\", \"Parch\", \"Name\",\"PassengerId\"], axis=1, inplace=True)"
      ],
      "metadata": {
        "id": "5uDpi9eFa3cM"
      },
      "execution_count": 82,
      "outputs": []
    },
    {
      "cell_type": "markdown",
      "source": [
        "inilah tampilan akhirnya!"
      ],
      "metadata": {
        "id": "lIrqIkYca63N"
      }
    },
    {
      "cell_type": "code",
      "source": [
        "display(train.head())\n",
        "display(test.head())\n",
        "\n",
        "print(train.info())\n",
        "print(test.info())"
      ],
      "metadata": {
        "colab": {
          "base_uri": "https://localhost:8080/",
          "height": 1000
        },
        "id": "8OP6Wk1ka_gt",
        "outputId": "2dd1c69a-6927-438f-8cf0-c15c3dcbc7ff"
      },
      "execution_count": 83,
      "outputs": [
        {
          "output_type": "display_data",
          "data": {
            "text/plain": [
              "   Sex   Age     Fare  Pclass_2  Pclass_3  Embarked_Q  Embarked_S  \\\n",
              "0    1  22.0   7.2500     False      True       False        True   \n",
              "1    0  38.0  71.2833     False     False       False       False   \n",
              "2    0  26.0   7.9250     False      True       False        True   \n",
              "3    0  35.0  53.1000     False     False       False        True   \n",
              "4    1  35.0   8.0500     False      True       False        True   \n",
              "\n",
              "   Ticket_Ticket_low  Ticket_Ticket_middle  Cabin_Cabin_low  \\\n",
              "0               True                 False             True   \n",
              "1              False                 False            False   \n",
              "2              False                  True             True   \n",
              "3              False                 False            False   \n",
              "4               True                 False             True   \n",
              "\n",
              "   Cabin_Cabin_middle  Title_Title_low  Title_Title_middle  Fsize_Big_family  \\\n",
              "0               False             True               False             False   \n",
              "1               False            False               False             False   \n",
              "2               False            False               False             False   \n",
              "3               False            False               False             False   \n",
              "4               False             True               False             False   \n",
              "\n",
              "   Fsize_Small_family  \n",
              "0                True  \n",
              "1                True  \n",
              "2               False  \n",
              "3                True  \n",
              "4               False  "
            ],
            "text/html": [
              "\n",
              "  <div id=\"df-28c5446e-6dd2-4500-b9b1-664b1e2dc53b\" class=\"colab-df-container\">\n",
              "    <div>\n",
              "<style scoped>\n",
              "    .dataframe tbody tr th:only-of-type {\n",
              "        vertical-align: middle;\n",
              "    }\n",
              "\n",
              "    .dataframe tbody tr th {\n",
              "        vertical-align: top;\n",
              "    }\n",
              "\n",
              "    .dataframe thead th {\n",
              "        text-align: right;\n",
              "    }\n",
              "</style>\n",
              "<table border=\"1\" class=\"dataframe\">\n",
              "  <thead>\n",
              "    <tr style=\"text-align: right;\">\n",
              "      <th></th>\n",
              "      <th>Sex</th>\n",
              "      <th>Age</th>\n",
              "      <th>Fare</th>\n",
              "      <th>Pclass_2</th>\n",
              "      <th>Pclass_3</th>\n",
              "      <th>Embarked_Q</th>\n",
              "      <th>Embarked_S</th>\n",
              "      <th>Ticket_Ticket_low</th>\n",
              "      <th>Ticket_Ticket_middle</th>\n",
              "      <th>Cabin_Cabin_low</th>\n",
              "      <th>Cabin_Cabin_middle</th>\n",
              "      <th>Title_Title_low</th>\n",
              "      <th>Title_Title_middle</th>\n",
              "      <th>Fsize_Big_family</th>\n",
              "      <th>Fsize_Small_family</th>\n",
              "    </tr>\n",
              "  </thead>\n",
              "  <tbody>\n",
              "    <tr>\n",
              "      <th>0</th>\n",
              "      <td>1</td>\n",
              "      <td>22.0</td>\n",
              "      <td>7.2500</td>\n",
              "      <td>False</td>\n",
              "      <td>True</td>\n",
              "      <td>False</td>\n",
              "      <td>True</td>\n",
              "      <td>True</td>\n",
              "      <td>False</td>\n",
              "      <td>True</td>\n",
              "      <td>False</td>\n",
              "      <td>True</td>\n",
              "      <td>False</td>\n",
              "      <td>False</td>\n",
              "      <td>True</td>\n",
              "    </tr>\n",
              "    <tr>\n",
              "      <th>1</th>\n",
              "      <td>0</td>\n",
              "      <td>38.0</td>\n",
              "      <td>71.2833</td>\n",
              "      <td>False</td>\n",
              "      <td>False</td>\n",
              "      <td>False</td>\n",
              "      <td>False</td>\n",
              "      <td>False</td>\n",
              "      <td>False</td>\n",
              "      <td>False</td>\n",
              "      <td>False</td>\n",
              "      <td>False</td>\n",
              "      <td>False</td>\n",
              "      <td>False</td>\n",
              "      <td>True</td>\n",
              "    </tr>\n",
              "    <tr>\n",
              "      <th>2</th>\n",
              "      <td>0</td>\n",
              "      <td>26.0</td>\n",
              "      <td>7.9250</td>\n",
              "      <td>False</td>\n",
              "      <td>True</td>\n",
              "      <td>False</td>\n",
              "      <td>True</td>\n",
              "      <td>False</td>\n",
              "      <td>True</td>\n",
              "      <td>True</td>\n",
              "      <td>False</td>\n",
              "      <td>False</td>\n",
              "      <td>False</td>\n",
              "      <td>False</td>\n",
              "      <td>False</td>\n",
              "    </tr>\n",
              "    <tr>\n",
              "      <th>3</th>\n",
              "      <td>0</td>\n",
              "      <td>35.0</td>\n",
              "      <td>53.1000</td>\n",
              "      <td>False</td>\n",
              "      <td>False</td>\n",
              "      <td>False</td>\n",
              "      <td>True</td>\n",
              "      <td>False</td>\n",
              "      <td>False</td>\n",
              "      <td>False</td>\n",
              "      <td>False</td>\n",
              "      <td>False</td>\n",
              "      <td>False</td>\n",
              "      <td>False</td>\n",
              "      <td>True</td>\n",
              "    </tr>\n",
              "    <tr>\n",
              "      <th>4</th>\n",
              "      <td>1</td>\n",
              "      <td>35.0</td>\n",
              "      <td>8.0500</td>\n",
              "      <td>False</td>\n",
              "      <td>True</td>\n",
              "      <td>False</td>\n",
              "      <td>True</td>\n",
              "      <td>True</td>\n",
              "      <td>False</td>\n",
              "      <td>True</td>\n",
              "      <td>False</td>\n",
              "      <td>True</td>\n",
              "      <td>False</td>\n",
              "      <td>False</td>\n",
              "      <td>False</td>\n",
              "    </tr>\n",
              "  </tbody>\n",
              "</table>\n",
              "</div>\n",
              "    <div class=\"colab-df-buttons\">\n",
              "\n",
              "  <div class=\"colab-df-container\">\n",
              "    <button class=\"colab-df-convert\" onclick=\"convertToInteractive('df-28c5446e-6dd2-4500-b9b1-664b1e2dc53b')\"\n",
              "            title=\"Convert this dataframe to an interactive table.\"\n",
              "            style=\"display:none;\">\n",
              "\n",
              "  <svg xmlns=\"http://www.w3.org/2000/svg\" height=\"24px\" viewBox=\"0 -960 960 960\">\n",
              "    <path d=\"M120-120v-720h720v720H120Zm60-500h600v-160H180v160Zm220 220h160v-160H400v160Zm0 220h160v-160H400v160ZM180-400h160v-160H180v160Zm440 0h160v-160H620v160ZM180-180h160v-160H180v160Zm440 0h160v-160H620v160Z\"/>\n",
              "  </svg>\n",
              "    </button>\n",
              "\n",
              "  <style>\n",
              "    .colab-df-container {\n",
              "      display:flex;\n",
              "      gap: 12px;\n",
              "    }\n",
              "\n",
              "    .colab-df-convert {\n",
              "      background-color: #E8F0FE;\n",
              "      border: none;\n",
              "      border-radius: 50%;\n",
              "      cursor: pointer;\n",
              "      display: none;\n",
              "      fill: #1967D2;\n",
              "      height: 32px;\n",
              "      padding: 0 0 0 0;\n",
              "      width: 32px;\n",
              "    }\n",
              "\n",
              "    .colab-df-convert:hover {\n",
              "      background-color: #E2EBFA;\n",
              "      box-shadow: 0px 1px 2px rgba(60, 64, 67, 0.3), 0px 1px 3px 1px rgba(60, 64, 67, 0.15);\n",
              "      fill: #174EA6;\n",
              "    }\n",
              "\n",
              "    .colab-df-buttons div {\n",
              "      margin-bottom: 4px;\n",
              "    }\n",
              "\n",
              "    [theme=dark] .colab-df-convert {\n",
              "      background-color: #3B4455;\n",
              "      fill: #D2E3FC;\n",
              "    }\n",
              "\n",
              "    [theme=dark] .colab-df-convert:hover {\n",
              "      background-color: #434B5C;\n",
              "      box-shadow: 0px 1px 3px 1px rgba(0, 0, 0, 0.15);\n",
              "      filter: drop-shadow(0px 1px 2px rgba(0, 0, 0, 0.3));\n",
              "      fill: #FFFFFF;\n",
              "    }\n",
              "  </style>\n",
              "\n",
              "    <script>\n",
              "      const buttonEl =\n",
              "        document.querySelector('#df-28c5446e-6dd2-4500-b9b1-664b1e2dc53b button.colab-df-convert');\n",
              "      buttonEl.style.display =\n",
              "        google.colab.kernel.accessAllowed ? 'block' : 'none';\n",
              "\n",
              "      async function convertToInteractive(key) {\n",
              "        const element = document.querySelector('#df-28c5446e-6dd2-4500-b9b1-664b1e2dc53b');\n",
              "        const dataTable =\n",
              "          await google.colab.kernel.invokeFunction('convertToInteractive',\n",
              "                                                    [key], {});\n",
              "        if (!dataTable) return;\n",
              "\n",
              "        const docLinkHtml = 'Like what you see? Visit the ' +\n",
              "          '<a target=\"_blank\" href=https://colab.research.google.com/notebooks/data_table.ipynb>data table notebook</a>'\n",
              "          + ' to learn more about interactive tables.';\n",
              "        element.innerHTML = '';\n",
              "        dataTable['output_type'] = 'display_data';\n",
              "        await google.colab.output.renderOutput(dataTable, element);\n",
              "        const docLink = document.createElement('div');\n",
              "        docLink.innerHTML = docLinkHtml;\n",
              "        element.appendChild(docLink);\n",
              "      }\n",
              "    </script>\n",
              "  </div>\n",
              "\n",
              "\n",
              "<div id=\"df-f0c6b6a4-9049-4e28-8830-cdd02420c5ec\">\n",
              "  <button class=\"colab-df-quickchart\" onclick=\"quickchart('df-f0c6b6a4-9049-4e28-8830-cdd02420c5ec')\"\n",
              "            title=\"Suggest charts\"\n",
              "            style=\"display:none;\">\n",
              "\n",
              "<svg xmlns=\"http://www.w3.org/2000/svg\" height=\"24px\"viewBox=\"0 0 24 24\"\n",
              "     width=\"24px\">\n",
              "    <g>\n",
              "        <path d=\"M19 3H5c-1.1 0-2 .9-2 2v14c0 1.1.9 2 2 2h14c1.1 0 2-.9 2-2V5c0-1.1-.9-2-2-2zM9 17H7v-7h2v7zm4 0h-2V7h2v10zm4 0h-2v-4h2v4z\"/>\n",
              "    </g>\n",
              "</svg>\n",
              "  </button>\n",
              "\n",
              "<style>\n",
              "  .colab-df-quickchart {\n",
              "      --bg-color: #E8F0FE;\n",
              "      --fill-color: #1967D2;\n",
              "      --hover-bg-color: #E2EBFA;\n",
              "      --hover-fill-color: #174EA6;\n",
              "      --disabled-fill-color: #AAA;\n",
              "      --disabled-bg-color: #DDD;\n",
              "  }\n",
              "\n",
              "  [theme=dark] .colab-df-quickchart {\n",
              "      --bg-color: #3B4455;\n",
              "      --fill-color: #D2E3FC;\n",
              "      --hover-bg-color: #434B5C;\n",
              "      --hover-fill-color: #FFFFFF;\n",
              "      --disabled-bg-color: #3B4455;\n",
              "      --disabled-fill-color: #666;\n",
              "  }\n",
              "\n",
              "  .colab-df-quickchart {\n",
              "    background-color: var(--bg-color);\n",
              "    border: none;\n",
              "    border-radius: 50%;\n",
              "    cursor: pointer;\n",
              "    display: none;\n",
              "    fill: var(--fill-color);\n",
              "    height: 32px;\n",
              "    padding: 0;\n",
              "    width: 32px;\n",
              "  }\n",
              "\n",
              "  .colab-df-quickchart:hover {\n",
              "    background-color: var(--hover-bg-color);\n",
              "    box-shadow: 0 1px 2px rgba(60, 64, 67, 0.3), 0 1px 3px 1px rgba(60, 64, 67, 0.15);\n",
              "    fill: var(--button-hover-fill-color);\n",
              "  }\n",
              "\n",
              "  .colab-df-quickchart-complete:disabled,\n",
              "  .colab-df-quickchart-complete:disabled:hover {\n",
              "    background-color: var(--disabled-bg-color);\n",
              "    fill: var(--disabled-fill-color);\n",
              "    box-shadow: none;\n",
              "  }\n",
              "\n",
              "  .colab-df-spinner {\n",
              "    border: 2px solid var(--fill-color);\n",
              "    border-color: transparent;\n",
              "    border-bottom-color: var(--fill-color);\n",
              "    animation:\n",
              "      spin 1s steps(1) infinite;\n",
              "  }\n",
              "\n",
              "  @keyframes spin {\n",
              "    0% {\n",
              "      border-color: transparent;\n",
              "      border-bottom-color: var(--fill-color);\n",
              "      border-left-color: var(--fill-color);\n",
              "    }\n",
              "    20% {\n",
              "      border-color: transparent;\n",
              "      border-left-color: var(--fill-color);\n",
              "      border-top-color: var(--fill-color);\n",
              "    }\n",
              "    30% {\n",
              "      border-color: transparent;\n",
              "      border-left-color: var(--fill-color);\n",
              "      border-top-color: var(--fill-color);\n",
              "      border-right-color: var(--fill-color);\n",
              "    }\n",
              "    40% {\n",
              "      border-color: transparent;\n",
              "      border-right-color: var(--fill-color);\n",
              "      border-top-color: var(--fill-color);\n",
              "    }\n",
              "    60% {\n",
              "      border-color: transparent;\n",
              "      border-right-color: var(--fill-color);\n",
              "    }\n",
              "    80% {\n",
              "      border-color: transparent;\n",
              "      border-right-color: var(--fill-color);\n",
              "      border-bottom-color: var(--fill-color);\n",
              "    }\n",
              "    90% {\n",
              "      border-color: transparent;\n",
              "      border-bottom-color: var(--fill-color);\n",
              "    }\n",
              "  }\n",
              "</style>\n",
              "\n",
              "  <script>\n",
              "    async function quickchart(key) {\n",
              "      const quickchartButtonEl =\n",
              "        document.querySelector('#' + key + ' button');\n",
              "      quickchartButtonEl.disabled = true;  // To prevent multiple clicks.\n",
              "      quickchartButtonEl.classList.add('colab-df-spinner');\n",
              "      try {\n",
              "        const charts = await google.colab.kernel.invokeFunction(\n",
              "            'suggestCharts', [key], {});\n",
              "      } catch (error) {\n",
              "        console.error('Error during call to suggestCharts:', error);\n",
              "      }\n",
              "      quickchartButtonEl.classList.remove('colab-df-spinner');\n",
              "      quickchartButtonEl.classList.add('colab-df-quickchart-complete');\n",
              "    }\n",
              "    (() => {\n",
              "      let quickchartButtonEl =\n",
              "        document.querySelector('#df-f0c6b6a4-9049-4e28-8830-cdd02420c5ec button');\n",
              "      quickchartButtonEl.style.display =\n",
              "        google.colab.kernel.accessAllowed ? 'block' : 'none';\n",
              "    })();\n",
              "  </script>\n",
              "</div>\n",
              "\n",
              "    </div>\n",
              "  </div>\n"
            ],
            "application/vnd.google.colaboratory.intrinsic+json": {
              "type": "dataframe",
              "summary": "{\n  \"name\": \"print(test\",\n  \"rows\": 5,\n  \"fields\": [\n    {\n      \"column\": \"Sex\",\n      \"properties\": {\n        \"dtype\": \"number\",\n        \"std\": 0,\n        \"min\": 0,\n        \"max\": 1,\n        \"num_unique_values\": 2,\n        \"samples\": [\n          0,\n          1\n        ],\n        \"semantic_type\": \"\",\n        \"description\": \"\"\n      }\n    },\n    {\n      \"column\": \"Age\",\n      \"properties\": {\n        \"dtype\": \"number\",\n        \"std\": 6.833739825307955,\n        \"min\": 22.0,\n        \"max\": 38.0,\n        \"num_unique_values\": 4,\n        \"samples\": [\n          38.0,\n          35.0\n        ],\n        \"semantic_type\": \"\",\n        \"description\": \"\"\n      }\n    },\n    {\n      \"column\": \"Fare\",\n      \"properties\": {\n        \"dtype\": \"number\",\n        \"std\": 30.5100288352535,\n        \"min\": 7.25,\n        \"max\": 71.2833,\n        \"num_unique_values\": 5,\n        \"samples\": [\n          71.2833,\n          8.05\n        ],\n        \"semantic_type\": \"\",\n        \"description\": \"\"\n      }\n    },\n    {\n      \"column\": \"Pclass_2\",\n      \"properties\": {\n        \"dtype\": \"boolean\",\n        \"num_unique_values\": 1,\n        \"samples\": [\n          false\n        ],\n        \"semantic_type\": \"\",\n        \"description\": \"\"\n      }\n    },\n    {\n      \"column\": \"Pclass_3\",\n      \"properties\": {\n        \"dtype\": \"boolean\",\n        \"num_unique_values\": 2,\n        \"samples\": [\n          false\n        ],\n        \"semantic_type\": \"\",\n        \"description\": \"\"\n      }\n    },\n    {\n      \"column\": \"Embarked_Q\",\n      \"properties\": {\n        \"dtype\": \"boolean\",\n        \"num_unique_values\": 1,\n        \"samples\": [\n          false\n        ],\n        \"semantic_type\": \"\",\n        \"description\": \"\"\n      }\n    },\n    {\n      \"column\": \"Embarked_S\",\n      \"properties\": {\n        \"dtype\": \"boolean\",\n        \"num_unique_values\": 2,\n        \"samples\": [\n          false\n        ],\n        \"semantic_type\": \"\",\n        \"description\": \"\"\n      }\n    },\n    {\n      \"column\": \"Ticket_Ticket_low\",\n      \"properties\": {\n        \"dtype\": \"boolean\",\n        \"num_unique_values\": 2,\n        \"samples\": [\n          false\n        ],\n        \"semantic_type\": \"\",\n        \"description\": \"\"\n      }\n    },\n    {\n      \"column\": \"Ticket_Ticket_middle\",\n      \"properties\": {\n        \"dtype\": \"boolean\",\n        \"num_unique_values\": 2,\n        \"samples\": [\n          true\n        ],\n        \"semantic_type\": \"\",\n        \"description\": \"\"\n      }\n    },\n    {\n      \"column\": \"Cabin_Cabin_low\",\n      \"properties\": {\n        \"dtype\": \"boolean\",\n        \"num_unique_values\": 2,\n        \"samples\": [\n          false\n        ],\n        \"semantic_type\": \"\",\n        \"description\": \"\"\n      }\n    },\n    {\n      \"column\": \"Cabin_Cabin_middle\",\n      \"properties\": {\n        \"dtype\": \"boolean\",\n        \"num_unique_values\": 1,\n        \"samples\": [\n          false\n        ],\n        \"semantic_type\": \"\",\n        \"description\": \"\"\n      }\n    },\n    {\n      \"column\": \"Title_Title_low\",\n      \"properties\": {\n        \"dtype\": \"boolean\",\n        \"num_unique_values\": 2,\n        \"samples\": [\n          false\n        ],\n        \"semantic_type\": \"\",\n        \"description\": \"\"\n      }\n    },\n    {\n      \"column\": \"Title_Title_middle\",\n      \"properties\": {\n        \"dtype\": \"boolean\",\n        \"num_unique_values\": 1,\n        \"samples\": [\n          false\n        ],\n        \"semantic_type\": \"\",\n        \"description\": \"\"\n      }\n    },\n    {\n      \"column\": \"Fsize_Big_family\",\n      \"properties\": {\n        \"dtype\": \"boolean\",\n        \"num_unique_values\": 1,\n        \"samples\": [\n          false\n        ],\n        \"semantic_type\": \"\",\n        \"description\": \"\"\n      }\n    },\n    {\n      \"column\": \"Fsize_Small_family\",\n      \"properties\": {\n        \"dtype\": \"boolean\",\n        \"num_unique_values\": 2,\n        \"samples\": [\n          false\n        ],\n        \"semantic_type\": \"\",\n        \"description\": \"\"\n      }\n    }\n  ]\n}"
            }
          },
          "metadata": {}
        },
        {
          "output_type": "display_data",
          "data": {
            "text/plain": [
              "   Sex   Age     Fare  Pclass_2  Pclass_3  Embarked_Q  Embarked_S  \\\n",
              "0    1  34.5   7.8292     False      True        True       False   \n",
              "1    0  47.0   7.0000     False      True       False        True   \n",
              "2    1  62.0   9.6875      True     False        True       False   \n",
              "3    1  27.0   8.6625     False      True       False        True   \n",
              "4    0  22.0  12.2875     False      True       False        True   \n",
              "\n",
              "   Ticket_Ticket_low  Ticket_Ticket_middle  Cabin_Cabin_low  \\\n",
              "0               True                 False             True   \n",
              "1               True                 False             True   \n",
              "2              False                  True             True   \n",
              "3               True                 False             True   \n",
              "4               True                 False             True   \n",
              "\n",
              "   Cabin_Cabin_middle  Title_Title_low  Title_Title_middle  Fsize_Big_family  \\\n",
              "0               False             True               False             False   \n",
              "1               False            False               False             False   \n",
              "2               False             True               False             False   \n",
              "3               False             True               False             False   \n",
              "4               False            False               False             False   \n",
              "\n",
              "   Fsize_Small_family  \n",
              "0               False  \n",
              "1                True  \n",
              "2               False  \n",
              "3               False  \n",
              "4                True  "
            ],
            "text/html": [
              "\n",
              "  <div id=\"df-916c0780-e07e-42ab-92e2-8278c5846bfc\" class=\"colab-df-container\">\n",
              "    <div>\n",
              "<style scoped>\n",
              "    .dataframe tbody tr th:only-of-type {\n",
              "        vertical-align: middle;\n",
              "    }\n",
              "\n",
              "    .dataframe tbody tr th {\n",
              "        vertical-align: top;\n",
              "    }\n",
              "\n",
              "    .dataframe thead th {\n",
              "        text-align: right;\n",
              "    }\n",
              "</style>\n",
              "<table border=\"1\" class=\"dataframe\">\n",
              "  <thead>\n",
              "    <tr style=\"text-align: right;\">\n",
              "      <th></th>\n",
              "      <th>Sex</th>\n",
              "      <th>Age</th>\n",
              "      <th>Fare</th>\n",
              "      <th>Pclass_2</th>\n",
              "      <th>Pclass_3</th>\n",
              "      <th>Embarked_Q</th>\n",
              "      <th>Embarked_S</th>\n",
              "      <th>Ticket_Ticket_low</th>\n",
              "      <th>Ticket_Ticket_middle</th>\n",
              "      <th>Cabin_Cabin_low</th>\n",
              "      <th>Cabin_Cabin_middle</th>\n",
              "      <th>Title_Title_low</th>\n",
              "      <th>Title_Title_middle</th>\n",
              "      <th>Fsize_Big_family</th>\n",
              "      <th>Fsize_Small_family</th>\n",
              "    </tr>\n",
              "  </thead>\n",
              "  <tbody>\n",
              "    <tr>\n",
              "      <th>0</th>\n",
              "      <td>1</td>\n",
              "      <td>34.5</td>\n",
              "      <td>7.8292</td>\n",
              "      <td>False</td>\n",
              "      <td>True</td>\n",
              "      <td>True</td>\n",
              "      <td>False</td>\n",
              "      <td>True</td>\n",
              "      <td>False</td>\n",
              "      <td>True</td>\n",
              "      <td>False</td>\n",
              "      <td>True</td>\n",
              "      <td>False</td>\n",
              "      <td>False</td>\n",
              "      <td>False</td>\n",
              "    </tr>\n",
              "    <tr>\n",
              "      <th>1</th>\n",
              "      <td>0</td>\n",
              "      <td>47.0</td>\n",
              "      <td>7.0000</td>\n",
              "      <td>False</td>\n",
              "      <td>True</td>\n",
              "      <td>False</td>\n",
              "      <td>True</td>\n",
              "      <td>True</td>\n",
              "      <td>False</td>\n",
              "      <td>True</td>\n",
              "      <td>False</td>\n",
              "      <td>False</td>\n",
              "      <td>False</td>\n",
              "      <td>False</td>\n",
              "      <td>True</td>\n",
              "    </tr>\n",
              "    <tr>\n",
              "      <th>2</th>\n",
              "      <td>1</td>\n",
              "      <td>62.0</td>\n",
              "      <td>9.6875</td>\n",
              "      <td>True</td>\n",
              "      <td>False</td>\n",
              "      <td>True</td>\n",
              "      <td>False</td>\n",
              "      <td>False</td>\n",
              "      <td>True</td>\n",
              "      <td>True</td>\n",
              "      <td>False</td>\n",
              "      <td>True</td>\n",
              "      <td>False</td>\n",
              "      <td>False</td>\n",
              "      <td>False</td>\n",
              "    </tr>\n",
              "    <tr>\n",
              "      <th>3</th>\n",
              "      <td>1</td>\n",
              "      <td>27.0</td>\n",
              "      <td>8.6625</td>\n",
              "      <td>False</td>\n",
              "      <td>True</td>\n",
              "      <td>False</td>\n",
              "      <td>True</td>\n",
              "      <td>True</td>\n",
              "      <td>False</td>\n",
              "      <td>True</td>\n",
              "      <td>False</td>\n",
              "      <td>True</td>\n",
              "      <td>False</td>\n",
              "      <td>False</td>\n",
              "      <td>False</td>\n",
              "    </tr>\n",
              "    <tr>\n",
              "      <th>4</th>\n",
              "      <td>0</td>\n",
              "      <td>22.0</td>\n",
              "      <td>12.2875</td>\n",
              "      <td>False</td>\n",
              "      <td>True</td>\n",
              "      <td>False</td>\n",
              "      <td>True</td>\n",
              "      <td>True</td>\n",
              "      <td>False</td>\n",
              "      <td>True</td>\n",
              "      <td>False</td>\n",
              "      <td>False</td>\n",
              "      <td>False</td>\n",
              "      <td>False</td>\n",
              "      <td>True</td>\n",
              "    </tr>\n",
              "  </tbody>\n",
              "</table>\n",
              "</div>\n",
              "    <div class=\"colab-df-buttons\">\n",
              "\n",
              "  <div class=\"colab-df-container\">\n",
              "    <button class=\"colab-df-convert\" onclick=\"convertToInteractive('df-916c0780-e07e-42ab-92e2-8278c5846bfc')\"\n",
              "            title=\"Convert this dataframe to an interactive table.\"\n",
              "            style=\"display:none;\">\n",
              "\n",
              "  <svg xmlns=\"http://www.w3.org/2000/svg\" height=\"24px\" viewBox=\"0 -960 960 960\">\n",
              "    <path d=\"M120-120v-720h720v720H120Zm60-500h600v-160H180v160Zm220 220h160v-160H400v160Zm0 220h160v-160H400v160ZM180-400h160v-160H180v160Zm440 0h160v-160H620v160ZM180-180h160v-160H180v160Zm440 0h160v-160H620v160Z\"/>\n",
              "  </svg>\n",
              "    </button>\n",
              "\n",
              "  <style>\n",
              "    .colab-df-container {\n",
              "      display:flex;\n",
              "      gap: 12px;\n",
              "    }\n",
              "\n",
              "    .colab-df-convert {\n",
              "      background-color: #E8F0FE;\n",
              "      border: none;\n",
              "      border-radius: 50%;\n",
              "      cursor: pointer;\n",
              "      display: none;\n",
              "      fill: #1967D2;\n",
              "      height: 32px;\n",
              "      padding: 0 0 0 0;\n",
              "      width: 32px;\n",
              "    }\n",
              "\n",
              "    .colab-df-convert:hover {\n",
              "      background-color: #E2EBFA;\n",
              "      box-shadow: 0px 1px 2px rgba(60, 64, 67, 0.3), 0px 1px 3px 1px rgba(60, 64, 67, 0.15);\n",
              "      fill: #174EA6;\n",
              "    }\n",
              "\n",
              "    .colab-df-buttons div {\n",
              "      margin-bottom: 4px;\n",
              "    }\n",
              "\n",
              "    [theme=dark] .colab-df-convert {\n",
              "      background-color: #3B4455;\n",
              "      fill: #D2E3FC;\n",
              "    }\n",
              "\n",
              "    [theme=dark] .colab-df-convert:hover {\n",
              "      background-color: #434B5C;\n",
              "      box-shadow: 0px 1px 3px 1px rgba(0, 0, 0, 0.15);\n",
              "      filter: drop-shadow(0px 1px 2px rgba(0, 0, 0, 0.3));\n",
              "      fill: #FFFFFF;\n",
              "    }\n",
              "  </style>\n",
              "\n",
              "    <script>\n",
              "      const buttonEl =\n",
              "        document.querySelector('#df-916c0780-e07e-42ab-92e2-8278c5846bfc button.colab-df-convert');\n",
              "      buttonEl.style.display =\n",
              "        google.colab.kernel.accessAllowed ? 'block' : 'none';\n",
              "\n",
              "      async function convertToInteractive(key) {\n",
              "        const element = document.querySelector('#df-916c0780-e07e-42ab-92e2-8278c5846bfc');\n",
              "        const dataTable =\n",
              "          await google.colab.kernel.invokeFunction('convertToInteractive',\n",
              "                                                    [key], {});\n",
              "        if (!dataTable) return;\n",
              "\n",
              "        const docLinkHtml = 'Like what you see? Visit the ' +\n",
              "          '<a target=\"_blank\" href=https://colab.research.google.com/notebooks/data_table.ipynb>data table notebook</a>'\n",
              "          + ' to learn more about interactive tables.';\n",
              "        element.innerHTML = '';\n",
              "        dataTable['output_type'] = 'display_data';\n",
              "        await google.colab.output.renderOutput(dataTable, element);\n",
              "        const docLink = document.createElement('div');\n",
              "        docLink.innerHTML = docLinkHtml;\n",
              "        element.appendChild(docLink);\n",
              "      }\n",
              "    </script>\n",
              "  </div>\n",
              "\n",
              "\n",
              "<div id=\"df-c8be2a6e-11bd-4fa6-858c-a2d253e6691d\">\n",
              "  <button class=\"colab-df-quickchart\" onclick=\"quickchart('df-c8be2a6e-11bd-4fa6-858c-a2d253e6691d')\"\n",
              "            title=\"Suggest charts\"\n",
              "            style=\"display:none;\">\n",
              "\n",
              "<svg xmlns=\"http://www.w3.org/2000/svg\" height=\"24px\"viewBox=\"0 0 24 24\"\n",
              "     width=\"24px\">\n",
              "    <g>\n",
              "        <path d=\"M19 3H5c-1.1 0-2 .9-2 2v14c0 1.1.9 2 2 2h14c1.1 0 2-.9 2-2V5c0-1.1-.9-2-2-2zM9 17H7v-7h2v7zm4 0h-2V7h2v10zm4 0h-2v-4h2v4z\"/>\n",
              "    </g>\n",
              "</svg>\n",
              "  </button>\n",
              "\n",
              "<style>\n",
              "  .colab-df-quickchart {\n",
              "      --bg-color: #E8F0FE;\n",
              "      --fill-color: #1967D2;\n",
              "      --hover-bg-color: #E2EBFA;\n",
              "      --hover-fill-color: #174EA6;\n",
              "      --disabled-fill-color: #AAA;\n",
              "      --disabled-bg-color: #DDD;\n",
              "  }\n",
              "\n",
              "  [theme=dark] .colab-df-quickchart {\n",
              "      --bg-color: #3B4455;\n",
              "      --fill-color: #D2E3FC;\n",
              "      --hover-bg-color: #434B5C;\n",
              "      --hover-fill-color: #FFFFFF;\n",
              "      --disabled-bg-color: #3B4455;\n",
              "      --disabled-fill-color: #666;\n",
              "  }\n",
              "\n",
              "  .colab-df-quickchart {\n",
              "    background-color: var(--bg-color);\n",
              "    border: none;\n",
              "    border-radius: 50%;\n",
              "    cursor: pointer;\n",
              "    display: none;\n",
              "    fill: var(--fill-color);\n",
              "    height: 32px;\n",
              "    padding: 0;\n",
              "    width: 32px;\n",
              "  }\n",
              "\n",
              "  .colab-df-quickchart:hover {\n",
              "    background-color: var(--hover-bg-color);\n",
              "    box-shadow: 0 1px 2px rgba(60, 64, 67, 0.3), 0 1px 3px 1px rgba(60, 64, 67, 0.15);\n",
              "    fill: var(--button-hover-fill-color);\n",
              "  }\n",
              "\n",
              "  .colab-df-quickchart-complete:disabled,\n",
              "  .colab-df-quickchart-complete:disabled:hover {\n",
              "    background-color: var(--disabled-bg-color);\n",
              "    fill: var(--disabled-fill-color);\n",
              "    box-shadow: none;\n",
              "  }\n",
              "\n",
              "  .colab-df-spinner {\n",
              "    border: 2px solid var(--fill-color);\n",
              "    border-color: transparent;\n",
              "    border-bottom-color: var(--fill-color);\n",
              "    animation:\n",
              "      spin 1s steps(1) infinite;\n",
              "  }\n",
              "\n",
              "  @keyframes spin {\n",
              "    0% {\n",
              "      border-color: transparent;\n",
              "      border-bottom-color: var(--fill-color);\n",
              "      border-left-color: var(--fill-color);\n",
              "    }\n",
              "    20% {\n",
              "      border-color: transparent;\n",
              "      border-left-color: var(--fill-color);\n",
              "      border-top-color: var(--fill-color);\n",
              "    }\n",
              "    30% {\n",
              "      border-color: transparent;\n",
              "      border-left-color: var(--fill-color);\n",
              "      border-top-color: var(--fill-color);\n",
              "      border-right-color: var(--fill-color);\n",
              "    }\n",
              "    40% {\n",
              "      border-color: transparent;\n",
              "      border-right-color: var(--fill-color);\n",
              "      border-top-color: var(--fill-color);\n",
              "    }\n",
              "    60% {\n",
              "      border-color: transparent;\n",
              "      border-right-color: var(--fill-color);\n",
              "    }\n",
              "    80% {\n",
              "      border-color: transparent;\n",
              "      border-right-color: var(--fill-color);\n",
              "      border-bottom-color: var(--fill-color);\n",
              "    }\n",
              "    90% {\n",
              "      border-color: transparent;\n",
              "      border-bottom-color: var(--fill-color);\n",
              "    }\n",
              "  }\n",
              "</style>\n",
              "\n",
              "  <script>\n",
              "    async function quickchart(key) {\n",
              "      const quickchartButtonEl =\n",
              "        document.querySelector('#' + key + ' button');\n",
              "      quickchartButtonEl.disabled = true;  // To prevent multiple clicks.\n",
              "      quickchartButtonEl.classList.add('colab-df-spinner');\n",
              "      try {\n",
              "        const charts = await google.colab.kernel.invokeFunction(\n",
              "            'suggestCharts', [key], {});\n",
              "      } catch (error) {\n",
              "        console.error('Error during call to suggestCharts:', error);\n",
              "      }\n",
              "      quickchartButtonEl.classList.remove('colab-df-spinner');\n",
              "      quickchartButtonEl.classList.add('colab-df-quickchart-complete');\n",
              "    }\n",
              "    (() => {\n",
              "      let quickchartButtonEl =\n",
              "        document.querySelector('#df-c8be2a6e-11bd-4fa6-858c-a2d253e6691d button');\n",
              "      quickchartButtonEl.style.display =\n",
              "        google.colab.kernel.accessAllowed ? 'block' : 'none';\n",
              "    })();\n",
              "  </script>\n",
              "</div>\n",
              "\n",
              "    </div>\n",
              "  </div>\n"
            ],
            "application/vnd.google.colaboratory.intrinsic+json": {
              "type": "dataframe",
              "summary": "{\n  \"name\": \"print(test\",\n  \"rows\": 5,\n  \"fields\": [\n    {\n      \"column\": \"Sex\",\n      \"properties\": {\n        \"dtype\": \"number\",\n        \"std\": 0,\n        \"min\": 0,\n        \"max\": 1,\n        \"num_unique_values\": 2,\n        \"samples\": [\n          0,\n          1\n        ],\n        \"semantic_type\": \"\",\n        \"description\": \"\"\n      }\n    },\n    {\n      \"column\": \"Age\",\n      \"properties\": {\n        \"dtype\": \"number\",\n        \"std\": 16.163229875244614,\n        \"min\": 22.0,\n        \"max\": 62.0,\n        \"num_unique_values\": 5,\n        \"samples\": [\n          47.0,\n          22.0\n        ],\n        \"semantic_type\": \"\",\n        \"description\": \"\"\n      }\n    },\n    {\n      \"column\": \"Fare\",\n      \"properties\": {\n        \"dtype\": \"number\",\n        \"std\": 2.0445922339185385,\n        \"min\": 7.0,\n        \"max\": 12.2875,\n        \"num_unique_values\": 5,\n        \"samples\": [\n          7.0,\n          12.2875\n        ],\n        \"semantic_type\": \"\",\n        \"description\": \"\"\n      }\n    },\n    {\n      \"column\": \"Pclass_2\",\n      \"properties\": {\n        \"dtype\": \"boolean\",\n        \"num_unique_values\": 2,\n        \"samples\": [\n          true,\n          false\n        ],\n        \"semantic_type\": \"\",\n        \"description\": \"\"\n      }\n    },\n    {\n      \"column\": \"Pclass_3\",\n      \"properties\": {\n        \"dtype\": \"boolean\",\n        \"num_unique_values\": 2,\n        \"samples\": [\n          false,\n          true\n        ],\n        \"semantic_type\": \"\",\n        \"description\": \"\"\n      }\n    },\n    {\n      \"column\": \"Embarked_Q\",\n      \"properties\": {\n        \"dtype\": \"boolean\",\n        \"num_unique_values\": 2,\n        \"samples\": [\n          false,\n          true\n        ],\n        \"semantic_type\": \"\",\n        \"description\": \"\"\n      }\n    },\n    {\n      \"column\": \"Embarked_S\",\n      \"properties\": {\n        \"dtype\": \"boolean\",\n        \"num_unique_values\": 2,\n        \"samples\": [\n          true,\n          false\n        ],\n        \"semantic_type\": \"\",\n        \"description\": \"\"\n      }\n    },\n    {\n      \"column\": \"Ticket_Ticket_low\",\n      \"properties\": {\n        \"dtype\": \"boolean\",\n        \"num_unique_values\": 2,\n        \"samples\": [\n          false,\n          true\n        ],\n        \"semantic_type\": \"\",\n        \"description\": \"\"\n      }\n    },\n    {\n      \"column\": \"Ticket_Ticket_middle\",\n      \"properties\": {\n        \"dtype\": \"boolean\",\n        \"num_unique_values\": 2,\n        \"samples\": [\n          true,\n          false\n        ],\n        \"semantic_type\": \"\",\n        \"description\": \"\"\n      }\n    },\n    {\n      \"column\": \"Cabin_Cabin_low\",\n      \"properties\": {\n        \"dtype\": \"boolean\",\n        \"num_unique_values\": 1,\n        \"samples\": [\n          true\n        ],\n        \"semantic_type\": \"\",\n        \"description\": \"\"\n      }\n    },\n    {\n      \"column\": \"Cabin_Cabin_middle\",\n      \"properties\": {\n        \"dtype\": \"boolean\",\n        \"num_unique_values\": 1,\n        \"samples\": [\n          false\n        ],\n        \"semantic_type\": \"\",\n        \"description\": \"\"\n      }\n    },\n    {\n      \"column\": \"Title_Title_low\",\n      \"properties\": {\n        \"dtype\": \"boolean\",\n        \"num_unique_values\": 2,\n        \"samples\": [\n          false\n        ],\n        \"semantic_type\": \"\",\n        \"description\": \"\"\n      }\n    },\n    {\n      \"column\": \"Title_Title_middle\",\n      \"properties\": {\n        \"dtype\": \"boolean\",\n        \"num_unique_values\": 1,\n        \"samples\": [\n          false\n        ],\n        \"semantic_type\": \"\",\n        \"description\": \"\"\n      }\n    },\n    {\n      \"column\": \"Fsize_Big_family\",\n      \"properties\": {\n        \"dtype\": \"boolean\",\n        \"num_unique_values\": 1,\n        \"samples\": [\n          false\n        ],\n        \"semantic_type\": \"\",\n        \"description\": \"\"\n      }\n    },\n    {\n      \"column\": \"Fsize_Small_family\",\n      \"properties\": {\n        \"dtype\": \"boolean\",\n        \"num_unique_values\": 2,\n        \"samples\": [\n          true\n        ],\n        \"semantic_type\": \"\",\n        \"description\": \"\"\n      }\n    }\n  ]\n}"
            }
          },
          "metadata": {}
        },
        {
          "output_type": "stream",
          "name": "stdout",
          "text": [
            "<class 'pandas.core.frame.DataFrame'>\n",
            "RangeIndex: 891 entries, 0 to 890\n",
            "Data columns (total 15 columns):\n",
            " #   Column                Non-Null Count  Dtype  \n",
            "---  ------                --------------  -----  \n",
            " 0   Sex                   891 non-null    int64  \n",
            " 1   Age                   891 non-null    float64\n",
            " 2   Fare                  891 non-null    float64\n",
            " 3   Pclass_2              891 non-null    bool   \n",
            " 4   Pclass_3              891 non-null    bool   \n",
            " 5   Embarked_Q            891 non-null    bool   \n",
            " 6   Embarked_S            891 non-null    bool   \n",
            " 7   Ticket_Ticket_low     891 non-null    bool   \n",
            " 8   Ticket_Ticket_middle  891 non-null    bool   \n",
            " 9   Cabin_Cabin_low       891 non-null    bool   \n",
            " 10  Cabin_Cabin_middle    891 non-null    bool   \n",
            " 11  Title_Title_low       891 non-null    bool   \n",
            " 12  Title_Title_middle    891 non-null    bool   \n",
            " 13  Fsize_Big_family      891 non-null    bool   \n",
            " 14  Fsize_Small_family    891 non-null    bool   \n",
            "dtypes: bool(12), float64(2), int64(1)\n",
            "memory usage: 31.4 KB\n",
            "None\n",
            "<class 'pandas.core.frame.DataFrame'>\n",
            "RangeIndex: 418 entries, 0 to 417\n",
            "Data columns (total 15 columns):\n",
            " #   Column                Non-Null Count  Dtype  \n",
            "---  ------                --------------  -----  \n",
            " 0   Sex                   418 non-null    int64  \n",
            " 1   Age                   332 non-null    float64\n",
            " 2   Fare                  418 non-null    float64\n",
            " 3   Pclass_2              418 non-null    bool   \n",
            " 4   Pclass_3              418 non-null    bool   \n",
            " 5   Embarked_Q            418 non-null    bool   \n",
            " 6   Embarked_S            418 non-null    bool   \n",
            " 7   Ticket_Ticket_low     418 non-null    bool   \n",
            " 8   Ticket_Ticket_middle  418 non-null    bool   \n",
            " 9   Cabin_Cabin_low       418 non-null    bool   \n",
            " 10  Cabin_Cabin_middle    418 non-null    bool   \n",
            " 11  Title_Title_low       418 non-null    bool   \n",
            " 12  Title_Title_middle    418 non-null    bool   \n",
            " 13  Fsize_Big_family      418 non-null    bool   \n",
            " 14  Fsize_Small_family    418 non-null    bool   \n",
            "dtypes: bool(12), float64(2), int64(1)\n",
            "memory usage: 14.8 KB\n",
            "None\n"
          ]
        }
      ]
    },
    {
      "cell_type": "markdown",
      "source": [
        "# bagian tiga (Machine Learning)"
      ],
      "metadata": {
        "id": "cGwnMF7KbOPH"
      }
    },
    {
      "cell_type": "markdown",
      "source": [
        "Untuk mengevaluasi performa model kita, kita perlu membagi data latih ke dalam set pelatihan dan pengujian."
      ],
      "metadata": {
        "id": "HraLkZ-LbV2h"
      }
    },
    {
      "cell_type": "code",
      "source": [
        "from sklearn.model_selection import train_test_split\n",
        "\n",
        "# Memilih fitur dan target\n",
        "X = train.values  # Fitur diambil dari DataFrame 'train'\n",
        "y = target.values  # Target diambil dari variabel 'target'\n",
        "\n",
        "# Membagi data menjadi set pelatihan dan set pengujian\n",
        "X_train, X_test, y_train, y_test = train_test_split(X, y, test_size=0.2, random_state=34, stratify=y)\n"
      ],
      "metadata": {
        "id": "pTjNo9bNbmQK"
      },
      "execution_count": 84,
      "outputs": []
    },
    {
      "cell_type": "markdown",
      "source": [
        "Saya telah menggunakan GridSearchCV untuk menyetel Pengklasifikasi Random  Forest saya"
      ],
      "metadata": {
        "id": "lOrAhGl0bxD9"
      }
    },
    {
      "cell_type": "code",
      "source": [
        "from sklearn.ensemble import RandomForestClassifier\n",
        "from sklearn.model_selection import RandomizedSearchCV\n",
        "from sklearn.metrics import accuracy_score, confusion_matrix\n",
        "\n",
        "# Inisialisasi RandomForestClassifier\n",
        "rf = RandomForestClassifier(random_state=34)\n",
        "\n",
        "# Definisikan parameter untuk pencarian acak\n",
        "params = {\n",
        "    'n_estimators': [50, 100, 200, 300],\n",
        "    'max_depth': [3, 5, 10, 15],\n",
        "    'criterion': ['entropy', 'gini'],\n",
        "    'min_samples_leaf': [1, 2, 3, 4],\n",
        "    'max_features': ['sqrt'],  # Ubah dari 'auto' ke 'sqrt'\n",
        "    'min_samples_split': [3, 5, 10],\n",
        "}\n",
        "\n",
        "# Mencari hyperparameter terbaik menggunakan RandomizedSearchCV\n",
        "clf = RandomizedSearchCV(estimator=rf, param_distributions=params, n_iter=10, cv=3, n_jobs=-1, random_state=34)\n",
        "\n",
        "# Melatih model dengan data pelatihan\n",
        "clf.fit(X_train, y_train.ravel())\n",
        "\n",
        "# Menampilkan estimator terbaik dan skor terbaik\n",
        "print(clf.best_estimator_)\n",
        "print(clf.best_score_)\n",
        "\n",
        "rf_best = clf.best_estimator_\n",
        "\n",
        "# Memprediksi dari set pengujian\n",
        "y_pred = clf.predict(X_test)\n",
        "\n",
        "# Mencetak akurasi menggunakan fungsi accuracy_score\n",
        "print(\"Akurasi: \", accuracy_score(y_test, y_pred))\n",
        "\n",
        "# Mencetak matriks kebingungan\n",
        "print(\"\\nMatriks Kebingungan\\n\")\n",
        "print(confusion_matrix(y_test, y_pred))\n"
      ],
      "metadata": {
        "colab": {
          "base_uri": "https://localhost:8080/"
        },
        "id": "MoqealaBb_hi",
        "outputId": "fed608d9-2194-438f-b186-6faa618eaa5a"
      },
      "execution_count": 88,
      "outputs": [
        {
          "output_type": "stream",
          "name": "stdout",
          "text": [
            "RandomForestClassifier(criterion='entropy', max_depth=5, min_samples_leaf=2,\n",
            "                       min_samples_split=5, n_estimators=50, random_state=34)\n",
            "0.8483258282215841\n",
            "Akurasi:  0.7932960893854749\n",
            "\n",
            "Matriks Kebingungan\n",
            "\n",
            "[[98 12]\n",
            " [25 44]]\n"
          ]
        }
      ]
    },
    {
      "cell_type": "code",
      "source": [
        "# menyimpan model\n",
        "import pickle\n",
        "pickle.dump(rf_best, open(\"model.pkl\", 'wb'))"
      ],
      "metadata": {
        "id": "QVzINFYtmjeJ"
      },
      "execution_count": 90,
      "outputs": []
    },
    {
      "cell_type": "code",
      "source": [
        "# Membuat pandas Series dengan pentingnya fitur\n",
        "importance = pd.Series(rf_best.feature_importances_, index=train.columns).sort_values(ascending=False)\n",
        "\n",
        "# Menggunakan seaborn untuk membuat barplot\n",
        "sns.barplot(x=importance, y=importance.index)\n",
        "\n",
        "# Menambahkan label pada grafik\n",
        "plt.xlabel('Importance')  # Label sumbu x\n",
        "plt.ylabel('Feature')     # Label sumbu y\n",
        "plt.title(\"Important Features\")  # Judul grafik\n",
        "plt.show()  # Menampilkan grafik\n"
      ],
      "metadata": {
        "colab": {
          "base_uri": "https://localhost:8080/",
          "height": 472
        },
        "id": "-5lIE9YxnNd-",
        "outputId": "809de759-4ada-4260-9a0d-5657bc6238ec"
      },
      "execution_count": 91,
      "outputs": [
        {
          "output_type": "display_data",
          "data": {
            "text/plain": [
              "<Figure size 640x480 with 1 Axes>"
            ],
            "image/png": "[encoded data removed]"
          },
          "metadata": {}
        }
      ]
    },
    {
      "cell_type": "code",
      "source": [
        "from sklearn.ensemble import RandomForestClassifier\n",
        "\n",
        "# Menginisialisasi RandomForestClassifier dengan oob_score\n",
        "last_clf = RandomForestClassifier(\n",
        "    criterion='entropy',\n",
        "    max_depth=5,\n",
        "    min_samples_leaf=2,\n",
        "    min_samples_split=5,\n",
        "    n_estimators=50,\n",
        "    random_state=34,\n",
        "    oob_score=True  # Tambahkan ini untuk menghitung OOB score\n",
        ")\n",
        "\n",
        "# Melatih model dengan data pelatihan\n",
        "last_clf.fit(train, target)\n",
        "\n",
        "# Mencetak OOB Score\n",
        "print(\"OOB Score: %.4f\" % last_clf.oob_score_)\n"
      ],
      "metadata": {
        "colab": {
          "base_uri": "https://localhost:8080/"
        },
        "id": "d-ssFkdTnZZh",
        "outputId": "b64eb315-e86b-40a3-b182-941426a25ad1"
      },
      "execution_count": 94,
      "outputs": [
        {
          "output_type": "stream",
          "name": "stdout",
          "text": [
            "OOB Score: 0.8260\n"
          ]
        }
      ]
    },
    {
      "cell_type": "code",
      "source": [
        "# Menyimpan ID penumpang\n",
        "ids = pd.read_csv(\"test.csv\")[[\"PassengerId\"]].values\n",
        "\n",
        "# Membuat prediksi\n",
        "predictions = last_clf.predict(test.values)\n",
        "\n",
        "# Mencetak prediksi\n",
        "print(predictions)\n",
        "\n",
        "# Membuat sebuah dictionary dengan ID penumpang dan prediksi\n",
        "df = {'PassengerId': ids.ravel(), 'Survived': predictions}\n",
        "\n",
        "# Membuat DataFrame bernama submission\n",
        "submission = pd.DataFrame(df)\n",
        "\n",
        "# Menampilkan lima baris pertama dari submission\n",
        "display(submission.head())\n",
        "\n",
        "# Menyimpan file\n",
        "submission.to_csv(\"submission_last.csv\", index=False)\n"
      ],
      "metadata": {
        "colab": {
          "base_uri": "https://localhost:8080/",
          "height": 469
        },
        "id": "NC3KoDKNobQ0",
        "outputId": "a1e603d0-a9d5-45ca-eab2-44cee781f436"
      },
      "execution_count": 99,
      "outputs": [
        {
          "output_type": "stream",
          "name": "stdout",
          "text": [
            "[0 0 0 0 1 0 1 0 1 0 0 0 1 0 1 1 0 0 1 1 0 0 1 0 1 0 1 0 0 0 0 0 1 1 0 0 0\n",
            " 0 0 0 0 0 0 1 1 0 0 0 1 1 0 0 1 1 0 0 0 0 0 1 0 0 0 1 1 1 1 0 0 1 1 0 0 0\n",
            " 1 0 0 1 0 1 1 0 0 0 0 0 1 0 1 1 1 0 1 0 0 0 1 0 0 0 1 0 0 0 1 0 0 0 0 0 0\n",
            " 1 1 1 1 0 0 1 0 1 1 0 1 0 0 1 0 1 0 0 0 1 0 0 0 0 0 0 1 0 0 1 0 0 0 0 0 0\n",
            " 0 0 1 0 0 1 0 0 1 0 0 1 1 1 1 0 0 1 0 0 1 0 0 0 0 0 0 1 1 0 1 1 0 0 1 0 1\n",
            " 0 1 0 0 0 0 0 0 0 1 0 1 0 0 0 1 1 1 1 0 0 1 0 1 0 0 0 0 1 0 0 1 0 1 0 1 0\n",
            " 1 0 1 1 0 1 0 0 0 1 0 0 0 0 0 0 1 1 1 1 0 0 0 0 1 0 1 1 1 0 0 0 0 0 0 0 1\n",
            " 0 0 0 1 1 0 0 0 0 0 0 0 0 1 1 0 1 0 0 0 0 0 1 1 1 1 0 0 0 0 0 0 1 0 1 0 0\n",
            " 1 0 0 0 0 0 0 0 1 1 0 1 0 0 0 0 0 1 1 1 0 0 0 0 0 0 0 0 1 0 1 0 0 0 1 0 0\n",
            " 1 0 0 0 0 0 0 0 0 0 1 0 0 0 1 0 1 1 0 0 0 1 0 1 0 0 1 0 1 1 0 1 0 0 0 1 0\n",
            " 0 1 0 0 1 1 0 0 0 0 0 0 0 1 0 1 0 0 0 0 0 1 1 0 0 1 0 1 0 0 1 0 1 0 0 0 0\n",
            " 0 1 1 1 1 0 0 1 0 0 1]\n"
          ]
        },
        {
          "output_type": "stream",
          "name": "stderr",
          "text": [
            "/usr/local/lib/python3.10/dist-packages/sklearn/base.py:493: UserWarning: X does not have valid feature names, but RandomForestClassifier was fitted with feature names\n",
            "  warnings.warn(\n"
          ]
        },
        {
          "output_type": "display_data",
          "data": {
            "text/plain": [
              "   PassengerId  Survived\n",
              "0          892         0\n",
              "1          893         0\n",
              "2          894         0\n",
              "3          895         0\n",
              "4          896         1"
            ],
            "text/html": [
              "\n",
              "  <div id=\"df-d3a04758-1423-45d7-83ce-bdd7f75e6c4c\" class=\"colab-df-container\">\n",
              "    <div>\n",
              "<style scoped>\n",
              "    .dataframe tbody tr th:only-of-type {\n",
              "        vertical-align: middle;\n",
              "    }\n",
              "\n",
              "    .dataframe tbody tr th {\n",
              "        vertical-align: top;\n",
              "    }\n",
              "\n",
              "    .dataframe thead th {\n",
              "        text-align: right;\n",
              "    }\n",
              "</style>\n",
              "<table border=\"1\" class=\"dataframe\">\n",
              "  <thead>\n",
              "    <tr style=\"text-align: right;\">\n",
              "      <th></th>\n",
              "      <th>PassengerId</th>\n",
              "      <th>Survived</th>\n",
              "    </tr>\n",
              "  </thead>\n",
              "  <tbody>\n",
              "    <tr>\n",
              "      <th>0</th>\n",
              "      <td>892</td>\n",
              "      <td>0</td>\n",
              "    </tr>\n",
              "    <tr>\n",
              "      <th>1</th>\n",
              "      <td>893</td>\n",
              "      <td>0</td>\n",
              "    </tr>\n",
              "    <tr>\n",
              "      <th>2</th>\n",
              "      <td>894</td>\n",
              "      <td>0</td>\n",
              "    </tr>\n",
              "    <tr>\n",
              "      <th>3</th>\n",
              "      <td>895</td>\n",
              "      <td>0</td>\n",
              "    </tr>\n",
              "    <tr>\n",
              "      <th>4</th>\n",
              "      <td>896</td>\n",
              "      <td>1</td>\n",
              "    </tr>\n",
              "  </tbody>\n",
              "</table>\n",
              "</div>\n",
              "    <div class=\"colab-df-buttons\">\n",
              "\n",
              "  <div class=\"colab-df-container\">\n",
              "    <button class=\"colab-df-convert\" onclick=\"convertToInteractive('df-d3a04758-1423-45d7-83ce-bdd7f75e6c4c')\"\n",
              "            title=\"Convert this dataframe to an interactive table.\"\n",
              "            style=\"display:none;\">\n",
              "\n",
              "  <svg xmlns=\"http://www.w3.org/2000/svg\" height=\"24px\" viewBox=\"0 -960 960 960\">\n",
              "    <path d=\"M120-120v-720h720v720H120Zm60-500h600v-160H180v160Zm220 220h160v-160H400v160Zm0 220h160v-160H400v160ZM180-400h160v-160H180v160Zm440 0h160v-160H620v160ZM180-180h160v-160H180v160Zm440 0h160v-160H620v160Z\"/>\n",
              "  </svg>\n",
              "    </button>\n",
              "\n",
              "  <style>\n",
              "    .colab-df-container {\n",
              "      display:flex;\n",
              "      gap: 12px;\n",
              "    }\n",
              "\n",
              "    .colab-df-convert {\n",
              "      background-color: #E8F0FE;\n",
              "      border: none;\n",
              "      border-radius: 50%;\n",
              "      cursor: pointer;\n",
              "      display: none;\n",
              "      fill: #1967D2;\n",
              "      height: 32px;\n",
              "      padding: 0 0 0 0;\n",
              "      width: 32px;\n",
              "    }\n",
              "\n",
              "    .colab-df-convert:hover {\n",
              "      background-color: #E2EBFA;\n",
              "      box-shadow: 0px 1px 2px rgba(60, 64, 67, 0.3), 0px 1px 3px 1px rgba(60, 64, 67, 0.15);\n",
              "      fill: #174EA6;\n",
              "    }\n",
              "\n",
              "    .colab-df-buttons div {\n",
              "      margin-bottom: 4px;\n",
              "    }\n",
              "\n",
              "    [theme=dark] .colab-df-convert {\n",
              "      background-color: #3B4455;\n",
              "      fill: #D2E3FC;\n",
              "    }\n",
              "\n",
              "    [theme=dark] .colab-df-convert:hover {\n",
              "      background-color: #434B5C;\n",
              "      box-shadow: 0px 1px 3px 1px rgba(0, 0, 0, 0.15);\n",
              "      filter: drop-shadow(0px 1px 2px rgba(0, 0, 0, 0.3));\n",
              "      fill: #FFFFFF;\n",
              "    }\n",
              "  </style>\n",
              "\n",
              "    <script>\n",
              "      const buttonEl =\n",
              "        document.querySelector('#df-d3a04758-1423-45d7-83ce-bdd7f75e6c4c button.colab-df-convert');\n",
              "      buttonEl.style.display =\n",
              "        google.colab.kernel.accessAllowed ? 'block' : 'none';\n",
              "\n",
              "      async function convertToInteractive(key) {\n",
              "        const element = document.querySelector('#df-d3a04758-1423-45d7-83ce-bdd7f75e6c4c');\n",
              "        const dataTable =\n",
              "          await google.colab.kernel.invokeFunction('convertToInteractive',\n",
              "                                                    [key], {});\n",
              "        if (!dataTable) return;\n",
              "\n",
              "        const docLinkHtml = 'Like what you see? Visit the ' +\n",
              "          '<a target=\"_blank\" href=https://colab.research.google.com/notebooks/data_table.ipynb>data table notebook</a>'\n",
              "          + ' to learn more about interactive tables.';\n",
              "        element.innerHTML = '';\n",
              "        dataTable['output_type'] = 'display_data';\n",
              "        await google.colab.output.renderOutput(dataTable, element);\n",
              "        const docLink = document.createElement('div');\n",
              "        docLink.innerHTML = docLinkHtml;\n",
              "        element.appendChild(docLink);\n",
              "      }\n",
              "    </script>\n",
              "  </div>\n",
              "\n",
              "\n",
              "<div id=\"df-e4c56ccd-4575-4c09-bca0-17921ef8b9bd\">\n",
              "  <button class=\"colab-df-quickchart\" onclick=\"quickchart('df-e4c56ccd-4575-4c09-bca0-17921ef8b9bd')\"\n",
              "            title=\"Suggest charts\"\n",
              "            style=\"display:none;\">\n",
              "\n",
              "<svg xmlns=\"http://www.w3.org/2000/svg\" height=\"24px\"viewBox=\"0 0 24 24\"\n",
              "     width=\"24px\">\n",
              "    <g>\n",
              "        <path d=\"M19 3H5c-1.1 0-2 .9-2 2v14c0 1.1.9 2 2 2h14c1.1 0 2-.9 2-2V5c0-1.1-.9-2-2-2zM9 17H7v-7h2v7zm4 0h-2V7h2v10zm4 0h-2v-4h2v4z\"/>\n",
              "    </g>\n",
              "</svg>\n",
              "  </button>\n",
              "\n",
              "<style>\n",
              "  .colab-df-quickchart {\n",
              "      --bg-color: #E8F0FE;\n",
              "      --fill-color: #1967D2;\n",
              "      --hover-bg-color: #E2EBFA;\n",
              "      --hover-fill-color: #174EA6;\n",
              "      --disabled-fill-color: #AAA;\n",
              "      --disabled-bg-color: #DDD;\n",
              "  }\n",
              "\n",
              "  [theme=dark] .colab-df-quickchart {\n",
              "      --bg-color: #3B4455;\n",
              "      --fill-color: #D2E3FC;\n",
              "      --hover-bg-color: #434B5C;\n",
              "      --hover-fill-color: #FFFFFF;\n",
              "      --disabled-bg-color: #3B4455;\n",
              "      --disabled-fill-color: #666;\n",
              "  }\n",
              "\n",
              "  .colab-df-quickchart {\n",
              "    background-color: var(--bg-color);\n",
              "    border: none;\n",
              "    border-radius: 50%;\n",
              "    cursor: pointer;\n",
              "    display: none;\n",
              "    fill: var(--fill-color);\n",
              "    height: 32px;\n",
              "    padding: 0;\n",
              "    width: 32px;\n",
              "  }\n",
              "\n",
              "  .colab-df-quickchart:hover {\n",
              "    background-color: var(--hover-bg-color);\n",
              "    box-shadow: 0 1px 2px rgba(60, 64, 67, 0.3), 0 1px 3px 1px rgba(60, 64, 67, 0.15);\n",
              "    fill: var(--button-hover-fill-color);\n",
              "  }\n",
              "\n",
              "  .colab-df-quickchart-complete:disabled,\n",
              "  .colab-df-quickchart-complete:disabled:hover {\n",
              "    background-color: var(--disabled-bg-color);\n",
              "    fill: var(--disabled-fill-color);\n",
              "    box-shadow: none;\n",
              "  }\n",
              "\n",
              "  .colab-df-spinner {\n",
              "    border: 2px solid var(--fill-color);\n",
              "    border-color: transparent;\n",
              "    border-bottom-color: var(--fill-color);\n",
              "    animation:\n",
              "      spin 1s steps(1) infinite;\n",
              "  }\n",
              "\n",
              "  @keyframes spin {\n",
              "    0% {\n",
              "      border-color: transparent;\n",
              "      border-bottom-color: var(--fill-color);\n",
              "      border-left-color: var(--fill-color);\n",
              "    }\n",
              "    20% {\n",
              "      border-color: transparent;\n",
              "      border-left-color: var(--fill-color);\n",
              "      border-top-color: var(--fill-color);\n",
              "    }\n",
              "    30% {\n",
              "      border-color: transparent;\n",
              "      border-left-color: var(--fill-color);\n",
              "      border-top-color: var(--fill-color);\n",
              "      border-right-color: var(--fill-color);\n",
              "    }\n",
              "    40% {\n",
              "      border-color: transparent;\n",
              "      border-right-color: var(--fill-color);\n",
              "      border-top-color: var(--fill-color);\n",
              "    }\n",
              "    60% {\n",
              "      border-color: transparent;\n",
              "      border-right-color: var(--fill-color);\n",
              "    }\n",
              "    80% {\n",
              "      border-color: transparent;\n",
              "      border-right-color: var(--fill-color);\n",
              "      border-bottom-color: var(--fill-color);\n",
              "    }\n",
              "    90% {\n",
              "      border-color: transparent;\n",
              "      border-bottom-color: var(--fill-color);\n",
              "    }\n",
              "  }\n",
              "</style>\n",
              "\n",
              "  <script>\n",
              "    async function quickchart(key) {\n",
              "      const quickchartButtonEl =\n",
              "        document.querySelector('#' + key + ' button');\n",
              "      quickchartButtonEl.disabled = true;  // To prevent multiple clicks.\n",
              "      quickchartButtonEl.classList.add('colab-df-spinner');\n",
              "      try {\n",
              "        const charts = await google.colab.kernel.invokeFunction(\n",
              "            'suggestCharts', [key], {});\n",
              "      } catch (error) {\n",
              "        console.error('Error during call to suggestCharts:', error);\n",
              "      }\n",
              "      quickchartButtonEl.classList.remove('colab-df-spinner');\n",
              "      quickchartButtonEl.classList.add('colab-df-quickchart-complete');\n",
              "    }\n",
              "    (() => {\n",
              "      let quickchartButtonEl =\n",
              "        document.querySelector('#df-e4c56ccd-4575-4c09-bca0-17921ef8b9bd button');\n",
              "      quickchartButtonEl.style.display =\n",
              "        google.colab.kernel.accessAllowed ? 'block' : 'none';\n",
              "    })();\n",
              "  </script>\n",
              "</div>\n",
              "\n",
              "    </div>\n",
              "  </div>\n"
            ],
            "application/vnd.google.colaboratory.intrinsic+json": {
              "type": "dataframe",
              "summary": "{\n  \"name\": \"submission\",\n  \"rows\": 5,\n  \"fields\": [\n    {\n      \"column\": \"PassengerId\",\n      \"properties\": {\n        \"dtype\": \"number\",\n        \"std\": 1,\n        \"min\": 892,\n        \"max\": 896,\n        \"num_unique_values\": 5,\n        \"samples\": [\n          893,\n          896,\n          894\n        ],\n        \"semantic_type\": \"\",\n        \"description\": \"\"\n      }\n    },\n    {\n      \"column\": \"Survived\",\n      \"properties\": {\n        \"dtype\": \"number\",\n        \"std\": 0,\n        \"min\": 0,\n        \"max\": 1,\n        \"num_unique_values\": 2,\n        \"samples\": [\n          1,\n          0\n        ],\n        \"semantic_type\": \"\",\n        \"description\": \"\"\n      }\n    }\n  ]\n}"
            }
          },
          "metadata": {}
        }
      ]
    }
  ]
}