{
  "nbformat": 4,
  "nbformat_minor": 0,
  "metadata": {
    "colab": {
      "provenance": [],
      "authorship_tag": "ABX9TyPGyGc/23DxlLk01bDcWYg+",
      "include_colab_link": true
    },
    "kernelspec": {
      "name": "python3",
      "display_name": "Python 3"
    },
    "language_info": {
      "name": "python"
    }
  },
  "cells": [
    {
      "cell_type": "markdown",
      "metadata": {
        "id": "view-in-github",
        "colab_type": "text"
      },
      "source": [
        "<a href=\"https://colab.research.google.com/github/ihyaulumuddin044/machineLearning/blob/main/Text_Processing_.ipynb\" target=\"_parent\"><img src=\"https://colab.research.google.com/assets/colab-badge.svg\" alt=\"Open In Colab\"/></a>"
      ]
    },
    {
      "cell_type": "markdown",
      "source": [
        "#Text Processing; bag of word and stop word filtering"
      ],
      "metadata": {
        "id": "zTOPKzcOLlnh"
      }
    },
    {
      "cell_type": "markdown",
      "source": [
        "Bag of Words (BoW) adalah salah satu teknik representasi teks dalam bentuk numerik yang digunakan dalam Natural Language Processing (NLP) dan Machine Learning. Pendekatan ini sederhana tetapi efektif untuk mengubah data teks menjadi data numerik agar dapat digunakan dalam model machine learning."
      ],
      "metadata": {
        "id": "2I3xbBUKNjjJ"
      }
    },
    {
      "cell_type": "code",
      "execution_count": 44,
      "metadata": {
        "colab": {
          "base_uri": "https://localhost:8080/"
        },
        "id": "b8Lt_jDnKsl0",
        "outputId": "1eff8cda-551d-4544-fee4-d369e41ac297"
      },
      "outputs": [
        {
          "output_type": "execute_result",
          "data": {
            "text/plain": [
              "['linux has been around since the mid-1990s.',\n",
              " 'linux distributions include the linux kernel.',\n",
              " 'linux is one of the most prominent open-source software.']"
            ]
          },
          "metadata": {},
          "execution_count": 44
        }
      ],
      "source": [
        "corpus = [\n",
        "    'linux has been around since the mid-1990s.',\n",
        "    'linux distributions include the linux kernel.',\n",
        "    'linux is one of the most prominent open-source software.'\n",
        "]\n",
        "\n",
        "corpus\n"
      ]
    },
    {
      "cell_type": "markdown",
      "source": [
        "# bag of word dengan menggunakan CountVectorize"
      ],
      "metadata": {
        "id": "4X-WSY4wOllt"
      }
    },
    {
      "cell_type": "code",
      "source": [
        "from sklearn.feature_extraction.text import CountVectorizer\n",
        "\n",
        "vectorizer = CountVectorizer()\n",
        "vectorized_x = vectorizer.fit_transform(corpus).toarray()\n",
        "vectorized_x"
      ],
      "metadata": {
        "colab": {
          "base_uri": "https://localhost:8080/"
        },
        "id": "IJJA8SLGOtKu",
        "outputId": "3c9abf28-9d46-45bb-f08e-f6dff3adb4f3"
      },
      "execution_count": 45,
      "outputs": [
        {
          "output_type": "execute_result",
          "data": {
            "text/plain": [
              "array([[1, 1, 1, 0, 1, 0, 0, 0, 1, 1, 0, 0, 0, 0, 0, 1, 0, 0, 1],\n",
              "       [0, 0, 0, 1, 0, 1, 0, 1, 2, 0, 0, 0, 0, 0, 0, 0, 0, 0, 1],\n",
              "       [0, 0, 0, 0, 0, 0, 1, 0, 1, 0, 1, 1, 1, 1, 1, 0, 1, 1, 1]])"
            ]
          },
          "metadata": {},
          "execution_count": 45
        }
      ]
    },
    {
      "cell_type": "code",
      "source": [
        "vectorizer.get_feature_names_out()"
      ],
      "metadata": {
        "colab": {
          "base_uri": "https://localhost:8080/"
        },
        "id": "sCniEEU0PWOp",
        "outputId": "2ca11b1a-677b-442e-e77c-5c072b217b69"
      },
      "execution_count": 46,
      "outputs": [
        {
          "output_type": "execute_result",
          "data": {
            "text/plain": [
              "array(['1990s', 'around', 'been', 'distributions', 'has', 'include', 'is',\n",
              "       'kernel', 'linux', 'mid', 'most', 'of', 'one', 'open', 'prominent',\n",
              "       'since', 'software', 'source', 'the'], dtype=object)"
            ]
          },
          "metadata": {},
          "execution_count": 46
        }
      ]
    },
    {
      "cell_type": "code",
      "source": [
        "print(\"Shape of vectorized_x:\", vectorized_x.shape)\n",
        "print(\"Contents of vectorized_x:\\n\", vectorized_x)\n"
      ],
      "metadata": {
        "colab": {
          "base_uri": "https://localhost:8080/"
        },
        "id": "2Y91qW8cUEmb",
        "outputId": "ee8e5b95-46de-4ef2-9583-753468b29bde"
      },
      "execution_count": 47,
      "outputs": [
        {
          "output_type": "stream",
          "name": "stdout",
          "text": [
            "Shape of vectorized_x: (3, 19)\n",
            "Contents of vectorized_x:\n",
            " [[1 1 1 0 1 0 0 0 1 1 0 0 0 0 0 1 0 0 1]\n",
            " [0 0 0 1 0 1 0 1 2 0 0 0 0 0 0 0 0 0 1]\n",
            " [0 0 0 0 0 0 1 0 1 0 1 1 1 1 1 0 1 1 1]]\n"
          ]
        }
      ]
    },
    {
      "cell_type": "markdown",
      "source": [
        "# Euclidean Distance untuk mengukur pendekatan/jarak antar dokumen(vector)"
      ],
      "metadata": {
        "id": "qguXhFt_Qip0"
      }
    },
    {
      "cell_type": "code",
      "source": [
        "from sklearn.metrics.pairwise import euclidean_distances\n",
        "print(\"Loop dimulai\")\n",
        "for i in range(len(vectorized_x)):\n",
        "    for j in range(i + 1, len(vectorized_x)):  # Mulai dari i + 1 agar tidak menghitung ulang\n",
        "        print(f\"Memproses pasangan ({i+1}, {j+1})\")\n",
        "        jarak = euclidean_distances([vectorized_x[i]], [vectorized_x[j]])\n",
        "        print(f'Jarak dokumen {i+1} dan {j+1}: {jarak[0][0]}')\n"
      ],
      "metadata": {
        "colab": {
          "base_uri": "https://localhost:8080/"
        },
        "id": "d9h8Mx0JTj7a",
        "outputId": "97383a7a-c945-4af1-a9d6-ec6ce2273b70"
      },
      "execution_count": 51,
      "outputs": [
        {
          "output_type": "stream",
          "name": "stdout",
          "text": [
            "Loop dimulai\n",
            "Memproses pasangan (1, 2)\n",
            "Jarak dokumen 1 dan 2: 3.1622776601683795\n",
            "Memproses pasangan (1, 3)\n",
            "Jarak dokumen 1 dan 3: 3.7416573867739413\n",
            "Memproses pasangan (2, 3)\n",
            "Jarak dokumen 2 dan 3: 3.4641016151377544\n"
          ]
        }
      ]
    },
    {
      "cell_type": "code",
      "source": [
        "print(\"Loop dimulai\")\n",
        "for i in range(len(vectorized_x)):\n",
        "    for j in range(i , len(vectorized_x)):  # Mulai dari i + 1 agar tidak menghitung ulang\n",
        "        if i == j:\n",
        "            print(f'Melewati perhitungan jarak untuk dokumen {i+1} dan {j+1} (karena sama)')\n",
        "            continue  # Melewati perhitungan untuk pasangan dokumen yang sama\n",
        "        print(f\"Memproses pasangan ({i+1}, {j+1})\")\n",
        "        jarak = euclidean_distances([vectorized_x[i]], [vectorized_x[j]])\n",
        "        print(f'Jarak dokumen {i+1} dan {j+1}: {jarak}')"
      ],
      "metadata": {
        "colab": {
          "base_uri": "https://localhost:8080/"
        },
        "id": "EC_I5jAOWfpU",
        "outputId": "04d37398-a6cf-4f5e-e51d-3cadce8b5790"
      },
      "execution_count": 54,
      "outputs": [
        {
          "output_type": "stream",
          "name": "stdout",
          "text": [
            "Loop dimulai\n",
            "Melewati perhitungan jarak untuk dokumen 1 dan 1 (karena sama)\n",
            "Memproses pasangan (1, 2)\n",
            "Jarak dokumen 1 dan 2: [[3.16227766]]\n",
            "Memproses pasangan (1, 3)\n",
            "Jarak dokumen 1 dan 3: [[3.74165739]]\n",
            "Melewati perhitungan jarak untuk dokumen 2 dan 2 (karena sama)\n",
            "Memproses pasangan (2, 3)\n",
            "Jarak dokumen 2 dan 3: [[3.46410162]]\n",
            "Melewati perhitungan jarak untuk dokumen 3 dan 3 (karena sama)\n"
          ]
        }
      ]
    },
    {
      "cell_type": "markdown",
      "source": [
        "# Stop word filtering"
      ],
      "metadata": {
        "id": "d4yeC7VGXAK4"
      }
    },
    {
      "cell_type": "markdown",
      "source": [
        "Stop word filtering adalah proses menghapus kata-kata yang dianggap tidak penting dalam analisis teks, seperti kata-kata umum yang tidak memberikan banyak informasi, misalnya \"the\", \"and\", \"is\", \"in\", dll. Tujuan utama dari stop word filtering adalah untuk menyederhanakan data teks dan meningkatkan kualitas analisis teks, seperti dalam klasifikasi teks atau pemodelan bahasa."
      ],
      "metadata": {
        "id": "fVVVRyddXOwd"
      }
    },
    {
      "cell_type": "code",
      "source": [
        "dataset = corpus\n",
        "dataset"
      ],
      "metadata": {
        "colab": {
          "base_uri": "https://localhost:8080/"
        },
        "id": "wn92K2Z1XHoa",
        "outputId": "56aa9a4b-1685-4511-e502-84a3dcd514c6"
      },
      "execution_count": 55,
      "outputs": [
        {
          "output_type": "execute_result",
          "data": {
            "text/plain": [
              "['linux has been around since the mid-1990s.',\n",
              " 'linux distributions include the linux kernel.',\n",
              " 'linux is one of the most prominent open-source software.']"
            ]
          },
          "metadata": {},
          "execution_count": 55
        }
      ]
    },
    {
      "cell_type": "markdown",
      "source": [
        "#stop word filtering menggunkan countVectorizer"
      ],
      "metadata": {
        "id": "PjGJjxx4YtfP"
      }
    },
    {
      "cell_type": "code",
      "source": [
        "from sklearn.feature_extraction.text import CountVectorizer\n",
        "\n",
        "vectorizer_0 = CountVectorizer(stop_words='english')\n",
        "vectorized_x = vectorizer_0.fit_transform(dataset).todense()\n",
        "vectorized_x"
      ],
      "metadata": {
        "colab": {
          "base_uri": "https://localhost:8080/"
        },
        "id": "pn0psASTYrgi",
        "outputId": "fdeb0241-f519-4715-f5f5-19f3b3ec45e9"
      },
      "execution_count": 57,
      "outputs": [
        {
          "output_type": "execute_result",
          "data": {
            "text/plain": [
              "matrix([[1, 0, 0, 0, 1, 1, 0, 0, 0, 0],\n",
              "        [0, 1, 1, 1, 2, 0, 0, 0, 0, 0],\n",
              "        [0, 0, 0, 0, 1, 0, 1, 1, 1, 1]])"
            ]
          },
          "metadata": {},
          "execution_count": 57
        }
      ]
    },
    {
      "cell_type": "code",
      "source": [
        "vectorizer_0.get_feature_names_out()"
      ],
      "metadata": {
        "colab": {
          "base_uri": "https://localhost:8080/"
        },
        "id": "cHWlI8khY-ii",
        "outputId": "0351c174-07be-4dce-c5eb-bc39e666e108"
      },
      "execution_count": 58,
      "outputs": [
        {
          "output_type": "execute_result",
          "data": {
            "text/plain": [
              "array(['1990s', 'distributions', 'include', 'kernel', 'linux', 'mid',\n",
              "       'open', 'prominent', 'software', 'source'], dtype=object)"
            ]
          },
          "metadata": {},
          "execution_count": 58
        }
      ]
    }
  ]
}