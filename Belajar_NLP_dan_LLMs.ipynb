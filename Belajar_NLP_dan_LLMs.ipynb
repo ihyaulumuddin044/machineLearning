{
  "nbformat": 4,
  "nbformat_minor": 0,
  "metadata": {
    "colab": {
      "provenance": [],
      "authorship_tag": "ABX9TyPO44bhezBHJ43jY1NxnieY",
      "include_colab_link": true
    },
    "kernelspec": {
      "name": "python3",
      "display_name": "Python 3"
    },
    "language_info": {
      "name": "python"
    }
  },
  "cells": [
    {
      "cell_type": "markdown",
      "metadata": {
        "id": "view-in-github",
        "colab_type": "text"
      },
      "source": [
        "<a href=\"https://colab.research.google.com/github/ihyaulumuddin044/machineLearning/blob/main/Belajar_NLP_dan_LLMs.ipynb\" target=\"_parent\"><img src=\"https://colab.research.google.com/assets/colab-badge.svg\" alt=\"Open In Colab\"/></a>"
      ]
    },
    {
      "cell_type": "markdown",
      "source": [
        "#LLM (Large Language Model) dan NLP (Natural Language Processing)\n",
        "\n",
        "adalah dua konsep yang terkait erat dalam kecerdasan buatan, khususnya dalam pemrosesan bahasa alami. NLP adalah disiplin ilmu yang fokus pada kemampuan komputer untuk memahami, menginterpretasikan, dan menghasilkan bahasa manusia. Sementara itu, LLM adalah jenis model pembelajaran mesin yang digunakan dalam NLP untuk melakukan tugas-tugas pemrosesan bahasa alami, seperti memahami dan menghasilkan teks, dengan kemampuan yang lebih canggih.\n",
        "Elaborasi:\n",
        "\n",
        "\n",
        "NLP (Natural Language Processing):\n",
        "NLP adalah bidang yang lebih luas yang mencakup berbagai teknik dan algoritma yang memungkinkan komputer untuk berinteraksi dengan bahasa manusia. NLP mencakup tugas-tugas seperti analisis sintaks, analisis semantik, dan pemrosesan teks.\n",
        "\n",
        "\n",
        "LLM (Large Language Model):\n",
        "LLM adalah model pembelajaran mesin yang lebih spesifik, yang dilatih pada data teks yang sangat besar untuk mempelajari pola dan struktur bahasa. LLM memiliki kemampuan untuk menghasilkan teks yang koheren, relevan, dan bahkan kreatif.\n",
        "Perbedaan Utama:\n",
        "\n",
        "\n",
        "NLP adalah bidang yang lebih luas yang mencakup berbagai teknik, sementara LLM adalah jenis model yang digunakan dalam NLP. NLP dapat menggunakan berbagai model, termasuk LLM, untuk mencapai tujuan-tujuannya.\n",
        "Contoh Penerapan:\n",
        "\n",
        "\n",
        "NLP digunakan dalam berbagai aplikasi, seperti asisten virtual (Siri, Alexa, Google Assistant), penerjemahan otomatis, analisis sentimen, dan chatbot. LLM digunakan untuk menghasilkan teks, menjawab pertanyaan, dan bahkan menghasilkan konten baru.\n",
        "\n",
        "\n",
        "Hubungan:\n",
        "\n",
        "\n",
        "LLM adalah salah satu jenis model yang digunakan dalam NLP. NLP menggunakan LLM untuk melakukan tugas-tugas pemrosesan bahasa alami, seperti memahami dan menghasilkan teks.\n",
        "Kesimpulan:\n",
        "NLP adalah bidang yang lebih luas yang berfokus pada kemampuan komputer untuk berinteraksi dengan bahasa manusia, sementara LLM adalah jenis model pembelajaran mesin yang digunakan dalam NLP untuk melakukan tugas-tugas pemrosesan bahasa alami. LLM merupakan bagian penting dari NLP, yang membantu komputer untuk memahami dan menghasilkan bahasa manusia dengan lebih baik."
      ],
      "metadata": {
        "id": "PvZtPpeZaxM4"
      }
    },
    {
      "cell_type": "code",
      "execution_count": 4,
      "metadata": {
        "id": "3BbY5by1S8pz"
      },
      "outputs": [],
      "source": [
        "import tensorflow as tf\n",
        "import numpy as np\n",
        "from tensorflow.keras.preprocessing.text import Tokenizer\n",
        "from tensorflow.keras.preprocessing.sequence import pad_sequences\n",
        "from tensorflow.keras.models import Sequential\n",
        "from tensorflow.keras.layers import Embedding, LSTM, Dense"
      ]
    },
    {
      "cell_type": "markdown",
      "source": [
        "# Dense layer from scratch"
      ],
      "metadata": {
        "id": "v242VuNXbObE"
      }
    },
    {
      "cell_type": "code",
      "source": [
        "class MyDenseLayer(tf.keras.layers.Layer):\n",
        "    def __init__(self, input_dim, output_dim):\n",
        "        super(MyDenseLayer, self).__init__()\n",
        "\n",
        "        # inisialisasi bobot dan bias\n",
        "        self.W = self.add_weight(shape=(input_dim, output_dim),\n",
        "                                 initializer='random_normal',\n",
        "                                 trainable=True)\n",
        "        self.b = self.add_weight(shape=(1, output_dim),\n",
        "                                 initializer='zeros',\n",
        "                                 trainable=True)\n",
        "\n",
        "    def call(self, inputs):\n",
        "        z = tf.matmul(inputs, self.W) + self.b\n",
        "        output = tf.math.sigmoid(z)\n",
        "        return output\n",
        "\n",
        "layer = MyDenseLayer(3, 2)  # 3 input → 2 output neuron\n",
        "\n",
        "# Coba input data\n",
        "x = tf.constant(np.array([[1.0, 2.0, 3.0]]), dtype=tf.float32)\n",
        "\n",
        "output = layer(x)\n",
        "print(\"Output:\", output.numpy())\n"
      ],
      "metadata": {
        "colab": {
          "base_uri": "https://localhost:8080/"
        },
        "id": "OINmdRo9bKSV",
        "outputId": "e5a3a653-1769-4590-a915-99bbb6857c6e"
      },
      "execution_count": 17,
      "outputs": [
        {
          "output_type": "stream",
          "name": "stdout",
          "text": [
            "Output: [[0.4247275  0.46438032]]\n"
          ]
        }
      ]
    },
    {
      "cell_type": "code",
      "source": [
        "# prompt: buatkan dense layer dengan PyTroch\n",
        "\n",
        "import torch\n",
        "import torch.nn as nn\n",
        "\n",
        "# Define a simple Dense layer using PyTorch\n",
        "class PyTorchDenseLayer2(nn.Module):\n",
        "    def __init__(self, input_din, output_dim):\n",
        "     super(PyTorchDenseLayer2, self).__init__()\n",
        "\n",
        "     self.W = nn.Parameter(torch.randn(input_din, output_dim, requires_grad=True))\n",
        "     self.b = nn.Parameter(torch.randn(1, output_dim, requires_grad=True))\n",
        "\n",
        "    def forward(self, inputs):\n",
        "\n",
        "        z = torch.matmul(inputs, self.W) + self.b\n",
        "        output = torch.sigmoid(z)\n",
        "        return output\n",
        "\n",
        "\n"
      ],
      "metadata": {
        "id": "4f0qsj6wdiyS"
      },
      "execution_count": 9,
      "outputs": []
    }
  ]
}